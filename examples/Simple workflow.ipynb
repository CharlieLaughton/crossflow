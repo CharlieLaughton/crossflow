{
 "cells": [
  {
   "cell_type": "markdown",
   "metadata": {},
   "source": [
    "# A Crossflow workflow\n",
    "\n",
    "This notebook illustrates a basic Crossflow workflow, with scatter, parallel processing, and gather steps.\n",
    "\n",
    "The workflow:\n",
    "\n",
    "1. Splits an input text file into pieces\n",
    "2. In parallel, reverses the order of the lines in each piece\n",
    "3. Stitches the reversed pieces back together"
   ]
  },
  {
   "cell_type": "code",
   "execution_count": 1,
   "metadata": {},
   "outputs": [],
   "source": [
    "from crossflow import clients, kernels, filehandling\n",
    "from pathlib import Path"
   ]
  },
  {
   "cell_type": "markdown",
   "metadata": {},
   "source": [
    "Start a client that serves a temporary compute cluster that is launched on the current machine:"
   ]
  },
  {
   "cell_type": "code",
   "execution_count": 2,
   "metadata": {},
   "outputs": [
    {
     "data": {
      "text/html": [
       "<table style=\"border: 2px solid white;\">\n",
       "<tr>\n",
       "<td style=\"vertical-align: top; border: 0px solid white\">\n",
       "<h3 style=\"text-align: left;\">Client</h3>\n",
       "<ul style=\"text-align: left; list-style: none; margin: 0; padding: 0;\">\n",
       "  <li><b>Scheduler: </b>tcp://127.0.0.1:53972</li>\n",
       "</ul>\n",
       "</td>\n",
       "<td style=\"vertical-align: top; border: 0px solid white\">\n",
       "<h3 style=\"text-align: left;\">Cluster</h3>\n",
       "<ul style=\"text-align: left; list-style:none; margin: 0; padding: 0;\">\n",
       "  <li><b>Workers: </b>4</li>\n",
       "  <li><b>Cores: </b>8</li>\n",
       "  <li><b>Memory: </b>17.18 GB</li>\n",
       "</ul>\n",
       "</td>\n",
       "</tr>\n",
       "</table>"
      ],
      "text/plain": [
       "<Client: 'tcp://127.0.0.1:53972' processes=4 threads=8, memory=17.18 GB>"
      ]
     },
     "execution_count": 2,
     "metadata": {},
     "output_type": "execute_result"
    }
   ],
   "source": [
    "client = clients.Client(local=True)\n",
    "client.client"
   ]
  },
  {
   "cell_type": "markdown",
   "metadata": {},
   "source": [
    "Create a text file of 25 lines:"
   ]
  },
  {
   "cell_type": "code",
   "execution_count": 3,
   "metadata": {},
   "outputs": [],
   "source": [
    "here = Path('.')\n",
    "input_file = here /'input.txt'\n",
    "with input_file.open('w') as f:\n",
    "    for i in range(25):\n",
    "        f.write('line {}\\n'.format(i))"
   ]
  },
  {
   "cell_type": "markdown",
   "metadata": {},
   "source": [
    "Create the three kernels required: one to split up the initial text file, one to reverse the order of the lines, one to join the pieces back together again.\n",
    "\n",
    "We are going to use the standard unix `split`, `tail` and `cat` commands, to illustrate how tools usually used via the command line can be converted into Python functions.\n",
    "\n",
    "**Note**: some flavours of Unix do not support `tail -r`; in such cases `tac` will do the same job."
   ]
  },
  {
   "cell_type": "code",
   "execution_count": 4,
   "metadata": {},
   "outputs": [],
   "source": [
    "# Create a SubprocessKernel that will split up the input file:\n",
    "splitter = kernels.SubprocessKernel('split -l 5 input.txt')\n",
    "splitter.set_inputs(['input.txt'])\n",
    "splitter.set_outputs(['xaa', 'xab', 'xac', 'xad', 'xae'])\n",
    "\n",
    "# Create a SubprocessKernel to reverse the order of the lines in a file:\n",
    "reverser = kernels.SubprocessKernel('tail -r input > output')\n",
    "#reverser = kernels.SubprocessKernel('tac input > output')\n",
    "reverser.set_inputs(['input'])\n",
    "reverser.set_outputs(['output'])\n",
    "\n",
    "# Create a Subprocesskernel that will join input files together:\n",
    "joiner = kernels.SubprocessKernel('cat * > output')\n",
    "joiner.set_inputs(['*'])\n",
    "joiner.set_outputs(['output'])"
   ]
  },
  {
   "cell_type": "markdown",
   "metadata": {},
   "source": [
    "Arguments to command-line tools are typically the *names* of files. Because Crossflow is designed for use with distributed computing resources where filesyatems may not be shared, it uses portable FileHandles to refer to input and output files:"
   ]
  },
  {
   "cell_type": "code",
   "execution_count": 5,
   "metadata": {},
   "outputs": [],
   "source": [
    "# Convert the input datafile into Crossflow FileHandle objects:\n",
    "fh = filehandling.FileHandler()\n",
    "input_data = fh.load(input_file)"
   ]
  },
  {
   "cell_type": "markdown",
   "metadata": {},
   "source": [
    "Here is the workflow, using the client's .submit() and .map() methods:"
   ]
  },
  {
   "cell_type": "code",
   "execution_count": 6,
   "metadata": {},
   "outputs": [],
   "source": [
    "# First split the file into pieces:\n",
    "pieces = client.submit(splitter, input_data)\n",
    "# 'pieces' is a tuple, convert to a list and process each piece in parallel:\n",
    "reversed_pieces = client.map(reverser, list(pieces))\n",
    "# Stitch the reversed pieces back together again:\n",
    "output = client.submit(joiner, reversed_pieces)"
   ]
  },
  {
   "cell_type": "markdown",
   "metadata": {},
   "source": [
    "The client returns its outputs as `Futures`, while these can be passed as-is between kernels, when it comes to getting at the final data, you need to call their .result() method:"
   ]
  },
  {
   "cell_type": "code",
   "execution_count": 7,
   "metadata": {},
   "outputs": [
    {
     "name": "stdout",
     "output_type": "stream",
     "text": [
      "line 4\n",
      "line 3\n",
      "line 2\n",
      "line 1\n",
      "line 0\n",
      "line 9\n",
      "line 8\n",
      "line 7\n",
      "line 6\n",
      "line 5\n",
      "line 14\n",
      "line 13\n",
      "line 12\n",
      "line 11\n",
      "line 10\n",
      "line 19\n",
      "line 18\n",
      "line 17\n",
      "line 16\n",
      "line 15\n",
      "line 24\n",
      "line 23\n",
      "line 22\n",
      "line 21\n",
      "line 20\n",
      "\n"
     ]
    }
   ],
   "source": [
    "output_filehandle = output.result()\n",
    "# Save the output FileHandle object as a file, and list its contents:\n",
    "output_file = here / 'output.txt'\n",
    "output_filehandle.save(output_file)\n",
    "print(output_file.read_text())"
   ]
  },
  {
   "cell_type": "code",
   "execution_count": null,
   "metadata": {},
   "outputs": [],
   "source": []
  }
 ],
 "metadata": {
  "kernelspec": {
   "display_name": "Python 3",
   "language": "python",
   "name": "python3"
  },
  "language_info": {
   "codemirror_mode": {
    "name": "ipython",
    "version": 3
   },
   "file_extension": ".py",
   "mimetype": "text/x-python",
   "name": "python",
   "nbconvert_exporter": "python",
   "pygments_lexer": "ipython3",
   "version": "3.7.6"
  }
 },
 "nbformat": 4,
 "nbformat_minor": 4
}
