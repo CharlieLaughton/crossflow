{
 "cells": [
  {
   "cell_type": "markdown",
   "metadata": {},
   "source": [
    "# Reverse Docking\n",
    "\n",
    "This notebook demonstrates how a variety of different tools can be glued together into an efficient and flexible workflow using **Crossflow**.\n",
    "\n",
    "The workflow docks a ligand (PRZ) to a set of protein structures (taken from the cryptosite database).\n",
    "\n",
    "The notebook requires you to have versions of **fpocket**, **autodock tools** and **autodock vina** installed on the worker node(s) of your dask cluster, which is up and running and identifiable via the file \"scheduler.json\" file or equivalent (created when dask-scheduler is started with the `--scheduler_file` option)"
   ]
  },
  {
   "cell_type": "code",
   "execution_count": 2,
   "metadata": {},
   "outputs": [],
   "source": [
    "from crossflow import filehandling, tasks, clients\n",
    "import sys\n",
    "from urllib.request import urlretrieve\n",
    "import numpy as np\n",
    "import mdtraj as mdt"
   ]
  },
  {
   "cell_type": "markdown",
   "metadata": {},
   "source": [
    "Create a crossflow client, connected to a pool of workers:"
   ]
  },
  {
   "cell_type": "code",
   "execution_count": 38,
   "metadata": {},
   "outputs": [
    {
     "name": "stdout",
     "output_type": "stream",
     "text": [
      "34.89.76.184:8786\n"
     ]
    },
    {
     "name": "stderr",
     "output_type": "stream",
     "text": [
      "/Users/pazcal/miniconda3/envs/py38/lib/python3.8/site-packages/distributed-2.26.0-py3.8.egg/distributed/client.py:1130: VersionMismatchWarning: Mismatched versions found\n",
      "\n",
      "+---------+---------------+---------------+---------------+\n",
      "| Package | client        | scheduler     | workers       |\n",
      "+---------+---------------+---------------+---------------+\n",
      "| numpy   | 1.19.2        | 1.19.2        | None          |\n",
      "| python  | 3.8.5.final.0 | 3.8.2.final.0 | 3.8.2.final.0 |\n",
      "+---------+---------------+---------------+---------------+\n",
      "  warnings.warn(version_module.VersionMismatchWarning(msg[0][\"warning\"]))\n"
     ]
    },
    {
     "data": {
      "text/html": [
       "<table style=\"border: 2px solid white;\">\n",
       "<tr>\n",
       "<td style=\"vertical-align: top; border: 0px solid white\">\n",
       "<h3 style=\"text-align: left;\">Client</h3>\n",
       "<ul style=\"text-align: left; list-style: none; margin: 0; padding: 0;\">\n",
       "  <li><b>Scheduler: </b>tcp://34.89.76.184:8786</li>\n",
       "  <li><b>Dashboard: </b><a href='http://34.89.76.184:8787/status' target='_blank'>http://34.89.76.184:8787/status</a></li>\n",
       "</ul>\n",
       "</td>\n",
       "<td style=\"vertical-align: top; border: 0px solid white\">\n",
       "<h3 style=\"text-align: left;\">Cluster</h3>\n",
       "<ul style=\"text-align: left; list-style:none; margin: 0; padding: 0;\">\n",
       "  <li><b>Workers: </b>5</li>\n",
       "  <li><b>Cores: </b>5</li>\n",
       "  <li><b>Memory: </b>20.99 GB</li>\n",
       "</ul>\n",
       "</td>\n",
       "</tr>\n",
       "</table>"
      ],
      "text/plain": [
       "<Client: 'tcp://10.154.0.2:8786' processes=5 threads=5, memory=20.99 GB>"
      ]
     },
     "execution_count": 38,
     "metadata": {},
     "output_type": "execute_result"
    }
   ],
   "source": [
    "scheduler_file = None # replace with the path to yours\n",
    "client = clients.Client(scheduler_file=scheduler_file)\n",
    "client.client"
   ]
  },
  {
   "cell_type": "markdown",
   "metadata": {},
   "source": [
    "Make the SubprocessTasks for **fpocket** and **Vina**, and FunctionTasks for other tasks:"
   ]
  },
  {
   "cell_type": "code",
   "execution_count": 39,
   "metadata": {},
   "outputs": [],
   "source": [
    "# The provisioning task - run on all workers before they do anything else\n",
    "provision = tasks.SubprocessTask('chmod +x provision.sh && ./provision.sh')\n",
    "provision.set_inputs(['provision.sh'])\n",
    "provision.set_outputs(['STDOUT'])"
   ]
  },
  {
   "cell_type": "code",
   "execution_count": 40,
   "metadata": {},
   "outputs": [],
   "source": [
    "# The fpocket task:\n",
    "fpocket = tasks.SubprocessTask('fpocket -f x.pdb')\n",
    "fpocket.set_inputs(['x.pdb'])\n",
    "fpocket.set_outputs(['x_out/x_out.pdb'])"
   ]
  },
  {
   "cell_type": "code",
   "execution_count": 41,
   "metadata": {},
   "outputs": [],
   "source": [
    "# The vina task:\n",
    "vina = tasks.SubprocessTask('vina --receptor r.pdbqt --ligand l.pdbqt --out out.pdbqt --log dock.log'\n",
    "                                 ' --center_x {xc} --center_y {yc} --center_z {zc}'\n",
    "                                 ' --size_x {sx} --size_y {sy} --size_z {sz}')\n",
    "vina.set_inputs(['r.pdbqt', 'l.pdbqt', 'xc', 'yc', 'zc', 'sx', 'sy', 'sz'])\n",
    "vina.set_outputs(['out.pdbqt', 'dock.log'])"
   ]
  },
  {
   "cell_type": "code",
   "execution_count": 42,
   "metadata": {},
   "outputs": [],
   "source": [
    "# AutoDock Tool based tasks to prepare receptor and ligand for docking:\n",
    "prep_receptor = tasks.SubprocessTask('adt prepare_receptor4.py -r x.pdb -o x.pdbqt')\n",
    "prep_receptor.set_inputs(['x.pdb'])\n",
    "prep_receptor.set_outputs(['x.pdbqt'])\n",
    "\n",
    "prep_ligand = tasks.SubprocessTask('adt prepare_ligand4.py -l x.pdb -o x.pdbqt')\n",
    "prep_ligand.set_inputs(['x.pdb'])\n",
    "prep_ligand.set_outputs(['x.pdbqt'])"
   ]
  },
  {
   "cell_type": "code",
   "execution_count": 43,
   "metadata": {},
   "outputs": [],
   "source": [
    "def download_and_select(pdb_code, chain_name):\n",
    "    '''\n",
    "    A function to download a pdb file, and extract just the given chain\n",
    "    \n",
    "    Args:\n",
    "        pdb_code (str): 4-letter PDB code\n",
    "        chain_name (str): 1-letter chain ID\n",
    "        \n",
    "    Returns:\n",
    "        mdt.trajectory: the receptor (protein atoms only)\n",
    "    '''\n",
    "    pdb_file = pdb_code + '.pdb'\n",
    "    path = urlretrieve('http://files.rcsb.org/download/' + pdb_file, pdb_file)\n",
    "    with open(pdb_file) as f:\n",
    "        chain_ids = []\n",
    "        for line in f.readlines():\n",
    "            if 'CHAIN:' in line:\n",
    "                chain_ids += [c[0] for c in line.split()[3:]]\n",
    "                \n",
    "    full_system = mdt.load(pdb_file)\n",
    "    cid = chain_ids.index(chain_name)\n",
    "    receptor_atoms = full_system.topology.select('protein and chainid {}'.format(cid))\n",
    "    receptor = mdt.load(pdb_file, atom_indices=receptor_atoms)\n",
    "    return receptor"
   ]
  },
  {
   "cell_type": "code",
   "execution_count": 44,
   "metadata": {},
   "outputs": [],
   "source": [
    "def _pdbqt2pdb(infile):\n",
    "    '''\n",
    "    A Function to convert pdbqt files back to pdb ones\n",
    "    \n",
    "    Args:\n",
    "        infile (str): name of the input file, .pdbqt format\n",
    "    \n",
    "    Returns:\n",
    "        str: name of the .pdb file (always 'tmp.pdb')\n",
    "    '''\n",
    "    outfile = 'tmp.pdb'\n",
    "    fout = open(outfile, 'w')\n",
    "    with open(infile, 'r') as fin:\n",
    "        for line in fin:\n",
    "            if line[1:6] in 'ATOM  MODEL ENDMDL':\n",
    "                fout.write(line)       \n",
    "    fout.close()\n",
    "    return 'tmp.pdb'\n",
    "\n",
    "# Now make a FunctionTask for this:\n",
    "pdbqt2pdb = tasks.FunctionTask(_pdbqt2pdb)\n",
    "pdbqt2pdb.set_inputs(['infile'])\n",
    "pdbqt2pdb.set_outputs(['outfile'])"
   ]
  },
  {
   "cell_type": "code",
   "execution_count": 45,
   "metadata": {},
   "outputs": [],
   "source": [
    "def _get_dimensions(pockets):\n",
    "    '''\n",
    "    A Function to find the centre and extents of each of the pockets found by fpocket\n",
    "    \n",
    "    Args:\n",
    "        pockets (str): Name of the pdb format file produced by fpocket\n",
    "        \n",
    "    Returns:\n",
    "        (list,) * 6: the pocket centres and extents in x/y/z - in Angstroms\n",
    "    '''\n",
    "    buffer = 2.0\n",
    "    t = mdt.load(pockets)\n",
    "    n_pockets = len([r for r in t.topology.residues if r.name == 'STP'])\n",
    "    xcs = []\n",
    "    ycs = []\n",
    "    zcs = []\n",
    "    sxs = []\n",
    "    sys = []\n",
    "    szs = []\n",
    "    for ip in range(n_pockets):\n",
    "        site = t.topology.select('resname STP and residue {}'.format(ip + 1))\n",
    "        # In the next two lines, the factor of 10 is a conversion from nanometres to Angstroms:\n",
    "        xc, yc, zc = tuple(10 * (t.xyz[0][site].min(axis=0) + t.xyz[0][site].max(axis=0)) / 2)\n",
    "        sx, sy, sz = tuple(10 * (t.xyz[0][site].max(axis=0) - t.xyz[0][site].min(axis=0)) + buffer)\n",
    "        xcs.append(xc)\n",
    "        ycs.append(yc)\n",
    "        zcs.append(zc)\n",
    "        sxs.append(sx)\n",
    "        sys.append(sy)\n",
    "        szs.append(sz)\n",
    "    return xcs, ycs, zcs, sxs, sys, szs\n",
    "\n",
    "# Now make a FunctionTask for this:\n",
    "get_dimensions = tasks.FunctionTask(_get_dimensions)\n",
    "get_dimensions.set_inputs(['pockets'])\n",
    "get_dimensions.set_outputs(['xcs', 'ycs', 'zcs', 'sxs', 'sys', 'szs'])"
   ]
  },
  {
   "cell_type": "code",
   "execution_count": 50,
   "metadata": {},
   "outputs": [
    {
     "name": "stdout",
     "output_type": "stream",
     "text": [
      "Collecting numpy\n",
      "  Downloading numpy-1.19.2-cp38-cp38-manylinux2010_x86_64.whl (14.5 MB)\n",
      "Collecting cython\n",
      "  Downloading Cython-0.29.21-cp38-cp38-manylinux1_x86_64.whl (1.9 MB)\n",
      "Installing collected packages: numpy, cython\n",
      "Successfully installed cython-0.29.21 numpy-1.19.2\n",
      "Collecting mdtraj\n",
      "  Downloading mdtraj-1.9.4.tar.gz (2.1 MB)\n",
      "  Installing build dependencies: started\n",
      "  Installing build dependencies: finished with status 'done'\n",
      "  Getting requirements to build wheel: started\n",
      "  Getting requirements to build wheel: finished with status 'done'\n",
      "    Preparing wheel metadata: started\n",
      "    Preparing wheel metadata: finished with status 'done'\n",
      "Collecting scipy\n",
      "  Downloading scipy-1.5.2-cp38-cp38-manylinux1_x86_64.whl (25.7 MB)\n",
      "Collecting pyparsing\n",
      "  Downloading pyparsing-2.4.7-py2.py3-none-any.whl (67 kB)\n",
      "Collecting astor\n",
      "  Downloading astor-0.8.1-py2.py3-none-any.whl (27 kB)\n",
      "Requirement already satisfied: numpy>=1.6 in /usr/local/lib/python3.8/dist-packages (from mdtraj) (1.19.2)\n",
      "Building wheels for collected packages: mdtraj\n",
      "  Building wheel for mdtraj (PEP 517): started\n",
      "  Building wheel for mdtraj (PEP 517): still running...\n",
      "  Building wheel for mdtraj (PEP 517): finished with status 'done'\n",
      "  Created wheel for mdtraj: filename=mdtraj-1.9.4-cp38-cp38-linux_x86_64.whl size=8379781 sha256=86f4d2470ffb11631a6572d24d7693f6b2281e845f538b3345c6d467cbe5dfbe\n",
      "  Stored in directory: /root/.cache/pip/wheels/9d/0d/e9/b4dc5cf3b88db1d42a96eb14a48cd545f5ac31e550c9321557\n",
      "Successfully built mdtraj\n",
      "Installing collected packages: scipy, pyparsing, astor, mdtraj\n",
      "Successfully installed astor-0.8.1 mdtraj-1.9.4 pyparsing-2.4.7 scipy-1.5.2\n",
      "Requirement already satisfied: pinda in /usr/local/lib/python3.8/dist-packages (0.1.9)\n",
      "Requirement already satisfied: pyyaml in /usr/lib/python3/dist-packages (from pinda) (5.3.1)\n",
      "Requirement already satisfied: requests in /usr/lib/python3/dist-packages (from pinda) (2.22.0)\n",
      "Succesfully installed fpocket 3.0\n",
      "Succesfully installed vina 1.1.2\n",
      "\n"
     ]
    }
   ],
   "source": [
    "fh = filehandling.FileHandler()\n",
    "provisionscript = fh.load('provision.dat')\n",
    "results = client.map(provision, [provisionscript] * 8) # >= max number of workers\n",
    "print(results[0].result())"
   ]
  },
  {
   "cell_type": "markdown",
   "metadata": {},
   "source": [
    "Now we construct the workflow. For convenience it's split up here into sections."
   ]
  },
  {
   "cell_type": "code",
   "execution_count": 47,
   "metadata": {},
   "outputs": [
    {
     "name": "stdout",
     "output_type": "stream",
     "text": [
      "['2iuz', '1yv3', '2jds', '1lic', '2hka', '3eks', '1nx3', '2yqs', '2wi7', '1br6', '1j6z', '1tr5', '1fqc', '2hvd', '3f82', '1g67', '3bqm', '1ftl', '1d6y', '1ey3', '1pzy', '1xvc', '1imb', '2piq', '1ha3', '3lth', '3dhh', '1ctr', '3h9j', '3hok', '2wkw', '1ghy', '1oke', '3hzt', '2egh', '3ip0', '2bu2', '2ohv', '3gqz', '2w5k', '1cib', '2ofp', '2ixu', '3bl7', '1ryo', '2q8h', '2iyq', '1gky', '1s9d', '1ecc', '2h4k', '1eyj', '2brl', '3fqk', '2gz7', '2v57', '1cib', '1l5s', '3ixj', '2al4', '3hqp', '1u1d', '2oo8', '1q0b', '2npq', '2bys', '2gir', '3cfn', '1afq', '1ow3', '3hl8', '1ank', '3hl7', '2ieg', '2eum', '3dc1', '1t49', '1gzf', '3fgo', '1za1']\n"
     ]
    }
   ],
   "source": [
    "ligand = fh.load('prz.pdb')\n",
    "with open('complexes.list') as f:\n",
    "    receptors = f.readlines()\n",
    "pdbcodes = [r[:4].lower() for r in receptors]\n",
    "chain_ids = [r[4] for r in receptors]\n",
    "print(pdbcodes)"
   ]
  },
  {
   "cell_type": "code",
   "execution_count": 48,
   "metadata": {},
   "outputs": [],
   "source": [
    "def best_affinity(logfiles):\n",
    "    '''\n",
    "    Return the affinity of the top-ranked pose\n",
    "    '''\n",
    "    best_a = 0.0\n",
    "    for logfile in logfiles:\n",
    "        for line in logfile.result().read_text().split('\\n'):\n",
    "            if '   1   ' in line:\n",
    "                best_a = min(float(line.split()[1]), best_a)\n",
    "    return best_a\n",
    "\n",
    "# prepare ligand for docking\n",
    "ligand_qt = client.submit(prep_ligand, ligand)"
   ]
  },
  {
   "cell_type": "code",
   "execution_count": 51,
   "metadata": {},
   "outputs": [
    {
     "name": "stdout",
     "output_type": "stream",
     "text": [
      "2iuz -5.2\n",
      "1yv3 -6.5\n",
      "2jds -5.4\n",
      "1lic -4.8\n",
      "2hka -5.5\n",
      "3eks -5.4\n",
      "1nx3 -4.8\n",
      "2yqs -4.9\n",
      "2wi7 -5.4\n",
      "1br6 -5.3\n",
      "1j6z -5.8\n",
      "1tr5 -5.3\n",
      "1fqc -5.3\n",
      "2hvd -4.5\n",
      "3f82 -5.2\n",
      "1g67 -5.1\n",
      "3bqm -5.4\n",
      "1ftl -4.8\n",
      "1d6y -5.1\n",
      "1ey3 -5.0\n",
      "1pzy -5.4\n",
      "1xvc -5.9\n",
      "1imb -4.9\n",
      "2piq -5.3\n",
      "1ha3 -5.0\n",
      "3lth -5.0\n",
      "3dhh -4.1\n",
      "1ctr -4.4\n",
      "3h9j -4.8\n",
      "3hok -5.1\n",
      "2wkw -4.5\n",
      "1ghy -5.0\n",
      "1oke -4.9\n",
      "3hzt -5.3\n",
      "2egh -5.6\n",
      "3ip0 -6.4\n",
      "2bu2 -5.8\n",
      "2ohv -5.1\n",
      "3gqz -5.2\n",
      "2w5k -4.0\n",
      "1cib -5.4\n",
      "2ofp -4.7\n",
      "2ixu -4.4\n",
      "3bl7 -4.4\n",
      "1ryo -5.8\n",
      "2q8h -5.0\n",
      "2iyq -5.7\n",
      "1gky -5.5\n",
      "1s9d -4.9\n",
      "1ecc -5.8\n",
      "2h4k -5.2\n",
      "1eyj -4.7\n",
      "2brl -4.8\n",
      "3fqk -5.3\n",
      "2gz7 -4.5\n",
      "2v57 -5.2\n",
      "1cib -5.3\n",
      "1l5s -5.6\n",
      "3ixj -5.3\n",
      "2al4 -4.3\n",
      "3hqp -5.8\n",
      "1u1d -4.9\n",
      "2oo8 -5.1\n",
      "1q0b -5.6\n",
      "2npq -5.3\n",
      "2bys -6.2\n",
      "2gir -5.1\n",
      "3cfn -4.2\n",
      "1afq -5.0\n",
      "1ow3 -5.0\n",
      "3hl8 -5.4\n",
      "1ank -5.8\n",
      "3hl7 -6.0\n",
      "2ieg -5.4\n",
      "2eum -5.7\n",
      "3dc1 -4.4\n",
      "1t49 -5.2\n",
      "1gzf -5.3\n",
      "3fgo -5.5\n",
      "1za1 -4.9\n"
     ]
    }
   ],
   "source": [
    "for pdbcode, chain_id in zip(pdbcodes, chain_ids):\n",
    "    # Download structure:\n",
    "    receptor = download_and_select(pdbcode, chain_id)\n",
    "    \n",
    "    # Run fpocket:\n",
    "    pockets = client.submit(fpocket, receptor)\n",
    "\n",
    "    # Find the dimensions of each pocket\n",
    "    xcs, ycs, zcs, sxs, sys, szs = client.submit(get_dimensions, pockets)\n",
    "\n",
    "    # Prepare receptor for docking:\n",
    "    receptor_qt = client.submit(prep_receptor, receptor)\n",
    "\n",
    "\n",
    "    # Run vina:\n",
    "    docks, logfiles = client.map(vina, receptor_qt, ligand_qt, xcs.result(), ycs.result(), zcs.result(), sxs.result(), sys.result(), szs.result())\n",
    "\n",
    "    # Look through the log files for each pocket to find the best:\n",
    "\n",
    "    best_a = best_affinity(logfiles)\n",
    "    print(pdbcode, best_a)\n",
    "    "
   ]
  },
  {
   "cell_type": "code",
   "execution_count": 1,
   "metadata": {},
   "outputs": [
    {
     "name": "stdout",
     "output_type": "stream",
     "text": [
      "# Provisioning script for an xbow cluster for this example Notebook  \r\n",
      "pip3 install numpy cython\r\n",
      "pip3 install mdtraj\r\n",
      "pip3 install pinda\r\n",
      "pinda install fpocket 3.0\r\n",
      "pinda install vina 1.1.2\r\n"
     ]
    }
   ],
   "source": [
    "!cat provision.dat"
   ]
  },
  {
   "cell_type": "code",
   "execution_count": null,
   "metadata": {},
   "outputs": [],
   "source": []
  }
 ],
 "metadata": {
  "taskspec": {
   "display_name": "Python 3",
   "language": "python",
   "name": "python3"
  },
  "language_info": {
   "codemirror_mode": {
    "name": "ipython",
    "version": 3
   },
   "file_extension": ".py",
   "mimetype": "text/x-python",
   "name": "python",
   "nbconvert_exporter": "python",
   "pygments_lexer": "ipython3",
   "version": "3.7.6"
  }
 },
 "nbformat": 4,
 "nbformat_minor": 2
}
