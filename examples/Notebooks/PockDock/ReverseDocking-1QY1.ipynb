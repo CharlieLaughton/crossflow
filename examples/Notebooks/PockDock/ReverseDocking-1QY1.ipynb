{
 "cells": [
  {
   "cell_type": "markdown",
   "metadata": {},
   "source": [
    "# Reverse Docking\n",
    "\n",
    "This notebook demonstrates how a variety of different tools can be glued together into an efficient and flexible workflow using **Crossflow**.\n",
    "\n",
    "The workflow docks a ligand (PRZ) to a set of protein structures (taken from the cryptosite database).\n",
    "\n",
    "The notebook requires you to have versions of **fpocket**, **autodock tools** and **autodock vina** installed on the worker node(s) of your dask cluster, which is up and running and identifiable via the file \"dask.dat\" in the current directory (created when dask-scheduler is started with the `--scheduler_file` option)"
   ]
  },
  {
   "cell_type": "code",
   "execution_count": 1,
   "metadata": {},
   "outputs": [],
   "source": [
    "from crossflow import filehandling, tasks, clients\n",
    "from crosscore import cluster\n",
    "import sys\n",
    "from urllib.request import urlretrieve\n",
    "import numpy as np\n",
    "import mdtraj as mdt"
   ]
  },
  {
   "cell_type": "markdown",
   "metadata": {},
   "source": [
    "Create a crossflow client, connected to a local pool of workers:"
   ]
  },
  {
   "cell_type": "code",
   "execution_count": 4,
   "metadata": {},
   "outputs": [
    {
     "data": {
      "text/html": [
       "<table style=\"border: 2px solid white;\">\n",
       "<tr>\n",
       "<td style=\"vertical-align: top; border: 0px solid white\">\n",
       "<h3 style=\"text-align: left;\">Client</h3>\n",
       "<ul style=\"text-align: left; list-style: none; margin: 0; padding: 0;\">\n",
       "  <li><b>Scheduler: </b>tcp://localhost:8786</li>\n",
       "  <li><b>Dashboard: </b><a href='http://localhost:8787/status' target='_blank'>http://localhost:8787/status</a></li>\n",
       "</ul>\n",
       "</td>\n",
       "<td style=\"vertical-align: top; border: 0px solid white\">\n",
       "<h3 style=\"text-align: left;\">Cluster</h3>\n",
       "<ul style=\"text-align: left; list-style:none; margin: 0; padding: 0;\">\n",
       "  <li><b>Workers: </b>1</li>\n",
       "  <li><b>Cores: </b>8</li>\n",
       "  <li><b>Memory: </b>17.18 GB</li>\n",
       "</ul>\n",
       "</td>\n",
       "</tr>\n",
       "</table>"
      ],
      "text/plain": [
       "<Client: 'tcp://192.168.1.67:8786' processes=1 threads=8, memory=17.18 GB>"
      ]
     },
     "execution_count": 4,
     "metadata": {},
     "output_type": "execute_result"
    }
   ],
   "source": [
    "client = clients.Client(address='localhost:8786')\n",
    "#print(cluster.get_url())\n",
    "client.client"
   ]
  },
  {
   "cell_type": "markdown",
   "metadata": {},
   "source": [
    "Make the SubprocessTasks for **fpocket** and **Vina**, and FunctionTasks for other tasks:"
   ]
  },
  {
   "cell_type": "code",
   "execution_count": 39,
   "metadata": {},
   "outputs": [],
   "source": [
    "# The provisioning task - run on all workers before they do anything else\n",
    "provision = tasks.SubprocessTask('chmod +x provision.sh && ./provision.sh')\n",
    "provision.set_inputs(['provision.sh'])\n",
    "provision.set_outputs(['STDOUT'])"
   ]
  },
  {
   "cell_type": "code",
   "execution_count": 5,
   "metadata": {},
   "outputs": [],
   "source": [
    "# The fpocket task:\n",
    "fpocket = tasks.SubprocessTask('fpocket -f x.pdb')\n",
    "fpocket.set_inputs(['x.pdb'])\n",
    "fpocket.set_outputs(['x_out/x_out.pdb'])"
   ]
  },
  {
   "cell_type": "code",
   "execution_count": 6,
   "metadata": {},
   "outputs": [],
   "source": [
    "# The vina task:\n",
    "vina = tasks.SubprocessTask('vina --receptor r.pdbqt --ligand l.pdbqt --out out.pdbqt --log dock.log'\n",
    "                                 ' --center_x {xc} --center_y {yc} --center_z {zc}'\n",
    "                                 ' --size_x {sx} --size_y {sy} --size_z {sz}')\n",
    "vina.set_inputs(['r.pdbqt', 'l.pdbqt', 'xc', 'yc', 'zc', 'sx', 'sy', 'sz'])\n",
    "vina.set_outputs(['out.pdbqt', 'dock.log'])"
   ]
  },
  {
   "cell_type": "code",
   "execution_count": 7,
   "metadata": {},
   "outputs": [],
   "source": [
    "# AutoDock Tool based tasks to prepare receptor and ligand for docking:\n",
    "prep_receptor = tasks.SubprocessTask('adt prepare_receptor4.py -r x.pdb -o x.pdbqt')\n",
    "prep_receptor.set_inputs(['x.pdb'])\n",
    "prep_receptor.set_outputs(['x.pdbqt'])\n",
    "\n",
    "prep_ligand = tasks.SubprocessTask('adt prepare_ligand4.py -l x.pdb -o x.pdbqt')\n",
    "prep_ligand.set_inputs(['x.pdb'])\n",
    "prep_ligand.set_outputs(['x.pdbqt'])"
   ]
  },
  {
   "cell_type": "code",
   "execution_count": 8,
   "metadata": {},
   "outputs": [],
   "source": [
    "def download_and_select(pdb_code, chain_name):\n",
    "    '''\n",
    "    A function to download a pdb file, and extract just the given chain\n",
    "    \n",
    "    Args:\n",
    "        pdb_code (str): 4-letter PDB code\n",
    "        chain_name (str): 1-letter chain ID\n",
    "        \n",
    "    Returns:\n",
    "        mdt.trajectory: the receptor (protein atoms only)\n",
    "    '''\n",
    "    pdb_file = pdb_code + '.pdb'\n",
    "    path = urlretrieve('http://files.rcsb.org/download/' + pdb_file, pdb_file)\n",
    "    with open(pdb_file) as f:\n",
    "        chain_ids = []\n",
    "        for line in f.readlines():\n",
    "            if 'CHAIN:' in line:\n",
    "                chain_ids += [c[0] for c in line.split()[3:]]\n",
    "                \n",
    "    full_system = mdt.load(pdb_file)\n",
    "    cid = chain_ids.index(chain_name)\n",
    "    receptor_atoms = full_system.topology.select('protein and chainid {}'.format(cid))\n",
    "    receptor = mdt.load(pdb_file, atom_indices=receptor_atoms)\n",
    "    return receptor"
   ]
  },
  {
   "cell_type": "code",
   "execution_count": 9,
   "metadata": {},
   "outputs": [],
   "source": [
    "def _pdbqt2pdb(infile):\n",
    "    '''\n",
    "    A Function to convert pdbqt files back to pdb ones\n",
    "    \n",
    "    Args:\n",
    "        infile (str): name of the input file, .pdbqt format\n",
    "    \n",
    "    Returns:\n",
    "        str: name of the .pdb file (always 'tmp.pdb')\n",
    "    '''\n",
    "    outfile = 'tmp.pdb'\n",
    "    fout = open(outfile, 'w')\n",
    "    with open(infile, 'r') as fin:\n",
    "        for line in fin:\n",
    "            if line[1:6] in 'ATOM  MODEL ENDMDL':\n",
    "                fout.write(line)       \n",
    "    fout.close()\n",
    "    return 'tmp.pdb'\n",
    "\n",
    "# Now make a FunctionTask for this:\n",
    "pdbqt2pdb = tasks.FunctionTask(_pdbqt2pdb)\n",
    "pdbqt2pdb.set_inputs(['infile'])\n",
    "pdbqt2pdb.set_outputs(['outfile'])"
   ]
  },
  {
   "cell_type": "code",
   "execution_count": 10,
   "metadata": {},
   "outputs": [],
   "source": [
    "def _get_dimensions(pockets):\n",
    "    '''\n",
    "    A Function to find the centre and extents of each of the pockets found by fpocket\n",
    "    \n",
    "    Args:\n",
    "        pockets (str): Name of the pdb format file produced by fpocket\n",
    "        \n",
    "    Returns:\n",
    "        (list,) * 6: the pocket centres and extents in x/y/z - in Angstroms\n",
    "    '''\n",
    "    buffer = 2.0\n",
    "    t = mdt.load(pockets)\n",
    "    n_pockets = len([r for r in t.topology.residues if r.name == 'STP'])\n",
    "    xcs = []\n",
    "    ycs = []\n",
    "    zcs = []\n",
    "    sxs = []\n",
    "    sys = []\n",
    "    szs = []\n",
    "    for ip in range(n_pockets):\n",
    "        site = t.topology.select('resname STP and residue {}'.format(ip + 1))\n",
    "        # In the next two lines, the factor of 10 is a conversion from nanometres to Angstroms:\n",
    "        xc, yc, zc = tuple(10 * (t.xyz[0][site].min(axis=0) + t.xyz[0][site].max(axis=0)) / 2)\n",
    "        sx, sy, sz = tuple(10 * (t.xyz[0][site].max(axis=0) - t.xyz[0][site].min(axis=0)) + buffer)\n",
    "        xcs.append(xc)\n",
    "        ycs.append(yc)\n",
    "        zcs.append(zc)\n",
    "        sxs.append(sx)\n",
    "        sys.append(sy)\n",
    "        szs.append(sz)\n",
    "    return xcs, ycs, zcs, sxs, sys, szs\n",
    "\n",
    "# Now make a FunctionTask for this:\n",
    "get_dimensions = tasks.FunctionTask(_get_dimensions)\n",
    "get_dimensions.set_inputs(['pockets'])\n",
    "get_dimensions.set_outputs(['xcs', 'ycs', 'zcs', 'sxs', 'sys', 'szs'])"
   ]
  },
  {
   "cell_type": "code",
   "execution_count": 11,
   "metadata": {},
   "outputs": [],
   "source": [
    "fh = filehandling.FileHandler()\n",
    "#provisionscript = fh.load('provision.dat')\n",
    "#results = client.map(provision, [provisionscript] * 8) # >= max number of workers\n",
    "#print(results[0].result())"
   ]
  },
  {
   "cell_type": "markdown",
   "metadata": {},
   "source": [
    "Now we construct the workflow. For convenience it's split up here into sections."
   ]
  },
  {
   "cell_type": "code",
   "execution_count": 12,
   "metadata": {},
   "outputs": [
    {
     "name": "stdout",
     "output_type": "stream",
     "text": [
      "['1qy1']\n"
     ]
    }
   ],
   "source": [
    "ligand = fh.load('prz.pdb')\n",
    "pdbcodes = ['1qy1']\n",
    "chain_ids = ['A']\n",
    "#with open('complexes.list') as f:\n",
    "#    receptors = f.readlines()\n",
    "#pdbcodes = [r[:4].lower() for r in receptors]\n",
    "#chain_ids = [r[4] for r in receptors]\n",
    "print(pdbcodes)"
   ]
  },
  {
   "cell_type": "code",
   "execution_count": 54,
   "metadata": {},
   "outputs": [],
   "source": [
    "def best_affinity(logfiles):\n",
    "    '''\n",
    "    Return the affinity of the top-ranked pose\n",
    "    '''\n",
    "    best_a = 0.0\n",
    "    best_p = None\n",
    "    for i, logfile in enumerate(logfiles):\n",
    "        for line in logfile.result().read_text().split('\\n'):\n",
    "            if '   1   ' in line:\n",
    "                if float(line.split()[1]) < best_a:\n",
    "                    best_a = float(line.split()[1])\n",
    "                    best_p = i                            \n",
    "    return best_p, best_a\n",
    "\n",
    "# prepare ligand for docking\n",
    "ligand_qt = client.submit(prep_ligand, ligand)"
   ]
  },
  {
   "cell_type": "code",
   "execution_count": 55,
   "metadata": {},
   "outputs": [
    {
     "name": "stdout",
     "output_type": "stream",
     "text": [
      "1qy1 0 -5.8\n"
     ]
    }
   ],
   "source": [
    "for pdbcode, chain_id in zip(pdbcodes, chain_ids):\n",
    "    # Download structure:\n",
    "    receptor = download_and_select(pdbcode, chain_id)\n",
    "    \n",
    "    # Run fpocket:\n",
    "    pockets = client.submit(fpocket, receptor)\n",
    "\n",
    "    # Find the dimensions of each pocket\n",
    "    xcs, ycs, zcs, sxs, sys, szs = client.submit(get_dimensions, pockets)\n",
    "\n",
    "    # Prepare receptor for docking:\n",
    "    receptor_qt = client.submit(prep_receptor, receptor)\n",
    "\n",
    "\n",
    "    # Run vina:\n",
    "    docks, logfiles = client.map(vina, receptor_qt, ligand_qt, xcs.result(), ycs.result(), zcs.result(), sxs.result(), sys.result(), szs.result())\n",
    "\n",
    "    # Look through the log files for each pocket to find the best:\n",
    "\n",
    "    best_p, best_a = best_affinity(logfiles)\n",
    "    print(pdbcode, best_p, best_a)\n",
    "    "
   ]
  },
  {
   "cell_type": "code",
   "execution_count": 15,
   "metadata": {},
   "outputs": [],
   "source": [
    "cryptodata = '''2iuz -5.2\n",
    "1yv3 -6.5\n",
    "2jds -5.4\n",
    "1lic -4.8\n",
    "2hka -5.5\n",
    "3eks -5.4\n",
    "1nx3 -4.8\n",
    "2yqs -4.9\n",
    "2wi7 -5.4\n",
    "1br6 -5.3\n",
    "1j6z -5.8\n",
    "1tr5 -5.3\n",
    "1fqc -5.3\n",
    "2hvd -4.5\n",
    "3f82 -5.2\n",
    "1g67 -5.1\n",
    "3bqm -5.4\n",
    "1ftl -4.8\n",
    "1d6y -5.1\n",
    "1ey3 -5.0\n",
    "1pzy -5.4\n",
    "1xvc -5.9\n",
    "1imb -4.9\n",
    "2piq -5.3\n",
    "1ha3 -5.0\n",
    "3lth -5.0\n",
    "3dhh -4.1\n",
    "1ctr -4.4\n",
    "3h9j -4.8\n",
    "3hok -5.1\n",
    "2wkw -4.5\n",
    "1ghy -5.0\n",
    "1oke -4.9\n",
    "3hzt -5.3\n",
    "2egh -5.6\n",
    "3ip0 -6.4\n",
    "2bu2 -5.8\n",
    "2ohv -5.1\n",
    "3gqz -5.2\n",
    "2w5k -4.0\n",
    "1cib -5.4\n",
    "2ofp -4.7\n",
    "2ixu -4.4\n",
    "3bl7 -4.4\n",
    "1ryo -5.8\n",
    "2q8h -5.0\n",
    "2iyq -5.7\n",
    "1gky -5.5\n",
    "1s9d -4.9\n",
    "1ecc -5.8\n",
    "2h4k -5.2\n",
    "1eyj -4.7\n",
    "2brl -4.8\n",
    "3fqk -5.3\n",
    "2gz7 -4.5\n",
    "2v57 -5.2\n",
    "1cib -5.3\n",
    "1l5s -5.6\n",
    "3ixj -5.3\n",
    "2al4 -4.3\n",
    "3hqp -5.8\n",
    "1u1d -4.9\n",
    "2oo8 -5.1\n",
    "1q0b -5.6\n",
    "2npq -5.3\n",
    "2bys -6.2\n",
    "2gir -5.1\n",
    "3cfn -4.2\n",
    "1afq -5.0\n",
    "1ow3 -5.0\n",
    "3hl8 -5.4\n",
    "1ank -5.8\n",
    "3hl7 -6.0\n",
    "2ieg -5.4\n",
    "2eum -5.7\n",
    "3dc1 -4.4\n",
    "1t49 -5.2\n",
    "1gzf -5.3\n",
    "3fgo -5.5\n",
    "1za1 -4.9\n",
    "1qy1 -5.8'''"
   ]
  },
  {
   "cell_type": "code",
   "execution_count": 17,
   "metadata": {},
   "outputs": [
    {
     "name": "stdout",
     "output_type": "stream",
     "text": [
      "['2w5k -4.0', '3dhh -4.1', '3cfn -4.2', '2al4 -4.3', '1ctr -4.4', '2ixu -4.4', '3bl7 -4.4', '3dc1 -4.4', '2hvd -4.5', '2wkw -4.5', '2gz7 -4.5', '2ofp -4.7', '1eyj -4.7', '1lic -4.8', '1nx3 -4.8', '1ftl -4.8', '3h9j -4.8', '2brl -4.8', '2yqs -4.9', '1imb -4.9', '1oke -4.9', '1s9d -4.9', '1u1d -4.9', '1za1 -4.9', '1ey3 -5.0', '1ha3 -5.0', '3lth -5.0', '1ghy -5.0', '2q8h -5.0', '1afq -5.0', '1ow3 -5.0', '1g67 -5.1', '1d6y -5.1', '3hok -5.1', '2ohv -5.1', '2oo8 -5.1', '2gir -5.1', '2iuz -5.2', '3f82 -5.2', '3gqz -5.2', '2h4k -5.2', '2v57 -5.2', '1t49 -5.2', '1br6 -5.3', '1tr5 -5.3', '1fqc -5.3', '2piq -5.3', '3hzt -5.3', '3fqk -5.3', '1cib -5.3', '3ixj -5.3', '2npq -5.3', '1gzf -5.3', '2jds -5.4', '3eks -5.4', '2wi7 -5.4', '3bqm -5.4', '1pzy -5.4', '1cib -5.4', '3hl8 -5.4', '2ieg -5.4', '2hka -5.5', '1gky -5.5', '3fgo -5.5', '2egh -5.6', '1l5s -5.6', '1q0b -5.6', '2iyq -5.7', '2eum -5.7', '1j6z -5.8', '2bu2 -5.8', '1ryo -5.8', '1ecc -5.8', '3hqp -5.8', '1ank -5.8', '1qy1 -5.8', '1xvc -5.9', '3hl7 -6.0', '2bys -6.2', '3ip0 -6.4', '1yv3 -6.5']\n"
     ]
    }
   ],
   "source": [
    "cd = cryptodata.split('\\n')\n",
    "cd.sort(key=lambda x: x.split()[1])\n",
    "print(cd)"
   ]
  },
  {
   "cell_type": "code",
   "execution_count": 18,
   "metadata": {},
   "outputs": [],
   "source": [
    "from matplotlib import pyplot as plt\n",
    "%matplotlib inline"
   ]
  },
  {
   "cell_type": "code",
   "execution_count": 65,
   "metadata": {},
   "outputs": [
    {
     "data": {
      "image/png": "[encoded data removed]",
      "text/plain": [
       "<Figure size 432x288 with 1 Axes>"
      ]
     },
     "metadata": {
      "needs_background": "light"
     },
     "output_type": "display_data"
    }
   ],
   "source": [
    "#plt.figure(figsize=(10,7))\n",
    "scores = np.array([-float(c.split()[1]) for c in cd])\n",
    "ids = [c.split()[0] for c in cd]\n",
    "plt.plot(scores)\n",
    "q = ids.index('1qy1')\n",
    "plt.plot(q, scores[q], 'o')\n",
    "plt.xlabel('rank')\n",
    "plt.ylabel('-docking_score')\n",
    "plt.savefig('inverse_results.png')"
   ]
  },
  {
   "cell_type": "code",
   "execution_count": 60,
   "metadata": {},
   "outputs": [
    {
     "name": "stdout",
     "output_type": "stream",
     "text": [
      "['1xvc', '3hl7', '2bys', '3ip0', '1yv3']\n",
      "81\n"
     ]
    }
   ],
   "source": [
    "top5 = ids[-5:]\n",
    "print(top5)\n",
    "print(len(scores))"
   ]
  },
  {
   "cell_type": "code",
   "execution_count": 58,
   "metadata": {},
   "outputs": [
    {
     "name": "stdout",
     "output_type": "stream",
     "text": [
      "['1yv3', '1xvc', '3ip0', '2bys', '3hl7']\n",
      "['A', 'A', 'A', 'J', 'A']\n"
     ]
    }
   ],
   "source": [
    "with open('complexes.list') as f:\n",
    "    receptors = f.readlines()\n",
    "pdbcodes = [r[:4].lower() for r in receptors if r[:4].lower() in top5]\n",
    "chain_ids = [r[4] for r in receptors if r[:4].lower() in top5]\n",
    "print(pdbcodes)\n",
    "print(chain_ids)"
   ]
  },
  {
   "cell_type": "code",
   "execution_count": 59,
   "metadata": {},
   "outputs": [
    {
     "name": "stdout",
     "output_type": "stream",
     "text": [
      "1yv3 0 -6.4\n",
      "1xvc 0 -5.9\n",
      "3ip0 0 -6.4\n",
      "2bys 0 -6.2\n",
      "3hl7 0 -5.3\n"
     ]
    }
   ],
   "source": [
    "for pdbcode, chain_id in zip(pdbcodes, chain_ids):\n",
    "    # Download structure:\n",
    "    receptor = download_and_select(pdbcode, chain_id)\n",
    "    \n",
    "    # Run fpocket:\n",
    "    pockets = client.submit(fpocket, receptor)\n",
    "\n",
    "    # Find the dimensions of each pocket\n",
    "    xcs, ycs, zcs, sxs, sys, szs = client.submit(get_dimensions, pockets)\n",
    "\n",
    "    # Prepare receptor for docking:\n",
    "    receptor_qt = client.submit(prep_receptor, receptor)\n",
    "\n",
    "\n",
    "    # Run vina:\n",
    "    docks, logfiles = client.map(vina, receptor_qt, ligand_qt, xcs.result(), ycs.result(), zcs.result(), sxs.result(), sys.result(), szs.result())\n",
    "\n",
    "    # Look through the log files for each pocket to find the best:\n",
    "\n",
    "    best_p, best_a = best_affinity(logfiles)\n",
    "    print(pdbcode, best_p, best_a)\n",
    "    docks[best_p].result().save('{}_{}.pdbqt'.format(pdbcode, best_p))"
   ]
  },
  {
   "cell_type": "code",
   "execution_count": null,
   "metadata": {},
   "outputs": [],
   "source": []
  }
 ],
 "metadata": {
  "taskspec": {
   "display_name": "Python 3",
   "language": "python",
   "name": "python3"
  },
  "language_info": {
   "codemirror_mode": {
    "name": "ipython",
    "version": 3
   },
   "file_extension": ".py",
   "mimetype": "text/x-python",
   "name": "python",
   "nbconvert_exporter": "python",
   "pygments_lexer": "ipython3",
   "version": "3.7.6"
  }
 },
 "nbformat": 4,
 "nbformat_minor": 2
}
