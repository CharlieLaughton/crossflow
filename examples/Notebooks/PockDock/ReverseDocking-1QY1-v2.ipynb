{
 "cells": [
  {
   "cell_type": "markdown",
   "metadata": {},
   "source": [
    "# Reverse Docking\n",
    "\n",
    "This notebook demonstrates how a variety of different tools can be glued together into an efficient and flexible workflow using **Crossflow**.\n",
    "\n",
    "The workflow docks a ligand (PRZ) to a set of protein structures (taken from the cryptosite database).\n",
    "\n",
    "The notebook requires **fpocket** and **autodock vina** to be installed on the worker node(s) of your dask cluster."
   ]
  },
  {
   "cell_type": "code",
   "execution_count": 1,
   "metadata": {},
   "outputs": [],
   "source": [
    "from crossflow import filehandling, tasks, clients\n",
    "from distributed import LocalCluster\n",
    "import numpy as np\n",
    "import mdtraj as mdt\n",
    "from pathlib import Path"
   ]
  },
  {
   "cell_type": "markdown",
   "metadata": {},
   "source": [
    "Create a crossflow client, connected to a local pool of workers:"
   ]
  },
  {
   "cell_type": "code",
   "execution_count": 2,
   "metadata": {},
   "outputs": [
    {
     "data": {
      "text/html": [
       "<div>\n",
       "    <div style=\"width: 24px; height: 24px; background-color: #e1e1e1; border: 3px solid #9D9D9D; border-radius: 5px; position: absolute;\"> </div>\n",
       "    <div style=\"margin-left: 48px;\">\n",
       "        <h3 style=\"margin-bottom: 0px;\">Client</h3>\n",
       "        <p style=\"color: #9D9D9D; margin-bottom: 0px;\">Client-f8a78114-5949-11ee-8380-221bf50f49df</p>\n",
       "        <table style=\"width: 100%; text-align: left;\">\n",
       "\n",
       "        <tr>\n",
       "        \n",
       "            <td style=\"text-align: left;\"><strong>Connection method:</strong> Cluster object</td>\n",
       "            <td style=\"text-align: left;\"><strong>Cluster type:</strong> distributed.LocalCluster</td>\n",
       "        \n",
       "        </tr>\n",
       "\n",
       "        \n",
       "            <tr>\n",
       "                <td style=\"text-align: left;\">\n",
       "                    <strong>Dashboard: </strong> <a href=\"http://127.0.0.1:8787/status\" target=\"_blank\">http://127.0.0.1:8787/status</a>\n",
       "                </td>\n",
       "                <td style=\"text-align: left;\"></td>\n",
       "            </tr>\n",
       "        \n",
       "\n",
       "        </table>\n",
       "\n",
       "        \n",
       "\n",
       "        \n",
       "            <details>\n",
       "            <summary style=\"margin-bottom: 20px;\"><h3 style=\"display: inline;\">Cluster Info</h3></summary>\n",
       "            <div class=\"jp-RenderedHTMLCommon jp-RenderedHTML jp-mod-trusted jp-OutputArea-output\">\n",
       "    <div style=\"width: 24px; height: 24px; background-color: #e1e1e1; border: 3px solid #9D9D9D; border-radius: 5px; position: absolute;\">\n",
       "    </div>\n",
       "    <div style=\"margin-left: 48px;\">\n",
       "        <h3 style=\"margin-bottom: 0px; margin-top: 0px;\">LocalCluster</h3>\n",
       "        <p style=\"color: #9D9D9D; margin-bottom: 0px;\">791773df</p>\n",
       "        <table style=\"width: 100%; text-align: left;\">\n",
       "            <tr>\n",
       "                <td style=\"text-align: left;\">\n",
       "                    <strong>Dashboard:</strong> <a href=\"http://127.0.0.1:8787/status\" target=\"_blank\">http://127.0.0.1:8787/status</a>\n",
       "                </td>\n",
       "                <td style=\"text-align: left;\">\n",
       "                    <strong>Workers:</strong> 1\n",
       "                </td>\n",
       "            </tr>\n",
       "            <tr>\n",
       "                <td style=\"text-align: left;\">\n",
       "                    <strong>Total threads:</strong> 1\n",
       "                </td>\n",
       "                <td style=\"text-align: left;\">\n",
       "                    <strong>Total memory:</strong> 16.00 GiB\n",
       "                </td>\n",
       "            </tr>\n",
       "            \n",
       "            <tr>\n",
       "    <td style=\"text-align: left;\"><strong>Status:</strong> running</td>\n",
       "    <td style=\"text-align: left;\"><strong>Using processes:</strong> True</td>\n",
       "</tr>\n",
       "\n",
       "            \n",
       "        </table>\n",
       "\n",
       "        <details>\n",
       "            <summary style=\"margin-bottom: 20px;\">\n",
       "                <h3 style=\"display: inline;\">Scheduler Info</h3>\n",
       "            </summary>\n",
       "\n",
       "            <div style=\"\">\n",
       "    <div>\n",
       "        <div style=\"width: 24px; height: 24px; background-color: #FFF7E5; border: 3px solid #FF6132; border-radius: 5px; position: absolute;\"> </div>\n",
       "        <div style=\"margin-left: 48px;\">\n",
       "            <h3 style=\"margin-bottom: 0px;\">Scheduler</h3>\n",
       "            <p style=\"color: #9D9D9D; margin-bottom: 0px;\">Scheduler-79013f9d-eb82-4808-85a1-6be2159908b0</p>\n",
       "            <table style=\"width: 100%; text-align: left;\">\n",
       "                <tr>\n",
       "                    <td style=\"text-align: left;\">\n",
       "                        <strong>Comm:</strong> tcp://127.0.0.1:62821\n",
       "                    </td>\n",
       "                    <td style=\"text-align: left;\">\n",
       "                        <strong>Workers:</strong> 1\n",
       "                    </td>\n",
       "                </tr>\n",
       "                <tr>\n",
       "                    <td style=\"text-align: left;\">\n",
       "                        <strong>Dashboard:</strong> <a href=\"http://127.0.0.1:8787/status\" target=\"_blank\">http://127.0.0.1:8787/status</a>\n",
       "                    </td>\n",
       "                    <td style=\"text-align: left;\">\n",
       "                        <strong>Total threads:</strong> 1\n",
       "                    </td>\n",
       "                </tr>\n",
       "                <tr>\n",
       "                    <td style=\"text-align: left;\">\n",
       "                        <strong>Started:</strong> Just now\n",
       "                    </td>\n",
       "                    <td style=\"text-align: left;\">\n",
       "                        <strong>Total memory:</strong> 16.00 GiB\n",
       "                    </td>\n",
       "                </tr>\n",
       "            </table>\n",
       "        </div>\n",
       "    </div>\n",
       "\n",
       "    <details style=\"margin-left: 48px;\">\n",
       "        <summary style=\"margin-bottom: 20px;\">\n",
       "            <h3 style=\"display: inline;\">Workers</h3>\n",
       "        </summary>\n",
       "\n",
       "        \n",
       "        <div style=\"margin-bottom: 20px;\">\n",
       "            <div style=\"width: 24px; height: 24px; background-color: #DBF5FF; border: 3px solid #4CC9FF; border-radius: 5px; position: absolute;\"> </div>\n",
       "            <div style=\"margin-left: 48px;\">\n",
       "            <details>\n",
       "                <summary>\n",
       "                    <h4 style=\"margin-bottom: 0px; display: inline;\">Worker: 0</h4>\n",
       "                </summary>\n",
       "                <table style=\"width: 100%; text-align: left;\">\n",
       "                    <tr>\n",
       "                        <td style=\"text-align: left;\">\n",
       "                            <strong>Comm: </strong> tcp://127.0.0.1:62826\n",
       "                        </td>\n",
       "                        <td style=\"text-align: left;\">\n",
       "                            <strong>Total threads: </strong> 1\n",
       "                        </td>\n",
       "                    </tr>\n",
       "                    <tr>\n",
       "                        <td style=\"text-align: left;\">\n",
       "                            <strong>Dashboard: </strong> <a href=\"http://127.0.0.1:62827/status\" target=\"_blank\">http://127.0.0.1:62827/status</a>\n",
       "                        </td>\n",
       "                        <td style=\"text-align: left;\">\n",
       "                            <strong>Memory: </strong> 16.00 GiB\n",
       "                        </td>\n",
       "                    </tr>\n",
       "                    <tr>\n",
       "                        <td style=\"text-align: left;\">\n",
       "                            <strong>Nanny: </strong> tcp://127.0.0.1:62824\n",
       "                        </td>\n",
       "                        <td style=\"text-align: left;\"></td>\n",
       "                    </tr>\n",
       "                    <tr>\n",
       "                        <td colspan=\"2\" style=\"text-align: left;\">\n",
       "                            <strong>Local directory: </strong> /var/folders/v0/vzwwlsr12vvbmyxvhlrhgpf80000gp/T/dask-scratch-space/worker-gfrxdnwy\n",
       "                        </td>\n",
       "                    </tr>\n",
       "\n",
       "                    \n",
       "\n",
       "                    \n",
       "\n",
       "                </table>\n",
       "            </details>\n",
       "            </div>\n",
       "        </div>\n",
       "        \n",
       "\n",
       "    </details>\n",
       "</div>\n",
       "\n",
       "        </details>\n",
       "    </div>\n",
       "</div>\n",
       "            </details>\n",
       "        \n",
       "\n",
       "    </div>\n",
       "</div>"
      ],
      "text/plain": [
       "<Client: 'tcp://127.0.0.1:62821' processes=1 threads=1, memory=16.00 GiB>"
      ]
     },
     "execution_count": 2,
     "metadata": {},
     "output_type": "execute_result"
    }
   ],
   "source": [
    "cluster = LocalCluster(n_workers=1, threads_per_worker=1)\n",
    "client = clients.Client(cluster)\n",
    "client"
   ]
  },
  {
   "cell_type": "markdown",
   "metadata": {},
   "source": [
    "Make the SubprocessTasks for **fpocket** and **Vina**, and FunctionTasks for other tasks:"
   ]
  },
  {
   "cell_type": "code",
   "execution_count": null,
   "metadata": {},
   "outputs": [],
   "source": [
    "# The provisioning task - run on all workers before they do anything else\n",
    "provision = tasks.SubprocessTask('chmod +x provision.sh && ./provision.sh')\n",
    "provision.set_inputs(['provision.sh'])\n",
    "provision.set_outputs(['STDOUT'])"
   ]
  },
  {
   "cell_type": "code",
   "execution_count": 3,
   "metadata": {},
   "outputs": [],
   "source": [
    "# The fpocket task:\n",
    "fpocket = tasks.SubprocessTask('rex fpocket -f x.pdb')\n",
    "fpocket.set_inputs(['x.pdb'])\n",
    "fpocket.set_outputs(['x_out/x_out.pdb'])"
   ]
  },
  {
   "cell_type": "code",
   "execution_count": 4,
   "metadata": {},
   "outputs": [],
   "source": [
    "# The vina task:\n",
    "vina = tasks.SubprocessTask('rex vina --receptor r.pdbqt --ligand l.pdbqt --out out.pdbqt > dock.log'\n",
    "                                 ' --config conf.dat --num_modes 1')\n",
    "vina.set_inputs(['r.pdbqt', 'l.pdbqt', 'conf.dat'])\n",
    "vina.set_outputs(['out.pdbqt', 'dock.log'])"
   ]
  },
  {
   "cell_type": "code",
   "execution_count": null,
   "metadata": {},
   "outputs": [],
   "source": [
    "def _pdbqt2pdb(infile):\n",
    "    '''\n",
    "    A Function to convert pdbqt files back to pdb ones\n",
    "    \n",
    "    Args:\n",
    "        infile (str): name of the input file, .pdbqt format\n",
    "    \n",
    "    Returns:\n",
    "        str: name of the .pdb file (always 'tmp.pdb')\n",
    "    '''\n",
    "    outfile = 'tmp.pdb'\n",
    "    fout = open(outfile, 'w')\n",
    "    with open(infile, 'r') as fin:\n",
    "        for line in fin:\n",
    "            if line[1:6] in 'ATOM  MODEL ENDMDL':\n",
    "                fout.write(line)       \n",
    "    fout.close()\n",
    "    return 'tmp.pdb'\n",
    "\n",
    "# Now make a FunctionTask for this:\n",
    "pdbqt2pdb = tasks.FunctionTask(_pdbqt2pdb)\n",
    "pdbqt2pdb.set_inputs(['infile'])\n",
    "pdbqt2pdb.set_outputs(['outfile'])"
   ]
  },
  {
   "cell_type": "code",
   "execution_count": 5,
   "metadata": {},
   "outputs": [],
   "source": [
    "def _get_dimensions(pockets):\n",
    "    '''\n",
    "    A Function to find the centre and extents of each of the pockets found by fpocket\n",
    "    \n",
    "    Args:\n",
    "        pockets (str): Name of the pdb format file produced by fpocket\n",
    "        \n",
    "    Returns:\n",
    "        configs: the pocket centres and extents in x/y/z - in Angstroms, in vina .conf format\n",
    "    '''\n",
    "    buffer = 2.0 # buffer added to pocket extents (Angstroms)\n",
    "    t = mdt.load(pockets)\n",
    "    n_pockets = len([r for r in t.topology.residues if r.name == 'STP'])\n",
    "    confs = []\n",
    "    template = 'center_x = {:6.3f}\\ncenter_y = {:6.3f}\\ncenter_z = {:6.3f}\\nsize_x = {:6.3f}\\nsize_y = {:6.3f}\\nsize_z = {:6.3f}\\n'\n",
    "    for ip in range(n_pockets):\n",
    "        site = t.topology.select('resname STP and residue {}'.format(ip + 1))\n",
    "        # In the next two lines, the factor of 10 is a conversion from nanometres to Angstroms:\n",
    "        xc, yc, zc = tuple(10 * (t.xyz[0][site].min(axis=0) + t.xyz[0][site].max(axis=0)) / 2)\n",
    "        sx, sy, sz = tuple(10 * (t.xyz[0][site].max(axis=0) - t.xyz[0][site].min(axis=0)) + buffer)\n",
    "        conftext = template.format(xc, yc, zc, sx, sy, sz)\n",
    "        conf_handle = fh.create(f'conf_{ip}.dat')\n",
    "        conf_handle.write_text(conftext)\n",
    "        confs.append(conf_handle)\n",
    "        \n",
    "    return tuple(confs)\n",
    "\n",
    "# Now make a FunctionTask for this:\n",
    "get_dimensions = tasks.FunctionTask(_get_dimensions)\n",
    "get_dimensions.set_inputs(['pockets'])\n",
    "get_dimensions.set_outputs(['confs'])"
   ]
  },
  {
   "cell_type": "code",
   "execution_count": 6,
   "metadata": {},
   "outputs": [],
   "source": [
    "fh = filehandling.FileHandler()\n",
    "#provisionscript = fh.load('provision.dat')\n",
    "#results = client.map(provision, [provisionscript] * 8) # >= max number of workers\n",
    "#print(results[0].result())"
   ]
  },
  {
   "cell_type": "markdown",
   "metadata": {},
   "source": [
    "Now we construct the workflow. For convenience it's split up here into sections."
   ]
  },
  {
   "cell_type": "code",
   "execution_count": 7,
   "metadata": {},
   "outputs": [],
   "source": [
    "receptor_dir = Path('./receptors')\n",
    "receptor_files = receptor_dir.glob('*.pdbqt')\n",
    "pdbcodes = []\n",
    "receptors = []\n",
    "for r in receptor_files:\n",
    "    receptors.append(fh.load(r))\n",
    "    pdbcodes.append(r.stem[:4])"
   ]
  },
  {
   "cell_type": "code",
   "execution_count": 8,
   "metadata": {},
   "outputs": [
    {
     "name": "stdout",
     "output_type": "stream",
     "text": [
      "['3hl8', '1za1', '2brl', '1ftl', '1ecc', '3ip0', '2piq', '2wkw', '1afq', '3hl7', '2ofp', '1u1d', '2h4k', '1pzy', '1eyj', '3hqp', '2yqs', '2bys', '3f82', '3lth', '3hok', '3bl7', '1gzf', '2w5k', '1q0b', '1t49', '1g67', '1oke', '2iyq', '3fgo', '1gky', '2oo8', '2ixu', '1yv3', '2q8h', '1lic', '1tr5', '3cfn', '2ohv', '3gqz', '1cib', '1j6z', '2gir', '1xvc', '2hka', '2ieg', '1ow3', '1ryo', '1s9d', '3fqk', '1d6y', '2iuz', '2gz7', '3bqm', '1imb', '1l5s', '2bu2', '1br6', '1ey3', '2egh', '2hvd', '3eks', '3dhh', '1ghy', '1nx3', '1ha3', '2jds', '3dc1', '2wi7', '1ank', '2v57', '2eum', '3h9j', '1fqc', '2npq', '3ixj', '3hzt', '2al4', '1ctr']\n"
     ]
    }
   ],
   "source": [
    "print(pdbcodes)"
   ]
  },
  {
   "cell_type": "code",
   "execution_count": 9,
   "metadata": {},
   "outputs": [],
   "source": [
    "def best_affinity(logfiles):\n",
    "    '''\n",
    "    Return the affinity of the top-ranked pose\n",
    "    '''\n",
    "    best_a = 0.0\n",
    "    best_p = None\n",
    "    for i, logfile in enumerate(logfiles):\n",
    "        for line in logfile.result().read_text().split('\\n'):\n",
    "            if '   1   ' in line:\n",
    "                if float(line.split()[1]) < best_a:\n",
    "                    best_a = float(line.split()[1])\n",
    "                    best_p = i                            \n",
    "    return best_p, best_a\n",
    "\n",
    "# prepare ligand for docking\n",
    "#ligand_qt = client.submit(prep_ligand, ligand)"
   ]
  },
  {
   "cell_type": "code",
   "execution_count": 10,
   "metadata": {},
   "outputs": [],
   "source": [
    "pockets = client.map(fpocket, receptors[:5])"
   ]
  },
  {
   "cell_type": "code",
   "execution_count": 20,
   "metadata": {},
   "outputs": [],
   "source": [
    "confs0 = client.submit(get_dimensions, pockets[0])"
   ]
  },
  {
   "cell_type": "code",
   "execution_count": 24,
   "metadata": {},
   "outputs": [],
   "source": [
    "ligand = fh.load('prz.pdbqt')\n",
    "docks, logs = client.map(vina, receptors[0], ligand, list(confs0.result()))"
   ]
  },
  {
   "cell_type": "code",
   "execution_count": 23,
   "metadata": {},
   "outputs": [
    {
     "name": "stdout",
     "output_type": "stream",
     "text": [
      "<class 'tuple'>\n"
     ]
    }
   ],
   "source": [
    "print(type(confs[0].result()))"
   ]
  },
  {
   "cell_type": "code",
   "execution_count": null,
   "metadata": {},
   "outputs": [],
   "source": [
    "print(best_affinity(logs))"
   ]
  },
  {
   "cell_type": "code",
   "execution_count": null,
   "metadata": {},
   "outputs": [],
   "source": [
    "# prepare ligand for docking\n",
    "ligand_qt = client.submit(prep_ligand, ligand)\n",
    "ligand_qt.result().save('prz.pdbqt')\n",
    "for pdbcode, chain_id in zip(pdbcodes, chain_ids):\n",
    "    receptor = download_and_select(pdbcode, chain_id)\n",
    "    receptor.save(f'{pdbcode}_receptor.pdb')\n",
    "    # Prepare receptor for docking:\n",
    "    receptor_qt = client.submit(prep_receptor, receptor)\n",
    "    receptor_qt.result().save(f'{pdbcode}_receptor.pdbqt')\n",
    "    \n",
    "    "
   ]
  },
  {
   "cell_type": "code",
   "execution_count": null,
   "metadata": {},
   "outputs": [],
   "source": [
    "for pdbcode, chain_id in zip(pdbcodes, chain_ids):\n",
    "    # Download structure:\n",
    "    receptor = download_and_select(pdbcode, chain_id)\n",
    "    \n",
    "    # Run fpocket:\n",
    "    pockets = client.submit(fpocket, receptor)\n",
    "\n",
    "    # Find the dimensions of each pocket\n",
    "    xcs, ycs, zcs, sxs, sys, szs = client.submit(get_dimensions, pockets)\n",
    "\n",
    "    # Prepare receptor for docking:\n",
    "    receptor_qt = client.submit(prep_receptor, receptor)\n",
    "\n",
    "\n",
    "    # Run vina:\n",
    "    docks, logfiles = client.map(vina, receptor_qt, ligand_qt, xcs.result(), ycs.result(), zcs.result(), sxs.result(), sys.result(), szs.result())\n",
    "\n",
    "    # Look through the log files for each pocket to find the best:\n",
    "\n",
    "    best_p, best_a = best_affinity(logfiles)\n",
    "    print(pdbcode, best_p, best_a)\n",
    "    "
   ]
  },
  {
   "cell_type": "code",
   "execution_count": null,
   "metadata": {},
   "outputs": [],
   "source": [
    "cryptodata = '''2iuz -5.2\n",
    "1yv3 -6.5\n",
    "2jds -5.4\n",
    "1lic -4.8\n",
    "2hka -5.5\n",
    "3eks -5.4\n",
    "1nx3 -4.8\n",
    "2yqs -4.9\n",
    "2wi7 -5.4\n",
    "1br6 -5.3\n",
    "1j6z -5.8\n",
    "1tr5 -5.3\n",
    "1fqc -5.3\n",
    "2hvd -4.5\n",
    "3f82 -5.2\n",
    "1g67 -5.1\n",
    "3bqm -5.4\n",
    "1ftl -4.8\n",
    "1d6y -5.1\n",
    "1ey3 -5.0\n",
    "1pzy -5.4\n",
    "1xvc -5.9\n",
    "1imb -4.9\n",
    "2piq -5.3\n",
    "1ha3 -5.0\n",
    "3lth -5.0\n",
    "3dhh -4.1\n",
    "1ctr -4.4\n",
    "3h9j -4.8\n",
    "3hok -5.1\n",
    "2wkw -4.5\n",
    "1ghy -5.0\n",
    "1oke -4.9\n",
    "3hzt -5.3\n",
    "2egh -5.6\n",
    "3ip0 -6.4\n",
    "2bu2 -5.8\n",
    "2ohv -5.1\n",
    "3gqz -5.2\n",
    "2w5k -4.0\n",
    "1cib -5.4\n",
    "2ofp -4.7\n",
    "2ixu -4.4\n",
    "3bl7 -4.4\n",
    "1ryo -5.8\n",
    "2q8h -5.0\n",
    "2iyq -5.7\n",
    "1gky -5.5\n",
    "1s9d -4.9\n",
    "1ecc -5.8\n",
    "2h4k -5.2\n",
    "1eyj -4.7\n",
    "2brl -4.8\n",
    "3fqk -5.3\n",
    "2gz7 -4.5\n",
    "2v57 -5.2\n",
    "1cib -5.3\n",
    "1l5s -5.6\n",
    "3ixj -5.3\n",
    "2al4 -4.3\n",
    "3hqp -5.8\n",
    "1u1d -4.9\n",
    "2oo8 -5.1\n",
    "1q0b -5.6\n",
    "2npq -5.3\n",
    "2bys -6.2\n",
    "2gir -5.1\n",
    "3cfn -4.2\n",
    "1afq -5.0\n",
    "1ow3 -5.0\n",
    "3hl8 -5.4\n",
    "1ank -5.8\n",
    "3hl7 -6.0\n",
    "2ieg -5.4\n",
    "2eum -5.7\n",
    "3dc1 -4.4\n",
    "1t49 -5.2\n",
    "1gzf -5.3\n",
    "3fgo -5.5\n",
    "1za1 -4.9\n",
    "1qy1 -5.8'''"
   ]
  },
  {
   "cell_type": "code",
   "execution_count": null,
   "metadata": {},
   "outputs": [],
   "source": [
    "cd = cryptodata.split('\\n')\n",
    "cd.sort(key=lambda x: x.split()[1])\n",
    "print(cd)"
   ]
  },
  {
   "cell_type": "code",
   "execution_count": null,
   "metadata": {},
   "outputs": [],
   "source": [
    "from matplotlib import pyplot as plt\n",
    "%matplotlib inline"
   ]
  },
  {
   "cell_type": "code",
   "execution_count": null,
   "metadata": {},
   "outputs": [],
   "source": [
    "#plt.figure(figsize=(10,7))\n",
    "scores = np.array([-float(c.split()[1]) for c in cd])\n",
    "ids = [c.split()[0] for c in cd]\n",
    "plt.plot(scores)\n",
    "q = ids.index('1qy1')\n",
    "plt.plot(q, scores[q], 'o')\n",
    "plt.xlabel('rank')\n",
    "plt.ylabel('-docking_score')\n",
    "plt.savefig('inverse_results.png')"
   ]
  },
  {
   "cell_type": "code",
   "execution_count": null,
   "metadata": {},
   "outputs": [],
   "source": [
    "top5 = ids[-5:]\n",
    "print(top5)\n",
    "print(len(scores))"
   ]
  },
  {
   "cell_type": "code",
   "execution_count": null,
   "metadata": {},
   "outputs": [],
   "source": [
    "with open('complexes.list') as f:\n",
    "    receptors = f.readlines()\n",
    "pdbcodes = [r[:4].lower() for r in receptors if r[:4].lower() in top5]\n",
    "chain_ids = [r[4] for r in receptors if r[:4].lower() in top5]\n",
    "print(pdbcodes)\n",
    "print(chain_ids)"
   ]
  },
  {
   "cell_type": "code",
   "execution_count": null,
   "metadata": {},
   "outputs": [],
   "source": [
    "for pdbcode, chain_id in zip(pdbcodes, chain_ids):\n",
    "    # Download structure:\n",
    "    receptor = download_and_select(pdbcode, chain_id)\n",
    "    \n",
    "    # Run fpocket:\n",
    "    pockets = client.submit(fpocket, receptor)\n",
    "\n",
    "    # Find the dimensions of each pocket\n",
    "    xcs, ycs, zcs, sxs, sys, szs = client.submit(get_dimensions, pockets)\n",
    "\n",
    "    # Prepare receptor for docking:\n",
    "    receptor_qt = client.submit(prep_receptor, receptor)\n",
    "\n",
    "\n",
    "    # Run vina:\n",
    "    docks, logfiles = client.map(vina, receptor_qt, ligand_qt, xcs.result(), ycs.result(), zcs.result(), sxs.result(), sys.result(), szs.result())\n",
    "\n",
    "    # Look through the log files for each pocket to find the best:\n",
    "\n",
    "    best_p, best_a = best_affinity(logfiles)\n",
    "    print(pdbcode, best_p, best_a)\n",
    "    docks[best_p].result().save('{}_{}.pdbqt'.format(pdbcode, best_p))"
   ]
  },
  {
   "cell_type": "code",
   "execution_count": null,
   "metadata": {},
   "outputs": [],
   "source": []
  }
 ],
 "metadata": {
  "kernelspec": {
   "display_name": "Python 3 (ipykernel)",
   "language": "python",
   "name": "python3"
  },
  "language_info": {
   "codemirror_mode": {
    "name": "ipython",
    "version": 3
   },
   "file_extension": ".py",
   "mimetype": "text/x-python",
   "name": "python",
   "nbconvert_exporter": "python",
   "pygments_lexer": "ipython3",
   "version": "3.9.16"
  },
  "taskspec": {
   "display_name": "Python 3",
   "language": "python",
   "name": "python3"
  }
 },
 "nbformat": 4,
 "nbformat_minor": 2
}
