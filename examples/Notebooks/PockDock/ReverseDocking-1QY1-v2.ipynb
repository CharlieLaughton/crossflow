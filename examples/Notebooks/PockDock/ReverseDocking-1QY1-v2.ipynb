{
 "cells": [
  {
   "cell_type": "markdown",
   "metadata": {},
   "source": [
    "# Reverse Docking\n",
    "\n",
    "This notebook demonstrates how a variety of different tools can be glued together into an efficient and flexible workflow using **Crossflow**.\n",
    "\n",
    "The workflow docks a ligand (PRZ) to a set of protein structures (taken from the cryptosite database).\n",
    "\n",
    "The notebook requires **fpocket** and **autodock vina** to be installed on the worker node(s) of your dask cluster."
   ]
  },
  {
   "cell_type": "code",
   "execution_count": 1,
   "metadata": {},
   "outputs": [],
   "source": [
    "from crossflow import filehandling, tasks, clients\n",
    "from distributed import LocalCluster\n",
    "import numpy as np\n",
    "import mdtraj as mdt\n",
    "from pathlib import Path"
   ]
  },
  {
   "cell_type": "markdown",
   "metadata": {},
   "source": [
    "Create a crossflow client, connected to a local pool of workers:"
   ]
  },
  {
   "cell_type": "code",
   "execution_count": 2,
   "metadata": {},
   "outputs": [
    {
     "data": {
      "text/html": [
       "<div>\n",
       "    <div style=\"width: 24px; height: 24px; background-color: #e1e1e1; border: 3px solid #9D9D9D; border-radius: 5px; position: absolute;\"> </div>\n",
       "    <div style=\"margin-left: 48px;\">\n",
       "        <h3 style=\"margin-bottom: 0px;\">Client</h3>\n",
       "        <p style=\"color: #9D9D9D; margin-bottom: 0px;\">Client-5e6f3292-5947-11ee-811d-221bf50f49df</p>\n",
       "        <table style=\"width: 100%; text-align: left;\">\n",
       "\n",
       "        <tr>\n",
       "        \n",
       "            <td style=\"text-align: left;\"><strong>Connection method:</strong> Cluster object</td>\n",
       "            <td style=\"text-align: left;\"><strong>Cluster type:</strong> distributed.LocalCluster</td>\n",
       "        \n",
       "        </tr>\n",
       "\n",
       "        \n",
       "            <tr>\n",
       "                <td style=\"text-align: left;\">\n",
       "                    <strong>Dashboard: </strong> <a href=\"http://127.0.0.1:8787/status\" target=\"_blank\">http://127.0.0.1:8787/status</a>\n",
       "                </td>\n",
       "                <td style=\"text-align: left;\"></td>\n",
       "            </tr>\n",
       "        \n",
       "\n",
       "        </table>\n",
       "\n",
       "        \n",
       "\n",
       "        \n",
       "            <details>\n",
       "            <summary style=\"margin-bottom: 20px;\"><h3 style=\"display: inline;\">Cluster Info</h3></summary>\n",
       "            <div class=\"jp-RenderedHTMLCommon jp-RenderedHTML jp-mod-trusted jp-OutputArea-output\">\n",
       "    <div style=\"width: 24px; height: 24px; background-color: #e1e1e1; border: 3px solid #9D9D9D; border-radius: 5px; position: absolute;\">\n",
       "    </div>\n",
       "    <div style=\"margin-left: 48px;\">\n",
       "        <h3 style=\"margin-bottom: 0px; margin-top: 0px;\">LocalCluster</h3>\n",
       "        <p style=\"color: #9D9D9D; margin-bottom: 0px;\">b7df7c28</p>\n",
       "        <table style=\"width: 100%; text-align: left;\">\n",
       "            <tr>\n",
       "                <td style=\"text-align: left;\">\n",
       "                    <strong>Dashboard:</strong> <a href=\"http://127.0.0.1:8787/status\" target=\"_blank\">http://127.0.0.1:8787/status</a>\n",
       "                </td>\n",
       "                <td style=\"text-align: left;\">\n",
       "                    <strong>Workers:</strong> 1\n",
       "                </td>\n",
       "            </tr>\n",
       "            <tr>\n",
       "                <td style=\"text-align: left;\">\n",
       "                    <strong>Total threads:</strong> 1\n",
       "                </td>\n",
       "                <td style=\"text-align: left;\">\n",
       "                    <strong>Total memory:</strong> 16.00 GiB\n",
       "                </td>\n",
       "            </tr>\n",
       "            \n",
       "            <tr>\n",
       "    <td style=\"text-align: left;\"><strong>Status:</strong> running</td>\n",
       "    <td style=\"text-align: left;\"><strong>Using processes:</strong> True</td>\n",
       "</tr>\n",
       "\n",
       "            \n",
       "        </table>\n",
       "\n",
       "        <details>\n",
       "            <summary style=\"margin-bottom: 20px;\">\n",
       "                <h3 style=\"display: inline;\">Scheduler Info</h3>\n",
       "            </summary>\n",
       "\n",
       "            <div style=\"\">\n",
       "    <div>\n",
       "        <div style=\"width: 24px; height: 24px; background-color: #FFF7E5; border: 3px solid #FF6132; border-radius: 5px; position: absolute;\"> </div>\n",
       "        <div style=\"margin-left: 48px;\">\n",
       "            <h3 style=\"margin-bottom: 0px;\">Scheduler</h3>\n",
       "            <p style=\"color: #9D9D9D; margin-bottom: 0px;\">Scheduler-6ae36782-5593-4a94-bd5a-b00a964aa444</p>\n",
       "            <table style=\"width: 100%; text-align: left;\">\n",
       "                <tr>\n",
       "                    <td style=\"text-align: left;\">\n",
       "                        <strong>Comm:</strong> tcp://127.0.0.1:62349\n",
       "                    </td>\n",
       "                    <td style=\"text-align: left;\">\n",
       "                        <strong>Workers:</strong> 1\n",
       "                    </td>\n",
       "                </tr>\n",
       "                <tr>\n",
       "                    <td style=\"text-align: left;\">\n",
       "                        <strong>Dashboard:</strong> <a href=\"http://127.0.0.1:8787/status\" target=\"_blank\">http://127.0.0.1:8787/status</a>\n",
       "                    </td>\n",
       "                    <td style=\"text-align: left;\">\n",
       "                        <strong>Total threads:</strong> 1\n",
       "                    </td>\n",
       "                </tr>\n",
       "                <tr>\n",
       "                    <td style=\"text-align: left;\">\n",
       "                        <strong>Started:</strong> Just now\n",
       "                    </td>\n",
       "                    <td style=\"text-align: left;\">\n",
       "                        <strong>Total memory:</strong> 16.00 GiB\n",
       "                    </td>\n",
       "                </tr>\n",
       "            </table>\n",
       "        </div>\n",
       "    </div>\n",
       "\n",
       "    <details style=\"margin-left: 48px;\">\n",
       "        <summary style=\"margin-bottom: 20px;\">\n",
       "            <h3 style=\"display: inline;\">Workers</h3>\n",
       "        </summary>\n",
       "\n",
       "        \n",
       "        <div style=\"margin-bottom: 20px;\">\n",
       "            <div style=\"width: 24px; height: 24px; background-color: #DBF5FF; border: 3px solid #4CC9FF; border-radius: 5px; position: absolute;\"> </div>\n",
       "            <div style=\"margin-left: 48px;\">\n",
       "            <details>\n",
       "                <summary>\n",
       "                    <h4 style=\"margin-bottom: 0px; display: inline;\">Worker: 0</h4>\n",
       "                </summary>\n",
       "                <table style=\"width: 100%; text-align: left;\">\n",
       "                    <tr>\n",
       "                        <td style=\"text-align: left;\">\n",
       "                            <strong>Comm: </strong> tcp://127.0.0.1:62354\n",
       "                        </td>\n",
       "                        <td style=\"text-align: left;\">\n",
       "                            <strong>Total threads: </strong> 1\n",
       "                        </td>\n",
       "                    </tr>\n",
       "                    <tr>\n",
       "                        <td style=\"text-align: left;\">\n",
       "                            <strong>Dashboard: </strong> <a href=\"http://127.0.0.1:62355/status\" target=\"_blank\">http://127.0.0.1:62355/status</a>\n",
       "                        </td>\n",
       "                        <td style=\"text-align: left;\">\n",
       "                            <strong>Memory: </strong> 16.00 GiB\n",
       "                        </td>\n",
       "                    </tr>\n",
       "                    <tr>\n",
       "                        <td style=\"text-align: left;\">\n",
       "                            <strong>Nanny: </strong> tcp://127.0.0.1:62352\n",
       "                        </td>\n",
       "                        <td style=\"text-align: left;\"></td>\n",
       "                    </tr>\n",
       "                    <tr>\n",
       "                        <td colspan=\"2\" style=\"text-align: left;\">\n",
       "                            <strong>Local directory: </strong> /var/folders/v0/vzwwlsr12vvbmyxvhlrhgpf80000gp/T/dask-scratch-space/worker-fgee5q8f\n",
       "                        </td>\n",
       "                    </tr>\n",
       "\n",
       "                    \n",
       "\n",
       "                    \n",
       "\n",
       "                </table>\n",
       "            </details>\n",
       "            </div>\n",
       "        </div>\n",
       "        \n",
       "\n",
       "    </details>\n",
       "</div>\n",
       "\n",
       "        </details>\n",
       "    </div>\n",
       "</div>\n",
       "            </details>\n",
       "        \n",
       "\n",
       "    </div>\n",
       "</div>"
      ],
      "text/plain": [
       "<Client: 'tcp://127.0.0.1:62349' processes=1 threads=1, memory=16.00 GiB>"
      ]
     },
     "execution_count": 2,
     "metadata": {},
     "output_type": "execute_result"
    }
   ],
   "source": [
    "cluster = LocalCluster(n_workers=1, threads_per_worker=1)\n",
    "client = clients.Client(cluster)\n",
    "client"
   ]
  },
  {
   "cell_type": "markdown",
   "metadata": {},
   "source": [
    "Make the SubprocessTasks for **fpocket** and **Vina**, and FunctionTasks for other tasks:"
   ]
  },
  {
   "cell_type": "code",
   "execution_count": 39,
   "metadata": {},
   "outputs": [],
   "source": [
    "# The provisioning task - run on all workers before they do anything else\n",
    "provision = tasks.SubprocessTask('chmod +x provision.sh && ./provision.sh')\n",
    "provision.set_inputs(['provision.sh'])\n",
    "provision.set_outputs(['STDOUT'])"
   ]
  },
  {
   "cell_type": "code",
   "execution_count": 3,
   "metadata": {},
   "outputs": [],
   "source": [
    "# The fpocket task:\n",
    "fpocket = tasks.SubprocessTask('rex fpocket -f x.pdb')\n",
    "fpocket.set_inputs(['x.pdb'])\n",
    "fpocket.set_outputs(['x_out/x_out.pdb'])"
   ]
  },
  {
   "cell_type": "code",
   "execution_count": 4,
   "metadata": {},
   "outputs": [],
   "source": [
    "# The vina task:\n",
    "vina = tasks.SubprocessTask('rex vina --receptor r.pdbqt --ligand l.pdbqt --out out.pdbqt > dock.log'\n",
    "                                 ' --config conf.dat --num_modes 1')\n",
    "vina.set_inputs(['r.pdbqt', 'l.pdbqt', 'conf.dat'])\n",
    "vina.set_outputs(['out.pdbqt', 'dock.log'])"
   ]
  },
  {
   "cell_type": "code",
   "execution_count": 7,
   "metadata": {},
   "outputs": [],
   "source": [
    "def _pdbqt2pdb(infile):\n",
    "    '''\n",
    "    A Function to convert pdbqt files back to pdb ones\n",
    "    \n",
    "    Args:\n",
    "        infile (str): name of the input file, .pdbqt format\n",
    "    \n",
    "    Returns:\n",
    "        str: name of the .pdb file (always 'tmp.pdb')\n",
    "    '''\n",
    "    outfile = 'tmp.pdb'\n",
    "    fout = open(outfile, 'w')\n",
    "    with open(infile, 'r') as fin:\n",
    "        for line in fin:\n",
    "            if line[1:6] in 'ATOM  MODEL ENDMDL':\n",
    "                fout.write(line)       \n",
    "    fout.close()\n",
    "    return 'tmp.pdb'\n",
    "\n",
    "# Now make a FunctionTask for this:\n",
    "pdbqt2pdb = tasks.FunctionTask(_pdbqt2pdb)\n",
    "pdbqt2pdb.set_inputs(['infile'])\n",
    "pdbqt2pdb.set_outputs(['outfile'])"
   ]
  },
  {
   "cell_type": "code",
   "execution_count": 12,
   "metadata": {},
   "outputs": [],
   "source": [
    "def _get_dimensions(pockets):\n",
    "    '''\n",
    "    A Function to find the centre and extents of each of the pockets found by fpocket\n",
    "    \n",
    "    Args:\n",
    "        pockets (str): Name of the pdb format file produced by fpocket\n",
    "        \n",
    "    Returns:\n",
    "        configs: the pocket centres and extents in x/y/z - in Angstroms, in vina .conf format\n",
    "    '''\n",
    "    buffer = 2.0 # buffer added to pocket extents (Angstroms)\n",
    "    t = mdt.load(pockets)\n",
    "    n_pockets = len([r for r in t.topology.residues if r.name == 'STP'])\n",
    "    confs = []\n",
    "    template = 'center_x = {:6.3f}\\ncenter_y = {:6.3f}\\ncenter_z = {:6.3f}\\nsize_x = {:6.3f}\\nsize_y = {:6.3f}\\nsize_z = {:6.3f}\\n'\n",
    "    for ip in range(n_pockets):\n",
    "        site = t.topology.select('resname STP and residue {}'.format(ip + 1))\n",
    "        # In the next two lines, the factor of 10 is a conversion from nanometres to Angstroms:\n",
    "        xc, yc, zc = tuple(10 * (t.xyz[0][site].min(axis=0) + t.xyz[0][site].max(axis=0)) / 2)\n",
    "        sx, sy, sz = tuple(10 * (t.xyz[0][site].max(axis=0) - t.xyz[0][site].min(axis=0)) + buffer)\n",
    "        conftext = template.format(xc, yc, zc, sx, sy, sz)\n",
    "        conf_handle = fh.create(f'conf_{ip}.dat')\n",
    "        conf_handle.write_text(conftext)\n",
    "        confs.append(conf_handle)\n",
    "        \n",
    "    return confs\n",
    "\n",
    "# Now make a FunctionTask for this:\n",
    "get_dimensions = tasks.FunctionTask(_get_dimensions)\n",
    "get_dimensions.set_inputs(['pockets'])\n",
    "get_dimensions.set_outputs(['confs'])"
   ]
  },
  {
   "cell_type": "code",
   "execution_count": 14,
   "metadata": {},
   "outputs": [
    {
     "name": "stdout",
     "output_type": "stream",
     "text": [
      "Help on FunctionTask in module crossflow.tasks object:\n",
      "\n",
      "class FunctionTask(builtins.object)\n",
      " |  FunctionTask(func)\n",
      " |  \n",
      " |  Methods defined here:\n",
      " |  \n",
      " |  __cal__(self, *args)\n",
      " |  \n",
      " |  __init__(self, func)\n",
      " |      Arguments:\n",
      " |          func: the Python function to wrap\n",
      " |  \n",
      " |  copy(self)\n",
      " |      Return a copy of the task\n",
      " |  \n",
      " |  run(self, *args)\n",
      " |      Run the task/function with the given arguments.\n",
      " |      \n",
      " |      Returns:\n",
      " |          Whatever the function returns, with output files converted\n",
      " |              to FileHandle objects\n",
      " |  \n",
      " |  set_constant(self, key, value)\n",
      " |      Set a parameters for the task\n",
      " |  \n",
      " |  set_inputs(self, inputs)\n",
      " |      Set the inputs the task requires\n",
      " |  \n",
      " |  set_outputs(self, outputs)\n",
      " |      Set the outputs the task produces\n",
      " |  \n",
      " |  ----------------------------------------------------------------------\n",
      " |  Data descriptors defined here:\n",
      " |  \n",
      " |  __dict__\n",
      " |      dictionary for instance variables (if defined)\n",
      " |  \n",
      " |  __weakref__\n",
      " |      list of weak references to the object (if defined)\n",
      "\n"
     ]
    }
   ],
   "source": [
    "help(get_dimensions)"
   ]
  },
  {
   "cell_type": "code",
   "execution_count": 6,
   "metadata": {},
   "outputs": [],
   "source": [
    "fh = filehandling.FileHandler()\n",
    "#provisionscript = fh.load('provision.dat')\n",
    "#results = client.map(provision, [provisionscript] * 8) # >= max number of workers\n",
    "#print(results[0].result())"
   ]
  },
  {
   "cell_type": "markdown",
   "metadata": {},
   "source": [
    "Now we construct the workflow. For convenience it's split up here into sections."
   ]
  },
  {
   "cell_type": "code",
   "execution_count": 7,
   "metadata": {},
   "outputs": [],
   "source": [
    "receptor_dir = Path('./receptors')\n",
    "receptor_files = receptor_dir.glob('*.pdbqt')\n",
    "pdbcodes = []\n",
    "receptors = []\n",
    "for r in receptor_files:\n",
    "    receptors.append(fh.load(r))\n",
    "    pdbcodes.append(r.stem[:4])"
   ]
  },
  {
   "cell_type": "code",
   "execution_count": 8,
   "metadata": {},
   "outputs": [
    {
     "name": "stdout",
     "output_type": "stream",
     "text": [
      "['3hl8', '1za1', '2brl', '1ftl', '1ecc', '3ip0', '2piq', '2wkw', '1afq', '3hl7', '2ofp', '1u1d', '2h4k', '1pzy', '1eyj', '3hqp', '2yqs', '2bys', '3f82', '3lth', '3hok', '3bl7', '1gzf', '2w5k', '1q0b', '1t49', '1g67', '1oke', '2iyq', '3fgo', '1gky', '2oo8', '2ixu', '1yv3', '2q8h', '1lic', '1tr5', '3cfn', '2ohv', '3gqz', '1cib', '1j6z', '2gir', '1xvc', '2hka', '2ieg', '1ow3', '1ryo', '1s9d', '3fqk', '1d6y', '2iuz', '2gz7', '3bqm', '1imb', '1l5s', '2bu2', '1br6', '1ey3', '2egh', '2hvd', '3eks', '3dhh', '1ghy', '1nx3', '1ha3', '2jds', '3dc1', '2wi7', '1ank', '2v57', '2eum', '3h9j', '1fqc', '2npq', '3ixj', '3hzt', '2al4', '1ctr']\n"
     ]
    }
   ],
   "source": [
    "print(pdbcodes)"
   ]
  },
  {
   "cell_type": "code",
   "execution_count": 9,
   "metadata": {},
   "outputs": [],
   "source": [
    "def best_affinity(logfiles):\n",
    "    '''\n",
    "    Return the affinity of the top-ranked pose\n",
    "    '''\n",
    "    best_a = 0.0\n",
    "    best_p = None\n",
    "    for i, logfile in enumerate(logfiles):\n",
    "        for line in logfile.result().read_text().split('\\n'):\n",
    "            if '   1   ' in line:\n",
    "                if float(line.split()[1]) < best_a:\n",
    "                    best_a = float(line.split()[1])\n",
    "                    best_p = i                            \n",
    "    return best_p, best_a\n",
    "\n",
    "# prepare ligand for docking\n",
    "#ligand_qt = client.submit(prep_ligand, ligand)"
   ]
  },
  {
   "cell_type": "code",
   "execution_count": 10,
   "metadata": {},
   "outputs": [],
   "source": [
    "pockets = client.map(fpocket, receptors[:5])"
   ]
  },
  {
   "cell_type": "code",
   "execution_count": 13,
   "metadata": {},
   "outputs": [
    {
     "ename": "TypeError",
     "evalue": "First input to map must be a callable function",
     "output_type": "error",
     "traceback": [
      "\u001b[0;31m---------------------------------------------------------------------------\u001b[0m",
      "\u001b[0;31mTypeError\u001b[0m                                 Traceback (most recent call last)",
      "Cell \u001b[0;32mIn[13], line 1\u001b[0m\n\u001b[0;32m----> 1\u001b[0m confs \u001b[38;5;241m=\u001b[39m \u001b[43mclient\u001b[49m\u001b[38;5;241;43m.\u001b[39;49m\u001b[43mmap\u001b[49m\u001b[43m(\u001b[49m\u001b[43mget_dimensions\u001b[49m\u001b[43m,\u001b[49m\u001b[43m \u001b[49m\u001b[43mpockets\u001b[49m\u001b[43m)\u001b[49m\n",
      "File \u001b[0;32m~/.pyenv/versions/3.9.16/lib/python3.9/site-packages/crossflow/clients.py:242\u001b[0m, in \u001b[0;36mClient.map\u001b[0;34m(self, func, *iterables, **kwargs)\u001b[0m\n\u001b[1;32m    239\u001b[0m kwargs[\u001b[38;5;124m'\u001b[39m\u001b[38;5;124mpure\u001b[39m\u001b[38;5;124m'\u001b[39m] \u001b[38;5;241m=\u001b[39m \u001b[38;5;28;01mFalse\u001b[39;00m\n\u001b[1;32m    240\u001b[0m \u001b[38;5;28;01mif\u001b[39;00m \u001b[38;5;28misinstance\u001b[39m(func, (SubprocessKernel, FunctionKernel,\n\u001b[1;32m    241\u001b[0m                      SubprocessTask, FunctionTask)):\n\u001b[0;32m--> 242\u001b[0m     futures \u001b[38;5;241m=\u001b[39m \u001b[38;5;28;43msuper\u001b[39;49m\u001b[43m(\u001b[49m\u001b[43m)\u001b[49m\u001b[38;5;241;43m.\u001b[39;49m\u001b[43mmap\u001b[49m\u001b[43m(\u001b[49m\u001b[43mfunc\u001b[49m\u001b[43m,\u001b[49m\u001b[43m \u001b[49m\u001b[38;5;241;43m*\u001b[39;49m\u001b[43mnewits\u001b[49m\u001b[43m,\u001b[49m\u001b[43m \u001b[49m\u001b[38;5;241;43m*\u001b[39;49m\u001b[38;5;241;43m*\u001b[39;49m\u001b[43mkwargs\u001b[49m\u001b[43m)\u001b[49m\n\u001b[1;32m    243\u001b[0m     result \u001b[38;5;241m=\u001b[39m [\u001b[38;5;28mself\u001b[39m\u001b[38;5;241m.\u001b[39m_unpack(func, future) \u001b[38;5;28;01mfor\u001b[39;00m future \u001b[38;5;129;01min\u001b[39;00m futures]\n\u001b[1;32m    244\u001b[0m \u001b[38;5;28;01melse\u001b[39;00m:\n",
      "File \u001b[0;32m~/.pyenv/versions/3.9.16/lib/python3.9/site-packages/distributed/client.py:2053\u001b[0m, in \u001b[0;36mClient.map\u001b[0;34m(self, func, key, workers, retries, resources, priority, allow_other_workers, fifo_timeout, actor, actors, pure, batch_size, *iterables, **kwargs)\u001b[0m\n\u001b[1;32m   1978\u001b[0m \u001b[38;5;250m\u001b[39m\u001b[38;5;124;03m\"\"\"Map a function on a sequence of arguments\u001b[39;00m\n\u001b[1;32m   1979\u001b[0m \n\u001b[1;32m   1980\u001b[0m \u001b[38;5;124;03mArguments can be normal objects or Futures\u001b[39;00m\n\u001b[0;32m   (...)\u001b[0m\n\u001b[1;32m   2050\u001b[0m \u001b[38;5;124;03mClient.submit : Submit a single function\u001b[39;00m\n\u001b[1;32m   2051\u001b[0m \u001b[38;5;124;03m\"\"\"\u001b[39;00m\n\u001b[1;32m   2052\u001b[0m \u001b[38;5;28;01mif\u001b[39;00m \u001b[38;5;129;01mnot\u001b[39;00m \u001b[38;5;28mcallable\u001b[39m(func):\n\u001b[0;32m-> 2053\u001b[0m     \u001b[38;5;28;01mraise\u001b[39;00m \u001b[38;5;167;01mTypeError\u001b[39;00m(\u001b[38;5;124m\"\u001b[39m\u001b[38;5;124mFirst input to map must be a callable function\u001b[39m\u001b[38;5;124m\"\u001b[39m)\n\u001b[1;32m   2055\u001b[0m \u001b[38;5;28;01mif\u001b[39;00m \u001b[38;5;28mall\u001b[39m(\u001b[38;5;28misinstance\u001b[39m(it, pyQueue) \u001b[38;5;28;01mfor\u001b[39;00m it \u001b[38;5;129;01min\u001b[39;00m iterables) \u001b[38;5;129;01mor\u001b[39;00m \u001b[38;5;28mall\u001b[39m(\n\u001b[1;32m   2056\u001b[0m     \u001b[38;5;28misinstance\u001b[39m(i, Iterator) \u001b[38;5;28;01mfor\u001b[39;00m i \u001b[38;5;129;01min\u001b[39;00m iterables\n\u001b[1;32m   2057\u001b[0m ):\n\u001b[1;32m   2058\u001b[0m     \u001b[38;5;28;01mraise\u001b[39;00m \u001b[38;5;167;01mTypeError\u001b[39;00m(\n\u001b[1;32m   2059\u001b[0m         \u001b[38;5;124m\"\u001b[39m\u001b[38;5;124mDask no longer supports mapping over Iterators or Queues.\u001b[39m\u001b[38;5;124m\"\u001b[39m\n\u001b[1;32m   2060\u001b[0m         \u001b[38;5;124m\"\u001b[39m\u001b[38;5;124mConsider using a normal for loop and Client.submit\u001b[39m\u001b[38;5;124m\"\u001b[39m\n\u001b[1;32m   2061\u001b[0m     )\n",
      "\u001b[0;31mTypeError\u001b[0m: First input to map must be a callable function"
     ]
    }
   ],
   "source": [
    "confs = client.map(get_dimensions, pockets)"
   ]
  },
  {
   "cell_type": "code",
   "execution_count": 50,
   "metadata": {},
   "outputs": [
    {
     "name": "stdout",
     "output_type": "stream",
     "text": [
      "center_x = 17.646\n",
      "center_y = 29.888\n",
      "center_z = 14.020\n",
      "size_x = 13.779\n",
      "size_y = 18.657\n",
      "size_z = 12.396\n",
      "\n"
     ]
    }
   ],
   "source": [
    "print(confs.result()[0].read_text())"
   ]
  },
  {
   "cell_type": "code",
   "execution_count": 76,
   "metadata": {},
   "outputs": [],
   "source": [
    "ligand = fh.load('prz.pdbqt')\n",
    "docks, logs = client.map(vina, receptors[0], ligand, list(confs.result()))"
   ]
  },
  {
   "cell_type": "code",
   "execution_count": 78,
   "metadata": {},
   "outputs": [
    {
     "name": "stdout",
     "output_type": "stream",
     "text": [
      "<class 'tuple'>\n"
     ]
    }
   ],
   "source": [
    "print(type(confs.result()))"
   ]
  },
  {
   "cell_type": "code",
   "execution_count": 77,
   "metadata": {},
   "outputs": [
    {
     "name": "stdout",
     "output_type": "stream",
     "text": [
      "(7, -5.394)\n"
     ]
    }
   ],
   "source": [
    "print(best_affinity(logs))"
   ]
  },
  {
   "cell_type": "code",
   "execution_count": 14,
   "metadata": {},
   "outputs": [
    {
     "name": "stderr",
     "output_type": "stream",
     "text": [
      "2023-09-17 09:46:38,127 - distributed.utils_perf - WARNING - full garbage collections took 24% CPU time recently (threshold: 10%)\n",
      "2023-09-17 09:46:38,334 - distributed.utils_perf - WARNING - full garbage collections took 25% CPU time recently (threshold: 10%)\n",
      "2023-09-17 09:46:41,601 - distributed.utils_perf - WARNING - full garbage collections took 24% CPU time recently (threshold: 10%)\n",
      "2023-09-17 09:46:43,685 - distributed.utils_perf - WARNING - full garbage collections took 24% CPU time recently (threshold: 10%)\n",
      "2023-09-17 09:46:46,214 - distributed.utils_perf - WARNING - full garbage collections took 24% CPU time recently (threshold: 10%)\n",
      "2023-09-17 09:46:46,409 - distributed.utils_perf - WARNING - full garbage collections took 24% CPU time recently (threshold: 10%)\n",
      "2023-09-17 09:46:49,599 - distributed.utils_perf - WARNING - full garbage collections took 24% CPU time recently (threshold: 10%)\n",
      "2023-09-17 09:46:53,205 - distributed.utils_perf - WARNING - full garbage collections took 24% CPU time recently (threshold: 10%)\n",
      "2023-09-17 09:46:53,390 - distributed.utils_perf - WARNING - full garbage collections took 25% CPU time recently (threshold: 10%)\n",
      "2023-09-17 09:46:53,635 - distributed.utils_perf - WARNING - full garbage collections took 25% CPU time recently (threshold: 10%)\n",
      "2023-09-17 09:46:57,827 - distributed.utils_perf - WARNING - full garbage collections took 25% CPU time recently (threshold: 10%)\n",
      "2023-09-17 09:46:58,033 - distributed.utils_perf - WARNING - full garbage collections took 25% CPU time recently (threshold: 10%)\n",
      "2023-09-17 09:46:58,216 - distributed.utils_perf - WARNING - full garbage collections took 25% CPU time recently (threshold: 10%)\n",
      "2023-09-17 09:47:00,737 - distributed.utils_perf - WARNING - full garbage collections took 25% CPU time recently (threshold: 10%)\n",
      "2023-09-17 09:47:03,506 - distributed.utils_perf - WARNING - full garbage collections took 25% CPU time recently (threshold: 10%)\n",
      "2023-09-17 09:47:03,728 - distributed.utils_perf - WARNING - full garbage collections took 26% CPU time recently (threshold: 10%)\n",
      "2023-09-17 09:47:06,653 - distributed.utils_perf - WARNING - full garbage collections took 26% CPU time recently (threshold: 10%)\n",
      "2023-09-17 09:47:10,067 - distributed.utils_perf - WARNING - full garbage collections took 26% CPU time recently (threshold: 10%)\n",
      "2023-09-17 09:47:10,266 - distributed.utils_perf - WARNING - full garbage collections took 26% CPU time recently (threshold: 10%)\n",
      "2023-09-17 09:47:12,935 - distributed.utils_perf - WARNING - full garbage collections took 26% CPU time recently (threshold: 10%)\n",
      "2023-09-17 09:47:16,074 - distributed.utils_perf - WARNING - full garbage collections took 26% CPU time recently (threshold: 10%)\n",
      "2023-09-17 09:47:16,268 - distributed.utils_perf - WARNING - full garbage collections took 26% CPU time recently (threshold: 10%)\n",
      "2023-09-17 09:47:19,079 - distributed.utils_perf - WARNING - full garbage collections took 26% CPU time recently (threshold: 10%)\n",
      "2023-09-17 09:47:21,413 - distributed.utils_perf - WARNING - full garbage collections took 26% CPU time recently (threshold: 10%)\n",
      "2023-09-17 09:47:24,102 - distributed.utils_perf - WARNING - full garbage collections took 25% CPU time recently (threshold: 10%)\n",
      "2023-09-17 09:47:26,777 - distributed.utils_perf - WARNING - full garbage collections took 25% CPU time recently (threshold: 10%)\n",
      "2023-09-17 09:47:26,975 - distributed.utils_perf - WARNING - full garbage collections took 26% CPU time recently (threshold: 10%)\n",
      "2023-09-17 09:47:31,311 - distributed.utils_perf - WARNING - full garbage collections took 25% CPU time recently (threshold: 10%)\n",
      "2023-09-17 09:47:31,498 - distributed.utils_perf - WARNING - full garbage collections took 25% CPU time recently (threshold: 10%)\n",
      "2023-09-17 09:47:34,767 - distributed.utils_perf - WARNING - full garbage collections took 25% CPU time recently (threshold: 10%)\n",
      "2023-09-17 09:47:37,165 - distributed.utils_perf - WARNING - full garbage collections took 25% CPU time recently (threshold: 10%)\n",
      "2023-09-17 09:47:40,026 - distributed.utils_perf - WARNING - full garbage collections took 25% CPU time recently (threshold: 10%)\n",
      "2023-09-17 09:47:40,243 - distributed.utils_perf - WARNING - full garbage collections took 25% CPU time recently (threshold: 10%)\n",
      "2023-09-17 09:47:42,863 - distributed.utils_perf - WARNING - full garbage collections took 25% CPU time recently (threshold: 10%)\n",
      "2023-09-17 09:47:45,522 - distributed.utils_perf - WARNING - full garbage collections took 25% CPU time recently (threshold: 10%)\n",
      "2023-09-17 09:47:51,649 - distributed.utils_perf - WARNING - full garbage collections took 24% CPU time recently (threshold: 10%)\n",
      "2023-09-17 09:47:54,245 - distributed.utils_perf - WARNING - full garbage collections took 24% CPU time recently (threshold: 10%)\n",
      "2023-09-17 09:47:54,431 - distributed.utils_perf - WARNING - full garbage collections took 25% CPU time recently (threshold: 10%)\n",
      "2023-09-17 09:47:54,659 - distributed.utils_perf - WARNING - full garbage collections took 25% CPU time recently (threshold: 10%)\n",
      "2023-09-17 09:48:00,301 - distributed.utils_perf - WARNING - full garbage collections took 24% CPU time recently (threshold: 10%)\n",
      "2023-09-17 09:48:00,495 - distributed.utils_perf - WARNING - full garbage collections took 25% CPU time recently (threshold: 10%)\n",
      "2023-09-17 09:48:03,247 - distributed.utils_perf - WARNING - full garbage collections took 24% CPU time recently (threshold: 10%)\n",
      "2023-09-17 09:48:07,209 - distributed.utils_perf - WARNING - full garbage collections took 24% CPU time recently (threshold: 10%)\n",
      "2023-09-17 09:48:07,395 - distributed.utils_perf - WARNING - full garbage collections took 25% CPU time recently (threshold: 10%)\n",
      "2023-09-17 09:48:07,606 - distributed.utils_perf - WARNING - full garbage collections took 25% CPU time recently (threshold: 10%)\n",
      "2023-09-17 09:48:11,320 - distributed.utils_perf - WARNING - full garbage collections took 25% CPU time recently (threshold: 10%)\n",
      "2023-09-17 09:48:14,592 - distributed.utils_perf - WARNING - full garbage collections took 25% CPU time recently (threshold: 10%)\n",
      "2023-09-17 09:48:14,805 - distributed.utils_perf - WARNING - full garbage collections took 25% CPU time recently (threshold: 10%)\n",
      "2023-09-17 09:48:17,016 - distributed.utils_perf - WARNING - full garbage collections took 24% CPU time recently (threshold: 10%)\n",
      "2023-09-17 09:48:21,412 - distributed.utils_perf - WARNING - full garbage collections took 25% CPU time recently (threshold: 10%)\n",
      "2023-09-17 09:48:21,622 - distributed.utils_perf - WARNING - full garbage collections took 25% CPU time recently (threshold: 10%)\n",
      "2023-09-17 09:48:21,852 - distributed.utils_perf - WARNING - full garbage collections took 25% CPU time recently (threshold: 10%)\n",
      "2023-09-17 09:48:26,935 - distributed.utils_perf - WARNING - full garbage collections took 24% CPU time recently (threshold: 10%)\n",
      "2023-09-17 09:48:27,169 - distributed.utils_perf - WARNING - full garbage collections took 25% CPU time recently (threshold: 10%)\n",
      "2023-09-17 09:48:27,378 - distributed.utils_perf - WARNING - full garbage collections took 25% CPU time recently (threshold: 10%)\n",
      "2023-09-17 09:48:31,399 - distributed.utils_perf - WARNING - full garbage collections took 25% CPU time recently (threshold: 10%)\n",
      "2023-09-17 09:48:31,668 - distributed.utils_perf - WARNING - full garbage collections took 25% CPU time recently (threshold: 10%)\n",
      "2023-09-17 09:48:31,873 - distributed.utils_perf - WARNING - full garbage collections took 25% CPU time recently (threshold: 10%)\n",
      "2023-09-17 09:48:37,311 - distributed.utils_perf - WARNING - full garbage collections took 25% CPU time recently (threshold: 10%)\n",
      "2023-09-17 09:48:37,556 - distributed.utils_perf - WARNING - full garbage collections took 25% CPU time recently (threshold: 10%)\n",
      "2023-09-17 09:48:37,869 - distributed.utils_perf - WARNING - full garbage collections took 25% CPU time recently (threshold: 10%)\n",
      "2023-09-17 09:48:38,122 - distributed.utils_perf - WARNING - full garbage collections took 26% CPU time recently (threshold: 10%)\n",
      "2023-09-17 09:48:38,629 - distributed.utils_perf - WARNING - full garbage collections took 26% CPU time recently (threshold: 10%)\n",
      "2023-09-17 09:48:39,074 - distributed.utils_perf - WARNING - full garbage collections took 26% CPU time recently (threshold: 10%)\n"
     ]
    },
    {
     "name": "stderr",
     "output_type": "stream",
     "text": [
      "2023-09-17 09:48:39,403 - distributed.utils_perf - WARNING - full garbage collections took 26% CPU time recently (threshold: 10%)\n",
      "2023-09-17 09:48:39,761 - distributed.utils_perf - WARNING - full garbage collections took 27% CPU time recently (threshold: 10%)\n",
      "2023-09-17 09:48:40,273 - distributed.utils_perf - WARNING - full garbage collections took 27% CPU time recently (threshold: 10%)\n",
      "2023-09-17 09:48:43,678 - distributed.utils_perf - WARNING - full garbage collections took 26% CPU time recently (threshold: 10%)\n",
      "2023-09-17 09:48:43,955 - distributed.utils_perf - WARNING - full garbage collections took 26% CPU time recently (threshold: 10%)\n",
      "2023-09-17 09:48:46,010 - distributed.utils_perf - WARNING - full garbage collections took 27% CPU time recently (threshold: 10%)\n",
      "2023-09-17 09:48:48,297 - distributed.utils_perf - WARNING - full garbage collections took 26% CPU time recently (threshold: 10%)\n",
      "2023-09-17 09:48:48,488 - distributed.utils_perf - WARNING - full garbage collections took 27% CPU time recently (threshold: 10%)\n",
      "2023-09-17 09:48:50,942 - distributed.utils_perf - WARNING - full garbage collections took 27% CPU time recently (threshold: 10%)\n",
      "2023-09-17 09:48:54,317 - distributed.utils_perf - WARNING - full garbage collections took 26% CPU time recently (threshold: 10%)\n",
      "2023-09-17 09:48:54,502 - distributed.utils_perf - WARNING - full garbage collections took 26% CPU time recently (threshold: 10%)\n",
      "2023-09-17 09:48:54,724 - distributed.utils_perf - WARNING - full garbage collections took 27% CPU time recently (threshold: 10%)\n",
      "2023-09-17 09:48:54,919 - distributed.utils_perf - WARNING - full garbage collections took 27% CPU time recently (threshold: 10%)\n",
      "2023-09-17 09:48:57,484 - distributed.utils_perf - WARNING - full garbage collections took 27% CPU time recently (threshold: 10%)\n",
      "2023-09-17 09:48:57,691 - distributed.utils_perf - WARNING - full garbage collections took 27% CPU time recently (threshold: 10%)\n",
      "2023-09-17 09:48:57,931 - distributed.utils_perf - WARNING - full garbage collections took 27% CPU time recently (threshold: 10%)\n",
      "2023-09-17 09:49:02,492 - distributed.utils_perf - WARNING - full garbage collections took 27% CPU time recently (threshold: 10%)\n",
      "2023-09-17 09:49:04,166 - distributed.utils_perf - WARNING - full garbage collections took 26% CPU time recently (threshold: 10%)\n",
      "2023-09-17 09:49:06,962 - distributed.utils_perf - WARNING - full garbage collections took 27% CPU time recently (threshold: 10%)\n",
      "2023-09-17 09:49:07,203 - distributed.utils_perf - WARNING - full garbage collections took 27% CPU time recently (threshold: 10%)\n",
      "2023-09-17 09:49:11,099 - distributed.utils_perf - WARNING - full garbage collections took 26% CPU time recently (threshold: 10%)\n",
      "2023-09-17 09:49:11,304 - distributed.utils_perf - WARNING - full garbage collections took 27% CPU time recently (threshold: 10%)\n",
      "2023-09-17 09:49:13,456 - distributed.utils_perf - WARNING - full garbage collections took 26% CPU time recently (threshold: 10%)\n",
      "2023-09-17 09:49:16,581 - distributed.utils_perf - WARNING - full garbage collections took 26% CPU time recently (threshold: 10%)\n",
      "2023-09-17 09:49:16,784 - distributed.utils_perf - WARNING - full garbage collections took 27% CPU time recently (threshold: 10%)\n",
      "2023-09-17 09:49:17,016 - distributed.utils_perf - WARNING - full garbage collections took 27% CPU time recently (threshold: 10%)\n",
      "2023-09-17 09:49:21,185 - distributed.utils_perf - WARNING - full garbage collections took 26% CPU time recently (threshold: 10%)\n",
      "2023-09-17 09:49:23,773 - distributed.utils_perf - WARNING - full garbage collections took 26% CPU time recently (threshold: 10%)\n",
      "2023-09-17 09:49:23,971 - distributed.utils_perf - WARNING - full garbage collections took 26% CPU time recently (threshold: 10%)\n",
      "2023-09-17 09:49:24,204 - distributed.utils_perf - WARNING - full garbage collections took 27% CPU time recently (threshold: 10%)\n",
      "2023-09-17 09:49:26,948 - distributed.utils_perf - WARNING - full garbage collections took 26% CPU time recently (threshold: 10%)\n",
      "2023-09-17 09:49:29,489 - distributed.utils_perf - WARNING - full garbage collections took 26% CPU time recently (threshold: 10%)\n",
      "2023-09-17 09:49:29,702 - distributed.utils_perf - WARNING - full garbage collections took 26% CPU time recently (threshold: 10%)\n",
      "2023-09-17 09:49:33,397 - distributed.utils_perf - WARNING - full garbage collections took 26% CPU time recently (threshold: 10%)\n",
      "2023-09-17 09:49:33,605 - distributed.utils_perf - WARNING - full garbage collections took 26% CPU time recently (threshold: 10%)\n",
      "2023-09-17 09:49:33,856 - distributed.utils_perf - WARNING - full garbage collections took 26% CPU time recently (threshold: 10%)\n",
      "2023-09-17 09:49:34,071 - distributed.utils_perf - WARNING - full garbage collections took 26% CPU time recently (threshold: 10%)\n",
      "2023-09-17 09:49:38,956 - distributed.utils_perf - WARNING - full garbage collections took 25% CPU time recently (threshold: 10%)\n",
      "2023-09-17 09:49:39,181 - distributed.utils_perf - WARNING - full garbage collections took 26% CPU time recently (threshold: 10%)\n"
     ]
    }
   ],
   "source": [
    "# prepare ligand for docking\n",
    "ligand_qt = client.submit(prep_ligand, ligand)\n",
    "ligand_qt.result().save('prz.pdbqt')\n",
    "for pdbcode, chain_id in zip(pdbcodes, chain_ids):\n",
    "    receptor = download_and_select(pdbcode, chain_id)\n",
    "    receptor.save(f'{pdbcode}_receptor.pdb')\n",
    "    # Prepare receptor for docking:\n",
    "    receptor_qt = client.submit(prep_receptor, receptor)\n",
    "    receptor_qt.result().save(f'{pdbcode}_receptor.pdbqt')\n",
    "    \n",
    "    "
   ]
  },
  {
   "cell_type": "code",
   "execution_count": 55,
   "metadata": {},
   "outputs": [
    {
     "name": "stdout",
     "output_type": "stream",
     "text": [
      "1qy1 0 -5.8\n"
     ]
    }
   ],
   "source": [
    "for pdbcode, chain_id in zip(pdbcodes, chain_ids):\n",
    "    # Download structure:\n",
    "    receptor = download_and_select(pdbcode, chain_id)\n",
    "    \n",
    "    # Run fpocket:\n",
    "    pockets = client.submit(fpocket, receptor)\n",
    "\n",
    "    # Find the dimensions of each pocket\n",
    "    xcs, ycs, zcs, sxs, sys, szs = client.submit(get_dimensions, pockets)\n",
    "\n",
    "    # Prepare receptor for docking:\n",
    "    receptor_qt = client.submit(prep_receptor, receptor)\n",
    "\n",
    "\n",
    "    # Run vina:\n",
    "    docks, logfiles = client.map(vina, receptor_qt, ligand_qt, xcs.result(), ycs.result(), zcs.result(), sxs.result(), sys.result(), szs.result())\n",
    "\n",
    "    # Look through the log files for each pocket to find the best:\n",
    "\n",
    "    best_p, best_a = best_affinity(logfiles)\n",
    "    print(pdbcode, best_p, best_a)\n",
    "    "
   ]
  },
  {
   "cell_type": "code",
   "execution_count": 15,
   "metadata": {},
   "outputs": [],
   "source": [
    "cryptodata = '''2iuz -5.2\n",
    "1yv3 -6.5\n",
    "2jds -5.4\n",
    "1lic -4.8\n",
    "2hka -5.5\n",
    "3eks -5.4\n",
    "1nx3 -4.8\n",
    "2yqs -4.9\n",
    "2wi7 -5.4\n",
    "1br6 -5.3\n",
    "1j6z -5.8\n",
    "1tr5 -5.3\n",
    "1fqc -5.3\n",
    "2hvd -4.5\n",
    "3f82 -5.2\n",
    "1g67 -5.1\n",
    "3bqm -5.4\n",
    "1ftl -4.8\n",
    "1d6y -5.1\n",
    "1ey3 -5.0\n",
    "1pzy -5.4\n",
    "1xvc -5.9\n",
    "1imb -4.9\n",
    "2piq -5.3\n",
    "1ha3 -5.0\n",
    "3lth -5.0\n",
    "3dhh -4.1\n",
    "1ctr -4.4\n",
    "3h9j -4.8\n",
    "3hok -5.1\n",
    "2wkw -4.5\n",
    "1ghy -5.0\n",
    "1oke -4.9\n",
    "3hzt -5.3\n",
    "2egh -5.6\n",
    "3ip0 -6.4\n",
    "2bu2 -5.8\n",
    "2ohv -5.1\n",
    "3gqz -5.2\n",
    "2w5k -4.0\n",
    "1cib -5.4\n",
    "2ofp -4.7\n",
    "2ixu -4.4\n",
    "3bl7 -4.4\n",
    "1ryo -5.8\n",
    "2q8h -5.0\n",
    "2iyq -5.7\n",
    "1gky -5.5\n",
    "1s9d -4.9\n",
    "1ecc -5.8\n",
    "2h4k -5.2\n",
    "1eyj -4.7\n",
    "2brl -4.8\n",
    "3fqk -5.3\n",
    "2gz7 -4.5\n",
    "2v57 -5.2\n",
    "1cib -5.3\n",
    "1l5s -5.6\n",
    "3ixj -5.3\n",
    "2al4 -4.3\n",
    "3hqp -5.8\n",
    "1u1d -4.9\n",
    "2oo8 -5.1\n",
    "1q0b -5.6\n",
    "2npq -5.3\n",
    "2bys -6.2\n",
    "2gir -5.1\n",
    "3cfn -4.2\n",
    "1afq -5.0\n",
    "1ow3 -5.0\n",
    "3hl8 -5.4\n",
    "1ank -5.8\n",
    "3hl7 -6.0\n",
    "2ieg -5.4\n",
    "2eum -5.7\n",
    "3dc1 -4.4\n",
    "1t49 -5.2\n",
    "1gzf -5.3\n",
    "3fgo -5.5\n",
    "1za1 -4.9\n",
    "1qy1 -5.8'''"
   ]
  },
  {
   "cell_type": "code",
   "execution_count": 17,
   "metadata": {},
   "outputs": [
    {
     "name": "stdout",
     "output_type": "stream",
     "text": [
      "['2w5k -4.0', '3dhh -4.1', '3cfn -4.2', '2al4 -4.3', '1ctr -4.4', '2ixu -4.4', '3bl7 -4.4', '3dc1 -4.4', '2hvd -4.5', '2wkw -4.5', '2gz7 -4.5', '2ofp -4.7', '1eyj -4.7', '1lic -4.8', '1nx3 -4.8', '1ftl -4.8', '3h9j -4.8', '2brl -4.8', '2yqs -4.9', '1imb -4.9', '1oke -4.9', '1s9d -4.9', '1u1d -4.9', '1za1 -4.9', '1ey3 -5.0', '1ha3 -5.0', '3lth -5.0', '1ghy -5.0', '2q8h -5.0', '1afq -5.0', '1ow3 -5.0', '1g67 -5.1', '1d6y -5.1', '3hok -5.1', '2ohv -5.1', '2oo8 -5.1', '2gir -5.1', '2iuz -5.2', '3f82 -5.2', '3gqz -5.2', '2h4k -5.2', '2v57 -5.2', '1t49 -5.2', '1br6 -5.3', '1tr5 -5.3', '1fqc -5.3', '2piq -5.3', '3hzt -5.3', '3fqk -5.3', '1cib -5.3', '3ixj -5.3', '2npq -5.3', '1gzf -5.3', '2jds -5.4', '3eks -5.4', '2wi7 -5.4', '3bqm -5.4', '1pzy -5.4', '1cib -5.4', '3hl8 -5.4', '2ieg -5.4', '2hka -5.5', '1gky -5.5', '3fgo -5.5', '2egh -5.6', '1l5s -5.6', '1q0b -5.6', '2iyq -5.7', '2eum -5.7', '1j6z -5.8', '2bu2 -5.8', '1ryo -5.8', '1ecc -5.8', '3hqp -5.8', '1ank -5.8', '1qy1 -5.8', '1xvc -5.9', '3hl7 -6.0', '2bys -6.2', '3ip0 -6.4', '1yv3 -6.5']\n"
     ]
    }
   ],
   "source": [
    "cd = cryptodata.split('\\n')\n",
    "cd.sort(key=lambda x: x.split()[1])\n",
    "print(cd)"
   ]
  },
  {
   "cell_type": "code",
   "execution_count": 18,
   "metadata": {},
   "outputs": [],
   "source": [
    "from matplotlib import pyplot as plt\n",
    "%matplotlib inline"
   ]
  },
  {
   "cell_type": "code",
   "execution_count": 65,
   "metadata": {},
   "outputs": [
    {
     "data": {
      "image/png": "[encoded data removed]",
      "text/plain": [
       "<Figure size 432x288 with 1 Axes>"
      ]
     },
     "metadata": {
      "needs_background": "light"
     },
     "output_type": "display_data"
    }
   ],
   "source": [
    "#plt.figure(figsize=(10,7))\n",
    "scores = np.array([-float(c.split()[1]) for c in cd])\n",
    "ids = [c.split()[0] for c in cd]\n",
    "plt.plot(scores)\n",
    "q = ids.index('1qy1')\n",
    "plt.plot(q, scores[q], 'o')\n",
    "plt.xlabel('rank')\n",
    "plt.ylabel('-docking_score')\n",
    "plt.savefig('inverse_results.png')"
   ]
  },
  {
   "cell_type": "code",
   "execution_count": 60,
   "metadata": {},
   "outputs": [
    {
     "name": "stdout",
     "output_type": "stream",
     "text": [
      "['1xvc', '3hl7', '2bys', '3ip0', '1yv3']\n",
      "81\n"
     ]
    }
   ],
   "source": [
    "top5 = ids[-5:]\n",
    "print(top5)\n",
    "print(len(scores))"
   ]
  },
  {
   "cell_type": "code",
   "execution_count": 58,
   "metadata": {},
   "outputs": [
    {
     "name": "stdout",
     "output_type": "stream",
     "text": [
      "['1yv3', '1xvc', '3ip0', '2bys', '3hl7']\n",
      "['A', 'A', 'A', 'J', 'A']\n"
     ]
    }
   ],
   "source": [
    "with open('complexes.list') as f:\n",
    "    receptors = f.readlines()\n",
    "pdbcodes = [r[:4].lower() for r in receptors if r[:4].lower() in top5]\n",
    "chain_ids = [r[4] for r in receptors if r[:4].lower() in top5]\n",
    "print(pdbcodes)\n",
    "print(chain_ids)"
   ]
  },
  {
   "cell_type": "code",
   "execution_count": 59,
   "metadata": {},
   "outputs": [
    {
     "name": "stdout",
     "output_type": "stream",
     "text": [
      "1yv3 0 -6.4\n",
      "1xvc 0 -5.9\n",
      "3ip0 0 -6.4\n",
      "2bys 0 -6.2\n",
      "3hl7 0 -5.3\n"
     ]
    }
   ],
   "source": [
    "for pdbcode, chain_id in zip(pdbcodes, chain_ids):\n",
    "    # Download structure:\n",
    "    receptor = download_and_select(pdbcode, chain_id)\n",
    "    \n",
    "    # Run fpocket:\n",
    "    pockets = client.submit(fpocket, receptor)\n",
    "\n",
    "    # Find the dimensions of each pocket\n",
    "    xcs, ycs, zcs, sxs, sys, szs = client.submit(get_dimensions, pockets)\n",
    "\n",
    "    # Prepare receptor for docking:\n",
    "    receptor_qt = client.submit(prep_receptor, receptor)\n",
    "\n",
    "\n",
    "    # Run vina:\n",
    "    docks, logfiles = client.map(vina, receptor_qt, ligand_qt, xcs.result(), ycs.result(), zcs.result(), sxs.result(), sys.result(), szs.result())\n",
    "\n",
    "    # Look through the log files for each pocket to find the best:\n",
    "\n",
    "    best_p, best_a = best_affinity(logfiles)\n",
    "    print(pdbcode, best_p, best_a)\n",
    "    docks[best_p].result().save('{}_{}.pdbqt'.format(pdbcode, best_p))"
   ]
  },
  {
   "cell_type": "code",
   "execution_count": null,
   "metadata": {},
   "outputs": [],
   "source": []
  }
 ],
 "metadata": {
  "kernelspec": {
   "display_name": "Python 3 (ipykernel)",
   "language": "python",
   "name": "python3"
  },
  "language_info": {
   "codemirror_mode": {
    "name": "ipython",
    "version": 3
   },
   "file_extension": ".py",
   "mimetype": "text/x-python",
   "name": "python",
   "nbconvert_exporter": "python",
   "pygments_lexer": "ipython3",
   "version": "3.9.16"
  },
  "taskspec": {
   "display_name": "Python 3",
   "language": "python",
   "name": "python3"
  }
 },
 "nbformat": 4,
 "nbformat_minor": 2
}
