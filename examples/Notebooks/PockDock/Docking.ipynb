{
 "cells": [
  {
   "cell_type": "markdown",
   "metadata": {},
   "source": [
    "# Docking\n",
    "\n",
    "This notebook demonstrates how to run an AutoDock Vina calculation"
   ]
  },
  {
   "cell_type": "code",
   "execution_count": 3,
   "metadata": {},
   "outputs": [],
   "source": [
    "from crossflow import filehandling, tasks, clients\n",
    "import sys\n",
    "from urllib.request import urlretrieve\n",
    "import numpy as np\n",
    "import mdtraj as mdt"
   ]
  },
  {
   "cell_type": "markdown",
   "metadata": {},
   "source": [
    "Create a crossflow client, connected to a local pool of workers:"
   ]
  },
  {
   "cell_type": "code",
   "execution_count": 4,
   "metadata": {},
   "outputs": [],
   "source": [
    "client = clients.Client()"
   ]
  },
  {
   "cell_type": "markdown",
   "metadata": {},
   "source": [
    "Make the SubprocessTasks for **fpocket** and **Vina**, and FunctionTasks for other tasks:"
   ]
  },
  {
   "cell_type": "code",
   "execution_count": 5,
   "metadata": {},
   "outputs": [],
   "source": [
    "# The fpocket task:\n",
    "fpocket = tasks.SubprocessTask('fpocket -f x.pdb')\n",
    "fpocket.set_inputs(['x.pdb'])\n",
    "fpocket.set_outputs(['x_out/x_out.pdb'])"
   ]
  },
  {
   "cell_type": "code",
   "execution_count": 15,
   "metadata": {},
   "outputs": [],
   "source": [
    "# The vina task:\n",
    "vina = tasks.SubprocessTask('mac_vina --receptor r.pdbqt --ligand l.pdbqt --out out.pdbqt'\n",
    "                                 ' --center_x {xc} --center_y {yc} --center_z {zc}'\n",
    "                                 ' --size_x {sx} --size_y {sy} --size_z {sz} > dock.log')\n",
    "vina.set_inputs(['r.pdbqt', 'l.pdbqt', 'xc', 'yc', 'zc', 'sx', 'sy', 'sz'])\n",
    "vina.set_outputs(['out.pdbqt', 'dock.log'])"
   ]
  },
  {
   "cell_type": "code",
   "execution_count": 7,
   "metadata": {},
   "outputs": [],
   "source": [
    "# AutoDock Tool based tasks to prepare receptor and ligand for docking:\n",
    "prep_receptor = tasks.SubprocessTask('adt prepare_receptor4.py -r x.pdb -o x.pdbqt')\n",
    "prep_receptor.set_inputs(['x.pdb'])\n",
    "prep_receptor.set_outputs(['x.pdbqt'])\n",
    "\n",
    "prep_ligand = tasks.SubprocessTask('adt prepare_ligand4.py -l x.pdb -o x.pdbqt')\n",
    "prep_ligand.set_inputs(['x.pdb'])\n",
    "prep_ligand.set_outputs(['x.pdbqt'])"
   ]
  },
  {
   "cell_type": "code",
   "execution_count": 8,
   "metadata": {},
   "outputs": [],
   "source": [
    "def download_and_select(pdb_code, chain_name):\n",
    "    '''\n",
    "    A function to download a pdb file, and extract just the given chain\n",
    "    \n",
    "    Args:\n",
    "        pdb_code (str): 4-letter PDB code\n",
    "        chain_name (str): 1-letter chain ID\n",
    "        \n",
    "    Returns:\n",
    "        mdt.trajectory: the receptor (protein atoms only)\n",
    "    '''\n",
    "    pdb_file = pdb_code + '.pdb'\n",
    "    path = urlretrieve('http://files.rcsb.org/download/' + pdb_file, pdb_file)\n",
    "    with open(pdb_file) as f:\n",
    "        chain_ids = []\n",
    "        for line in f.readlines():\n",
    "            if 'CHAIN:' in line:\n",
    "                chain_ids += [c[0] for c in line.split()[3:]]\n",
    "                \n",
    "    full_system = mdt.load(pdb_file)\n",
    "    cid = chain_ids.index(chain_name)\n",
    "    receptor_atoms = full_system.topology.select('protein and chainid {}'.format(cid))\n",
    "    receptor = mdt.load(pdb_file, atom_indices=receptor_atoms)\n",
    "    return receptor"
   ]
  },
  {
   "cell_type": "code",
   "execution_count": 9,
   "metadata": {},
   "outputs": [],
   "source": [
    "def _pdbqt2pdb(infile):\n",
    "    '''\n",
    "    A Function to convert pdbqt files back to pdb ones\n",
    "    \n",
    "    Args:\n",
    "        infile (str): name of the input file, .pdbqt format\n",
    "    \n",
    "    Returns:\n",
    "        str: name of the .pdb file (always 'tmp.pdb')\n",
    "    '''\n",
    "    outfile = 'tmp.pdb'\n",
    "    fout = open(outfile, 'w')\n",
    "    with open(infile, 'r') as fin:\n",
    "        for line in fin:\n",
    "            if line[1:6] in 'ATOM  HETATM MODEL ENDMDL':\n",
    "                fout.write(line)       \n",
    "    fout.close()\n",
    "    return 'tmp.pdb'\n",
    "\n",
    "# Now make a FunctionTask for this:\n",
    "pdbqt2pdb = tasks.FunctionTask(_pdbqt2pdb)\n",
    "pdbqt2pdb.set_inputs(['infile'])\n",
    "pdbqt2pdb.set_outputs(['outfile'])"
   ]
  },
  {
   "cell_type": "code",
   "execution_count": 10,
   "metadata": {},
   "outputs": [],
   "source": [
    "def _get_dimensions(pockets):\n",
    "    '''\n",
    "    A Function to find the centre and extents of each of the first pocket found by fpocket\n",
    "    \n",
    "    Args:\n",
    "        pockets (str): Name of the pdb format file produced by fpocket\n",
    "        \n",
    "    Returns:\n",
    "        (list,) * 6: the pocket centres and extents in x/y/z - in Angstroms\n",
    "    '''\n",
    "    buffer = 2.0\n",
    "    t = mdt.load(pockets)\n",
    "    site = t.topology.select('resname STP and residue {}'.format(1))\n",
    "    # In the next two lines, the factor of 10 is a conversion from nanometres to Angstroms:\n",
    "    xc, yc, zc = tuple(10 * (t.xyz[0][site].min(axis=0) + t.xyz[0][site].max(axis=0)) / 2)\n",
    "    sx, sy, sz = tuple(10 * (t.xyz[0][site].max(axis=0) - t.xyz[0][site].min(axis=0)) + buffer)\n",
    "    return xc, yc, zc, sx, sy, sz\n",
    "\n",
    "# Now make a FunctionTask for this:\n",
    "get_dimensions = tasks.FunctionTask(_get_dimensions)\n",
    "get_dimensions.set_inputs(['pockets'])\n",
    "get_dimensions.set_outputs(['xc', 'yc', 'zc', 'sx', 'sy', 'sz'])"
   ]
  },
  {
   "cell_type": "code",
   "execution_count": 11,
   "metadata": {},
   "outputs": [],
   "source": [
    "fh = filehandling.FileHandler()\n",
    "#provisionscript = fh.load('provision.dat')\n",
    "#results = client.map(provision, [provisionscript] * 8) # >= max number of workers\n",
    "#print(results[0].result())"
   ]
  },
  {
   "cell_type": "markdown",
   "metadata": {},
   "source": [
    "Now we construct the workflow. For convenience it's split up here into sections."
   ]
  },
  {
   "cell_type": "code",
   "execution_count": 12,
   "metadata": {},
   "outputs": [
    {
     "name": "stdout",
     "output_type": "stream",
     "text": [
      "['1qy1']\n"
     ]
    }
   ],
   "source": [
    "ligand = fh.load('prz.pdb')\n",
    "pdbcodes = ['1qy1']\n",
    "chain_ids = ['A']\n",
    "#with open('complexes.list') as f:\n",
    "#    receptors = f.readlines()\n",
    "#pdbcodes = [r[:4].lower() for r in receptors]\n",
    "#chain_ids = [r[4] for r in receptors]\n",
    "print(pdbcodes)"
   ]
  },
  {
   "cell_type": "code",
   "execution_count": 13,
   "metadata": {},
   "outputs": [],
   "source": [
    "def best_affinity(logfiles):\n",
    "    '''\n",
    "    Return the affinity of the top-ranked pose\n",
    "    '''\n",
    "    best_a = 0.0\n",
    "    best_p = None\n",
    "    for i, logfile in enumerate(logfiles):\n",
    "        for line in logfile.result().read_text().split('\\n'):\n",
    "            if '   1   ' in line:\n",
    "                if float(line.split()[1]) < best_a:\n",
    "                    best_a = float(line.split()[1])\n",
    "                    best_p = i                            \n",
    "    return best_p, best_a"
   ]
  },
  {
   "cell_type": "code",
   "execution_count": 26,
   "metadata": {
    "scrolled": true
   },
   "outputs": [
    {
     "name": "stdout",
     "output_type": "stream",
     "text": [
      "prepare ligand: PASSED\n",
      "prepare receptor: PASSED\n",
      "run fpocket: PASSED\n",
      "get pocket dimenions: PASSED\n",
      "vina docking: PASSED\n",
      "pose extraction: PASSED\n",
      "AutoDock Vina v1.2.3-9-g75f87a4-mod\n",
      "#################################################################\n",
      "# If you used AutoDock Vina in your work, please cite:          #\n",
      "#                                                               #\n",
      "# J. Eberhardt, D. Santos-Martins, A. F. Tillack, and S. Forli  #\n",
      "# AutoDock Vina 1.2.0: New Docking Methods, Expanded Force      #\n",
      "# Field, and Python Bindings, J. Chem. Inf. Model. (2021)       #\n",
      "# DOI 10.1021/acs.jcim.1c00203                                  #\n",
      "#                                                               #\n",
      "# O. Trott, A. J. Olson,                                        #\n",
      "# AutoDock Vina: improving the speed and accuracy of docking    #\n",
      "# with a new scoring function, efficient optimization and       #\n",
      "# multithreading, J. Comp. Chem. (2010)                         #\n",
      "# DOI 10.1002/jcc.21334                                         #\n",
      "#                                                               #\n",
      "# Please see https://github.com/ccsb-scripps/AutoDock-Vina for  #\n",
      "# more information.                                             #\n",
      "#################################################################\n",
      "\n",
      "Scoring function : vina\n",
      "Rigid receptor: r.pdbqt\n",
      "Ligand: l.pdbqt\n",
      "Grid center: X 49.068 Y 25.2145 Z 40.45\n",
      "Grid size  : X 10.392 Y 9.931 Z 8.39\n",
      "Grid space : 0.375\n",
      "Exhaustiveness: 8\n",
      "CPU: 0\n",
      "Verbosity: 1\n",
      "\n",
      "Computing Vina grid ... done.\n",
      "Performing docking (random seed: -1643887654) ... \n",
      "0%   10   20   30   40   50   60   70   80   90   100%\n",
      "|----|----|----|----|----|----|----|----|----|----|\n",
      "***************************************************\n",
      "\n",
      "mode |   affinity | dist from best mode\n",
      "     | (kcal/mol) | rmsd l.b.| rmsd u.b.\n",
      "-----+------------+----------+----------\n",
      "   1       -5.837          0          0\n",
      "   2       -5.663      1.583      2.805\n",
      "   3       -5.423      1.866      2.836\n",
      "   4       -4.982      2.167      3.486\n",
      "   5       -4.952      1.399      3.965\n",
      "   6       -4.869      1.874      4.426\n",
      "   7       -4.785      2.955      3.895\n",
      "   8       -4.533      2.048      3.277\n",
      "   9       -4.234      2.195      4.371\n",
      "\n",
      "<mdtraj.Trajectory with 9 frames, 12 atoms, 1 residues, without unitcells>\n"
     ]
    }
   ],
   "source": [
    "while True:\n",
    "    # prepare ligand for docking\n",
    "    ligand_qt, status = client.submit(prep_ligand, ligand)\n",
    "    if status.result().returncode != 0:\n",
    "        print('prepare ligand: FAILED')\n",
    "        break\n",
    "    print('prepare ligand: PASSED') \n",
    "    \n",
    "    # prepare receptor for docking\n",
    "    receptor = download_and_select('1qy1', 'A')\n",
    "    receptor_qt, status = client.submit(prep_receptor, receptor)\n",
    "    if status.result().returncode != 0:\n",
    "        print('prepare receptor: FAILED')\n",
    "        break\n",
    "    print('prepare receptor: PASSED')  \n",
    "\n",
    "    # run fpocket\n",
    "    pockets, status = client.submit(fpocket, receptor)\n",
    "    if status.result().returncode != 0:\n",
    "        print('run fpocket: FAILED')\n",
    "        break\n",
    "    print('run fpocket: PASSED') \n",
    "    \n",
    "    # Get pocket dimensions\n",
    "    xc, yc, zc, sx, sy, sz, status = client.submit(get_dimensions, pockets)\n",
    "    if status.result().returncode != 0:\n",
    "        print('get pocket dimensions: FAILED')\n",
    "        break\n",
    "    print('get pocket dimenions: PASSED') \n",
    "    # Run the dock\n",
    "    dock, logfile, status = client.submit(vina, receptor_qt, ligand_qt, xc, yc, zc, sx, sy, sz)\n",
    "    if status.result().returncode != 0:\n",
    "        print('vina docking: FAILED')\n",
    "        break\n",
    "    print('vina docking: PASSED') \n",
    "    \n",
    "    # Convert the poses into an MDTraj trajectory:\n",
    "    posepdb, status = client.submit(pdbqt2pdb, dock)\n",
    "    if status.result().returncode != 0:\n",
    "        print('pose extraction: FAILED')\n",
    "        break\n",
    "    print('pose extraction: PASSED')\n",
    "    poses = mdt.load(posepdb.result())\n",
    "    break\n",
    "    \n",
    "print(logfile.result().read_text())\n",
    "print(poses)"
   ]
  },
  {
   "cell_type": "code",
   "execution_count": null,
   "metadata": {},
   "outputs": [],
   "source": []
  }
 ],
 "metadata": {
  "kernelspec": {
   "display_name": "Python 3 (ipykernel)",
   "language": "python",
   "name": "python3"
  },
  "language_info": {
   "codemirror_mode": {
    "name": "ipython",
    "version": 3
   },
   "file_extension": ".py",
   "mimetype": "text/x-python",
   "name": "python",
   "nbconvert_exporter": "python",
   "pygments_lexer": "ipython3",
   "version": "3.10.6"
  },
  "taskspec": {
   "display_name": "Python 3",
   "language": "python",
   "name": "python3"
  }
 },
 "nbformat": 4,
 "nbformat_minor": 2
}
