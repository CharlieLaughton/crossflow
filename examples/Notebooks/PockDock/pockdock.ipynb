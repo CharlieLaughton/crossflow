{
 "cells": [
  {
   "cell_type": "markdown",
   "metadata": {},
   "source": [
    "# PockDock\n",
    "\n",
    "This notebook demonstrates how a variety of different tools can be glued together into an efficient and flexible workflow using **Crossflow**.\n",
    "\n",
    "The workflow downloads a protein-ligand complex form the PDB, runs fpocket, then docks the ligand back into the biggest pocket found. Then it calculates the error between the crystal structure coordinates of the ligand and those of each docking pose, before and after least-squares fitting.\n",
    "\n",
    "The notebook requires you to have versions of **fpocket**, **autodock tools** and **autodock vina** installed on the worker node(s) of your dask cluster, which either:\n",
    "\n",
    " - is up and running and identifiable via the file \"dask.dat\" in the current directory (created when dask-scheduler is started with the `--scheduler_file` option)\n",
    " - will be a local cluster created right here, in which case scheduler_file=None"
   ]
  },
  {
   "cell_type": "code",
   "execution_count": 1,
   "metadata": {},
   "outputs": [],
   "source": [
    "from crossflow import filehandling, tasks, clients\n",
    "import sys\n",
    "from urllib.request import urlretrieve\n",
    "import numpy as np\n",
    "import mdtraj as mdt"
   ]
  },
  {
   "cell_type": "markdown",
   "metadata": {},
   "source": [
    "Create a crossflow client, connected to a pool of workers (see introductory notes):"
   ]
  },
  {
   "cell_type": "code",
   "execution_count": 2,
   "metadata": {},
   "outputs": [
    {
     "ename": "AttributeError",
     "evalue": "'Client' object has no attribute 'client'",
     "output_type": "error",
     "traceback": [
      "\u001b[0;31m---------------------------------------------------------------------------\u001b[0m",
      "\u001b[0;31mAttributeError\u001b[0m                            Traceback (most recent call last)",
      "Input \u001b[0;32mIn [2]\u001b[0m, in \u001b[0;36m<cell line: 3>\u001b[0;34m()\u001b[0m\n\u001b[1;32m      1\u001b[0m scheduler_file \u001b[38;5;241m=\u001b[39m \u001b[38;5;28;01mNone\u001b[39;00m\n\u001b[1;32m      2\u001b[0m client \u001b[38;5;241m=\u001b[39m clients\u001b[38;5;241m.\u001b[39mClient(scheduler_file\u001b[38;5;241m=\u001b[39mscheduler_file)\n\u001b[0;32m----> 3\u001b[0m \u001b[43mclient\u001b[49m\u001b[38;5;241;43m.\u001b[39;49m\u001b[43mclient\u001b[49m\n",
      "\u001b[0;31mAttributeError\u001b[0m: 'Client' object has no attribute 'client'"
     ]
    }
   ],
   "source": [
    "scheduler_file = None\n",
    "client = clients.Client(scheduler_file=scheduler_file)\n",
    "client"
   ]
  },
  {
   "cell_type": "markdown",
   "metadata": {},
   "source": [
    "Make the SubprocessTasks for **fpocket** and **Vina**, and FunctionTasks for other tasks:"
   ]
  },
  {
   "cell_type": "code",
   "execution_count": 3,
   "metadata": {},
   "outputs": [],
   "source": [
    "# The fpocket task:\n",
    "fpocket = tasks.SubprocessTask('fpocket -f x.pdb')\n",
    "fpocket.set_inputs(['x.pdb'])\n",
    "fpocket.set_outputs(['x_out/x_out.pdb'])"
   ]
  },
  {
   "cell_type": "code",
   "execution_count": 15,
   "metadata": {},
   "outputs": [],
   "source": [
    "# The vina task:\n",
    "vina = tasks.SubprocessTask('mac_vina --receptor r.pdbqt --ligand l.pdbqt --out out.pdbqt'\n",
    "                                 ' --center_x {xc} --center_y {yc} --center_z {zc}'\n",
    "                                 ' --size_x {sx} --size_y {sy} --size_z {sz} > dock.log')\n",
    "vina.set_inputs(['r.pdbqt', 'l.pdbqt', 'xc', 'yc', 'zc', 'sx', 'sy', 'sz'])\n",
    "vina.set_outputs(['out.pdbqt', 'dock.log'])"
   ]
  },
  {
   "cell_type": "code",
   "execution_count": 5,
   "metadata": {},
   "outputs": [],
   "source": [
    "# AutoDock Tool based tasks to prepare receptor and ligand for docking:\n",
    "prep_receptor = tasks.SubprocessTask('adt prepare_receptor4.py -r x.pdb -o x.pdbqt')\n",
    "prep_receptor.set_inputs(['x.pdb'])\n",
    "prep_receptor.set_outputs(['x.pdbqt'])\n",
    "\n",
    "prep_ligand = tasks.SubprocessTask('adt prepare_ligand4.py -l x.pdb -o x.pdbqt')\n",
    "prep_ligand.set_inputs(['x.pdb'])\n",
    "prep_ligand.set_outputs(['x.pdbqt'])"
   ]
  },
  {
   "cell_type": "code",
   "execution_count": 6,
   "metadata": {},
   "outputs": [],
   "source": [
    "\n",
    "def _download_and_split(pdb_code, ligand_residue_name):\n",
    "    '''\n",
    "    A function to download a pdb file, and split into receptor and ligand\n",
    "    \n",
    "    Args:\n",
    "        pdb_code (str): 4-letter PDB code\n",
    "        ligand_residue_name (str): 3-letter residue name\n",
    "        \n",
    "    Returns:\n",
    "        mdt.trajectory: the receptor (protein atoms only)\n",
    "        mdt.trajectory: the ligand\n",
    "    '''\n",
    "    pdb_file = pdb_code + '.pdb'\n",
    "    path = urlretrieve('http://files.rcsb.org/download/' + pdb_file, pdb_file)\n",
    "    hydrated_complex = mdt.load(pdb_file)\n",
    "    receptor_atoms = hydrated_complex.topology.select('protein and chainid 0')\n",
    "    found = False\n",
    "    for chain in hydrated_complex.topology.chains:\n",
    "        for r in chain.residues:\n",
    "            if r.name == ligand_residue_name and not found:\n",
    "                cid = chain.index\n",
    "                found = True\n",
    "\n",
    "    ligand_atoms = hydrated_complex.topology.select('resname {} and chainid {}'.format(ligand_residue_name, cid))\n",
    "    receptor = mdt.load(pdb_file, atom_indices=receptor_atoms)\n",
    "    ligand = mdt.load(pdb_file, atom_indices=ligand_atoms)\n",
    "    return receptor, ligand\n",
    "# Now make a FunctionTask for it:\n",
    "download_and_split = tasks.FunctionTask(_download_and_split)\n",
    "download_and_split.set_inputs(['pdb_code', 'ligand_residue_name'])\n",
    "download_and_split.set_outputs(['receptor', 'ligand'])"
   ]
  },
  {
   "cell_type": "code",
   "execution_count": 7,
   "metadata": {},
   "outputs": [],
   "source": [
    "\n",
    "def _pdbqt2pdb(infile):\n",
    "    '''\n",
    "    A Function to convert pdbqt files back to pdb ones\n",
    "    \n",
    "    Args:\n",
    "        infile (str): name of the input file, .pdbqt format\n",
    "    \n",
    "    Returns:\n",
    "        str: name of the .pdb file (always 'tmp.pdb')\n",
    "    '''\n",
    "    outfile = 'tmp.pdb'\n",
    "    fout = open(outfile, 'w')\n",
    "    with open(infile, 'r') as fin:\n",
    "        for line in fin:\n",
    "            if line[1:6] in 'ATOM  MODEL ENDMDL':\n",
    "                fout.write(line)       \n",
    "    fout.close()\n",
    "    return 'tmp.pdb'\n",
    "\n",
    "# Now make a FunctionTask for this:\n",
    "pdbqt2pdb = tasks.FunctionTask(_pdbqt2pdb)\n",
    "pdbqt2pdb.set_inputs(['infile'])\n",
    "pdbqt2pdb.set_outputs(['outfile'])"
   ]
  },
  {
   "cell_type": "code",
   "execution_count": 8,
   "metadata": {},
   "outputs": [],
   "source": [
    "def _get_dimensions(pockets):\n",
    "    '''\n",
    "    A Function to find the centre and extents of the largest pocket found by fpocket\n",
    "    \n",
    "    Args:\n",
    "        pockets (str): Name of the pdb format file produced by fpocket\n",
    "        \n",
    "    Returns:\n",
    "        (float,) * 6: the pocket centre and extents in x/y/z - in Angstroms\n",
    "    '''\n",
    "    buffer = 2.0\n",
    "    t = mdt.load(pockets)\n",
    "    site = t.topology.select('resname STP and residue 1') # This should be the largest pocket\n",
    "    # In the next two lines, the factor of 10 is a conversion from nanometres to Angstroms:\n",
    "    xc, yc, zc = tuple(10 * (t.xyz[0][site].min(axis=0) + t.xyz[0][site].max(axis=0)) / 2)\n",
    "    sx, sy, sz = tuple(10 * (t.xyz[0][site].max(axis=0) - t.xyz[0][site].min(axis=0)) + buffer)\n",
    "    return xc, yc, zc, sx, sy, sz\n",
    "\n",
    "# Now make a FunctionTask for this:\n",
    "get_dimensions = tasks.FunctionTask(_get_dimensions)\n",
    "get_dimensions.set_inputs(['pockets'])\n",
    "get_dimensions.set_outputs(['xc', 'yc', 'zc', 'sx', 'sy', 'sz'])"
   ]
  },
  {
   "cell_type": "markdown",
   "metadata": {},
   "source": [
    "Now we construct the workflow. For convenience it's split up here into sections."
   ]
  },
  {
   "cell_type": "code",
   "execution_count": 9,
   "metadata": {},
   "outputs": [],
   "source": [
    "pdb_code = '1qy1'\n",
    "ligand_residue_name = 'PRZ'"
   ]
  },
  {
   "cell_type": "code",
   "execution_count": 10,
   "metadata": {},
   "outputs": [
    {
     "name": "stdout",
     "output_type": "stream",
     "text": [
      "0\n"
     ]
    }
   ],
   "source": [
    "receptor, ligand, status = client.submit(download_and_split, pdb_code, ligand_residue_name)\n",
    "print(status.result().returncode) # zero if successful"
   ]
  },
  {
   "cell_type": "code",
   "execution_count": 11,
   "metadata": {},
   "outputs": [
    {
     "name": "stdout",
     "output_type": "stream",
     "text": [
      "0\n"
     ]
    }
   ],
   "source": [
    "# Run fpocket:\n",
    "pockets, status = client.submit(fpocket, receptor)\n",
    "print(status.result().returncode)"
   ]
  },
  {
   "cell_type": "code",
   "execution_count": 12,
   "metadata": {},
   "outputs": [
    {
     "name": "stdout",
     "output_type": "stream",
     "text": [
      "0\n"
     ]
    }
   ],
   "source": [
    "# Find the dimensions of the biggest pocket\n",
    "xc, yc, zc, sx, sy, sz, status = client.submit(get_dimensions, pockets)\n",
    "print(status.result().returncode)"
   ]
  },
  {
   "cell_type": "code",
   "execution_count": 13,
   "metadata": {},
   "outputs": [
    {
     "name": "stdout",
     "output_type": "stream",
     "text": [
      "0\n",
      "0\n"
     ]
    }
   ],
   "source": [
    "# Prepare receptor and ligand for docking:\n",
    "receptor_qt, status = client.submit(prep_receptor, receptor)\n",
    "print(status.result().returncode)\n",
    "ligand_qt, status = client.submit(prep_ligand, ligand)\n",
    "print(status.result().returncode)"
   ]
  },
  {
   "cell_type": "code",
   "execution_count": 16,
   "metadata": {},
   "outputs": [
    {
     "name": "stdout",
     "output_type": "stream",
     "text": [
      "0\n"
     ]
    }
   ],
   "source": [
    "# Run vina:\n",
    "docks, logfile, status = client.submit(vina, receptor_qt, ligand_qt, xc, yc, zc, sx, sy, sz)\n",
    "print(status.result().returncode)"
   ]
  },
  {
   "cell_type": "code",
   "execution_count": 17,
   "metadata": {},
   "outputs": [
    {
     "name": "stdout",
     "output_type": "stream",
     "text": [
      "AutoDock Vina v1.2.3-9-g75f87a4-mod\n",
      "#################################################################\n",
      "# If you used AutoDock Vina in your work, please cite:          #\n",
      "#                                                               #\n",
      "# J. Eberhardt, D. Santos-Martins, A. F. Tillack, and S. Forli  #\n",
      "# AutoDock Vina 1.2.0: New Docking Methods, Expanded Force      #\n",
      "# Field, and Python Bindings, J. Chem. Inf. Model. (2021)       #\n",
      "# DOI 10.1021/acs.jcim.1c00203                                  #\n",
      "#                                                               #\n",
      "# O. Trott, A. J. Olson,                                        #\n",
      "# AutoDock Vina: improving the speed and accuracy of docking    #\n",
      "# with a new scoring function, efficient optimization and       #\n",
      "# multithreading, J. Comp. Chem. (2010)                         #\n",
      "# DOI 10.1002/jcc.21334                                         #\n",
      "#                                                               #\n",
      "# Please see https://github.com/ccsb-scripps/AutoDock-Vina for  #\n",
      "# more information.                                             #\n",
      "#################################################################\n",
      "\n",
      "Scoring function : vina\n",
      "Rigid receptor: r.pdbqt\n",
      "Ligand: l.pdbqt\n",
      "Grid center: X 49.068 Y 25.2145 Z 40.45\n",
      "Grid size  : X 10.392 Y 9.931 Z 8.39\n",
      "Grid space : 0.375\n",
      "Exhaustiveness: 8\n",
      "CPU: 0\n",
      "Verbosity: 1\n",
      "\n",
      "Computing Vina grid ... done.\n",
      "Performing docking (random seed: 784293212) ... \n",
      "0%   10   20   30   40   50   60   70   80   90   100%\n",
      "|----|----|----|----|----|----|----|----|----|----|\n",
      "***************************************************\n",
      "\n",
      "mode |   affinity | dist from best mode\n",
      "     | (kcal/mol) | rmsd l.b.| rmsd u.b.\n",
      "-----+------------+----------+----------\n",
      "   1       -5.845          0          0\n",
      "   2       -5.675      1.606       2.81\n",
      "   3       -5.366      1.752      2.703\n",
      "   4       -5.184       2.13      4.534\n",
      "   5       -5.007      2.097      4.367\n",
      "   6       -4.952       2.26      4.473\n",
      "   7        -4.85      2.205      3.444\n",
      "   8       -3.863      1.941      3.596\n",
      "   9       -3.667      3.214      4.417\n",
      "\n"
     ]
    }
   ],
   "source": [
    "# Check the log file:\n",
    "print(logfile.result().read_text())"
   ]
  },
  {
   "cell_type": "code",
   "execution_count": 31,
   "metadata": {},
   "outputs": [
    {
     "name": "stdout",
     "output_type": "stream",
     "text": [
      "0\n",
      "Pose Fitted   Unfitted\n",
      "      rmsd      rmsd\n",
      "  1   1.209     2.836\n",
      "  2   1.138     1.681\n",
      "  3   1.073     3.553\n",
      "  4   1.238     3.920\n",
      "  5   0.304     4.580\n",
      "  6   1.115     4.639\n",
      "  7   1.197     3.611\n",
      "  8   0.883     3.937\n",
      "  9   0.351     4.274\n"
     ]
    }
   ],
   "source": [
    "# Convert the docked poses back to PDB format, and calculate unfitted and fitted rmsds \n",
    "# using MDTraj:\n",
    "pdbout, status = client.submit(pdbqt2pdb, docks)\n",
    "print(status.result().returncode)\n",
    "docktraj = mdt.load(pdbout.result())\n",
    "\n",
    "dxyz = docktraj.xyz - ligand.result().xyz\n",
    "msd = (dxyz * dxyz).sum(axis=2).mean(axis=1)\n",
    "unfitted_rmsd = np.sqrt(msd) * 10.0\n",
    "\n",
    "rmsd = mdt.rmsd(docktraj, ligand.result()) * 10.0 # nm -> angstroms\n",
    "print('Pose Fitted   Unfitted')\n",
    "print('      rmsd      rmsd')\n",
    "for mode in range(len(docktraj)):\n",
    "    print('{:3d}   {:5.3f}    {:6.3f}'.format(mode+1, rmsd[mode], unfitted_rmsd[mode]))"
   ]
  },
  {
   "cell_type": "code",
   "execution_count": null,
   "metadata": {},
   "outputs": [],
   "source": []
  }
 ],
 "metadata": {
  "kernelspec": {
   "display_name": "Python 3 (ipykernel)",
   "language": "python",
   "name": "python3"
  },
  "language_info": {
   "codemirror_mode": {
    "name": "ipython",
    "version": 3
   },
   "file_extension": ".py",
   "mimetype": "text/x-python",
   "name": "python",
   "nbconvert_exporter": "python",
   "pygments_lexer": "ipython3",
   "version": "3.9.10"
  },
  "taskspec": {
   "display_name": "Python 3",
   "language": "python",
   "name": "python3"
  }
 },
 "nbformat": 4,
 "nbformat_minor": 2
}
