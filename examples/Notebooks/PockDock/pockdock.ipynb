{
 "cells": [
  {
   "cell_type": "markdown",
   "metadata": {},
   "source": [
    "# PockDock\n",
    "\n",
    "This notebook demonstrates how a variety of different tools can be glued together into an efficient and flexible workflow using **Crossflow**.\n",
    "\n",
    "The workflow downloads a protein-ligand complex form the PDB, runs fpocket, then docks the ligand back into the biggest pocket found. Then it calculates the error between the crystal structure coordinates of the ligand and those of each docking pose, before and after least-squares fitting.\n",
    "\n",
    "The notebook requires you to have versions of **fpocket**, **autodock tools** and **autodock vina** installed on the worker node(s) of your dask cluster, which either:\n",
    "\n",
    " - is up and running and identifiable via the file \"dask.dat\" in the current directory (created when dask-scheduler is started with the `--scheduler_file` option)\n",
    " - will be a local cluster created right here, in which case scheduler_file=None"
   ]
  },
  {
   "cell_type": "code",
   "execution_count": null,
   "metadata": {},
   "outputs": [],
   "source": [
    "from crossflow import filehandling, kernels, clients\n",
    "import sys\n",
    "from urllib.request import urlretrieve\n",
    "import numpy as np\n",
    "import mdtraj as mdt"
   ]
  },
  {
   "cell_type": "markdown",
   "metadata": {},
   "source": [
    "Create a crossflow client, connected to a pool of workers (see introductory notes):"
   ]
  },
  {
   "cell_type": "code",
   "execution_count": null,
   "metadata": {},
   "outputs": [],
   "source": [
    "scheduler_file = None\n",
    "client = clients.Client(scheduler_file=scheduler_file)\n",
    "client.client"
   ]
  },
  {
   "cell_type": "markdown",
   "metadata": {},
   "source": [
    "Make the SubprocessKernels for **fpocket** and **Vina**, and FunctionKernels for other tasks:"
   ]
  },
  {
   "cell_type": "code",
   "execution_count": null,
   "metadata": {},
   "outputs": [],
   "source": [
    "# The fpocket kernel:\n",
    "fpocket = kernels.SubprocessKernel('fpocket -f x.pdb')\n",
    "fpocket.set_inputs(['x.pdb'])\n",
    "fpocket.set_outputs(['x_out/x_out.pdb'])"
   ]
  },
  {
   "cell_type": "code",
   "execution_count": null,
   "metadata": {},
   "outputs": [],
   "source": [
    "# The vina kernel:\n",
    "vina = kernels.SubprocessKernel('vina --receptor r.pdbqt --ligand l.pdbqt --out out.pdbqt --log dock.log'\n",
    "                                 ' --center_x {xc} --center_y {yc} --center_z {zc}'\n",
    "                                 ' --size_x {sx} --size_y {sy} --size_z {sz}')\n",
    "vina.set_inputs(['r.pdbqt', 'l.pdbqt', 'xc', 'yc', 'zc', 'sx', 'sy', 'sz'])\n",
    "vina.set_outputs(['out.pdbqt', 'dock.log'])"
   ]
  },
  {
   "cell_type": "code",
   "execution_count": null,
   "metadata": {},
   "outputs": [],
   "source": [
    "# AutoDock Tool based kernels to prepare receptor and ligand for docking:\n",
    "prep_receptor = kernels.SubprocessKernel('adt prepare_receptor4.py -r x.pdb -o x.pdbqt')\n",
    "prep_receptor.set_inputs(['x.pdb'])\n",
    "prep_receptor.set_outputs(['x.pdbqt'])\n",
    "\n",
    "prep_ligand = kernels.SubprocessKernel('adt prepare_ligand4.py -l x.pdb -o x.pdbqt')\n",
    "prep_ligand.set_inputs(['x.pdb'])\n",
    "prep_ligand.set_outputs(['x.pdbqt'])"
   ]
  },
  {
   "cell_type": "code",
   "execution_count": null,
   "metadata": {},
   "outputs": [],
   "source": [
    "\n",
    "def _download_and_split(pdb_code, ligand_residue_name):\n",
    "    '''\n",
    "    A function to download a pdb file, and split into receptor and ligand\n",
    "    \n",
    "    Args:\n",
    "        pdb_code (str): 4-letter PDB code\n",
    "        ligand_residue_name (str): 3-letter residue name\n",
    "        \n",
    "    Returns:\n",
    "        mdt.trajectory: the receptor (protein atoms only)\n",
    "        mdt.trajectory: the ligand\n",
    "    '''\n",
    "    pdb_file = pdb_code + '.pdb'\n",
    "    path = urlretrieve('http://files.rcsb.org/download/' + pdb_file, pdb_file)\n",
    "    hydrated_complex = mdt.load(pdb_file)\n",
    "    receptor_atoms = hydrated_complex.topology.select('protein and chainid 0')\n",
    "    found = False\n",
    "    for chain in hydrated_complex.topology.chains:\n",
    "        for r in chain.residues:\n",
    "            if r.name == ligand_residue_name and not found:\n",
    "                cid = chain.index\n",
    "                found = True\n",
    "\n",
    "    ligand_atoms = hydrated_complex.topology.select('resname {} and chainid {}'.format(ligand_residue_name, cid))\n",
    "    receptor = mdt.load(pdb_file, atom_indices=receptor_atoms)\n",
    "    ligand = mdt.load(pdb_file, atom_indices=ligand_atoms)\n",
    "    return receptor, ligand\n",
    "# Now make a FunctionKernel for it:\n",
    "download_and_split = kernels.FunctionKernel(_download_and_split)\n",
    "download_and_split.set_inputs(['pdb_code', 'ligand_residue_name'])\n",
    "download_and_split.set_outputs(['receptor', 'ligand'])"
   ]
  },
  {
   "cell_type": "code",
   "execution_count": null,
   "metadata": {},
   "outputs": [],
   "source": [
    "\n",
    "def _pdbqt2pdb(infile):\n",
    "    '''\n",
    "    A Function to convert pdbqt files back to pdb ones\n",
    "    \n",
    "    Args:\n",
    "        infile (str): name of the input file, .pdbqt format\n",
    "    \n",
    "    Returns:\n",
    "        str: name of the .pdb file (always 'tmp.pdb')\n",
    "    '''\n",
    "    outfile = 'tmp.pdb'\n",
    "    fout = open(outfile, 'w')\n",
    "    with open(infile, 'r') as fin:\n",
    "        for line in fin:\n",
    "            if line[1:6] in 'ATOM  MODEL ENDMDL':\n",
    "                fout.write(line)       \n",
    "    fout.close()\n",
    "    return 'tmp.pdb'\n",
    "\n",
    "# Now make a FunctionKernel for this:\n",
    "pdbqt2pdb = kernels.FunctionKernel(_pdbqt2pdb)\n",
    "pdbqt2pdb.set_inputs(['infile'])\n",
    "pdbqt2pdb.set_outputs(['outfile'])"
   ]
  },
  {
   "cell_type": "code",
   "execution_count": null,
   "metadata": {},
   "outputs": [],
   "source": [
    "def _get_dimensions(pockets):\n",
    "    '''\n",
    "    A Function to find the centre and extents of the largest pocket found by fpocket\n",
    "    \n",
    "    Args:\n",
    "        pockets (str): Name of the pdb format file produced by fpocket\n",
    "        \n",
    "    Returns:\n",
    "        (float,) * 6: the pocket centre and extents in x/y/z - in Angstroms\n",
    "    '''\n",
    "    buffer = 2.0\n",
    "    t = mdt.load(pockets)\n",
    "    site = t.topology.select('resname STP and residue 1') # This should be the largest pocket\n",
    "    # In the next two lines, the factor of 10 is a conversion from nanometres to Angstroms:\n",
    "    xc, yc, zc = tuple(10 * (t.xyz[0][site].min(axis=0) + t.xyz[0][site].max(axis=0)) / 2)\n",
    "    sx, sy, sz = tuple(10 * (t.xyz[0][site].max(axis=0) - t.xyz[0][site].min(axis=0)) + buffer)\n",
    "    return xc, yc, zc, sx, sy, sz\n",
    "\n",
    "# Now make a FunctionKernel for this:\n",
    "get_dimensions = kernels.FunctionKernel(_get_dimensions)\n",
    "get_dimensions.set_inputs(['pockets'])\n",
    "get_dimensions.set_outputs(['xc', 'yc', 'zc', 'sx', 'sy', 'sz'])"
   ]
  },
  {
   "cell_type": "markdown",
   "metadata": {},
   "source": [
    "Now we construct the workflow. For convenience it's split up here into sections."
   ]
  },
  {
   "cell_type": "code",
   "execution_count": null,
   "metadata": {},
   "outputs": [],
   "source": [
    "pdb_code = '1qy1'\n",
    "ligand_residue_name = 'PRZ'"
   ]
  },
  {
   "cell_type": "code",
   "execution_count": null,
   "metadata": {},
   "outputs": [],
   "source": [
    "receptor, ligand = client.submit(download_and_split, pdb_code, ligand_residue_name)\n",
    "print(ligand.result())"
   ]
  },
  {
   "cell_type": "code",
   "execution_count": null,
   "metadata": {},
   "outputs": [],
   "source": [
    "# Run fpocket:\n",
    "pockets = client.submit(fpocket, receptor)"
   ]
  },
  {
   "cell_type": "code",
   "execution_count": null,
   "metadata": {},
   "outputs": [],
   "source": [
    "# Find the dimensions of the biggest pocket\n",
    "xc, yc, zc, sx, sy, sz = client.submit(get_dimensions, pockets)"
   ]
  },
  {
   "cell_type": "code",
   "execution_count": null,
   "metadata": {},
   "outputs": [],
   "source": [
    "# Prepare receptor and ligand for docking:\n",
    "receptor_qt = client.submit(prep_receptor, receptor)\n",
    "ligand_qt = client.submit(prep_ligand, ligand)"
   ]
  },
  {
   "cell_type": "code",
   "execution_count": null,
   "metadata": {},
   "outputs": [],
   "source": [
    "# Run vina:\n",
    "docks, logfile = client.submit(vina, receptor_qt, ligand_qt, xc, yc, zc, sx, sy, sz)"
   ]
  },
  {
   "cell_type": "code",
   "execution_count": null,
   "metadata": {},
   "outputs": [],
   "source": [
    "# Check the log file:\n",
    "print(logfile.result().read_text())"
   ]
  },
  {
   "cell_type": "code",
   "execution_count": null,
   "metadata": {},
   "outputs": [],
   "source": [
    "# Convert the docked poses back to PDB format, and calculate unfitted and fitted rmsds \n",
    "# using MDTraj:\n",
    "pdbout = client.submit(pdbqt2pdb, docks)\n",
    "docktraj = mdt.load(pdbout.result())\n",
    "rmsd = mdt.rmsd(docktraj, ligand.result()) * 10.0 # nm -> angstroms\n",
    "dxyz = docktraj.xyz - ligand.result().xyz\n",
    "msd = (dxyz * dxyz).sum(axis=2).mean(axis=1)\n",
    "unfitted_rmsd = np.sqrt(msd) * 10.0\n",
    "print('Pose Fitted   Unfitted')\n",
    "print('      rmsd      rmsd')\n",
    "for mode in range(len(docktraj)):\n",
    "    print('{:3d}   {:5.3f}    {:6.3f}'.format(mode+1, rmsd[mode], unfitted_rmsd[mode]))"
   ]
  },
  {
   "cell_type": "code",
   "execution_count": null,
   "metadata": {},
   "outputs": [],
   "source": []
  }
 ],
 "metadata": {
  "kernelspec": {
   "display_name": "Python 3",
   "language": "python",
   "name": "python3"
  },
  "language_info": {
   "codemirror_mode": {
    "name": "ipython",
    "version": 3
   },
   "file_extension": ".py",
   "mimetype": "text/x-python",
   "name": "python",
   "nbconvert_exporter": "python",
   "pygments_lexer": "ipython3",
   "version": "3.7.6"
  }
 },
 "nbformat": 4,
 "nbformat_minor": 2
}
