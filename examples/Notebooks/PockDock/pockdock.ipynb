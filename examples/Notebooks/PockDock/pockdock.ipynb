{
 "cells": [
  {
   "cell_type": "markdown",
   "metadata": {},
   "source": [
    "# PockDock\n",
    "\n",
    "This notebook demonstrates how a variety of different tools can be glued together into an efficient and flexible workflow using **Crossflow**.\n",
    "\n",
    "The workflow downloads a protein-ligand complex form the PDB, runs fpocket, then docks the ligand back into the biggest pocket found. Then it calculates the error between the crystal structure coordinates of the ligand and those of each docking pose, before and after least-squares fitting.\n",
    "\n",
    "The notebook requires you to have versions of **fpocket**, **autodock tools** and **autodock vina** installed on the worker node(s) of your dask cluster, which is up and running and identifiable via the file \"dask.dat\" in the current directory (created when dask-scheduler is started with the `--scheduler_file` option)"
   ]
  },
  {
   "cell_type": "code",
   "execution_count": 1,
   "metadata": {},
   "outputs": [],
   "source": [
    "from crossflow import filehandling, kernels, clients\n",
    "import sys\n",
    "from urllib.request import urlretrieve\n",
    "import numpy as np\n",
    "import mdtraj as mdt"
   ]
  },
  {
   "cell_type": "markdown",
   "metadata": {},
   "source": [
    "Create a crossflow client, connected to a local pool of workers:"
   ]
  },
  {
   "cell_type": "code",
   "execution_count": 2,
   "metadata": {},
   "outputs": [
    {
     "data": {
      "text/html": [
       "<table style=\"border: 2px solid white;\">\n",
       "<tr>\n",
       "<td style=\"vertical-align: top; border: 0px solid white\">\n",
       "<h3 style=\"text-align: left;\">Client</h3>\n",
       "<ul style=\"text-align: left; list-style: none; margin: 0; padding: 0;\">\n",
       "  <li><b>Scheduler: </b>tcp://192.168.1.67:8786</li>\n",
       "  <li><b>Dashboard: </b><a href='http://192.168.1.67:8787/status' target='_blank'>http://192.168.1.67:8787/status</a></li>\n",
       "</ul>\n",
       "</td>\n",
       "<td style=\"vertical-align: top; border: 0px solid white\">\n",
       "<h3 style=\"text-align: left;\">Cluster</h3>\n",
       "<ul style=\"text-align: left; list-style:none; margin: 0; padding: 0;\">\n",
       "  <li><b>Workers: </b>1</li>\n",
       "  <li><b>Cores: </b>8</li>\n",
       "  <li><b>Memory: </b>17.18 GB</li>\n",
       "</ul>\n",
       "</td>\n",
       "</tr>\n",
       "</table>"
      ],
      "text/plain": [
       "<Client: 'tcp://192.168.1.67:8786' processes=1 threads=8, memory=17.18 GB>"
      ]
     },
     "execution_count": 2,
     "metadata": {},
     "output_type": "execute_result"
    }
   ],
   "source": [
    "client = clients.Client(scheduler_file='dask.dat')\n",
    "client.client"
   ]
  },
  {
   "cell_type": "markdown",
   "metadata": {},
   "source": [
    "Make the SubprocessKernels for **fpocket** and **Vina**, and FunctionKernels for other tasks:"
   ]
  },
  {
   "cell_type": "code",
   "execution_count": 3,
   "metadata": {},
   "outputs": [],
   "source": [
    "# The fpocket kernel:\n",
    "fpocket = kernels.SubprocessKernel('fpocket -f x.pdb')\n",
    "fpocket.set_inputs(['x.pdb'])\n",
    "fpocket.set_outputs(['x_out/x_out.pdb'])"
   ]
  },
  {
   "cell_type": "code",
   "execution_count": 4,
   "metadata": {},
   "outputs": [],
   "source": [
    "# The vina kernel:\n",
    "vina = kernels.SubprocessKernel('vina --receptor r.pdbqt --ligand l.pdbqt --out out.pdbqt --log dock.log'\n",
    "                                 ' --center_x {xc} --center_y {yc} --center_z {zc}'\n",
    "                                 ' --size_x {sx} --size_y {sy} --size_z {sz}')\n",
    "vina.set_inputs(['r.pdbqt', 'l.pdbqt', 'xc', 'yc', 'zc', 'sx', 'sy', 'sz'])\n",
    "vina.set_outputs(['out.pdbqt', 'dock.log'])"
   ]
  },
  {
   "cell_type": "code",
   "execution_count": 5,
   "metadata": {},
   "outputs": [],
   "source": [
    "# AutoDock Tool based kernels to prepare receptor and ligand for docking:\n",
    "prep_receptor = kernels.SubprocessKernel('adt prepare_receptor4.py -r x.pdb -o x.pdbqt')\n",
    "prep_receptor.set_inputs(['x.pdb'])\n",
    "prep_receptor.set_outputs(['x.pdbqt'])\n",
    "\n",
    "prep_ligand = kernels.SubprocessKernel('adt prepare_ligand4.py -l x.pdb -o x.pdbqt')\n",
    "prep_ligand.set_inputs(['x.pdb'])\n",
    "prep_ligand.set_outputs(['x.pdbqt'])"
   ]
  },
  {
   "cell_type": "code",
   "execution_count": 79,
   "metadata": {},
   "outputs": [],
   "source": [
    "\n",
    "def _download_and_split(pdb_code, ligand_residue_name):\n",
    "    '''\n",
    "    A function to download a pdb file, and split into receptor and ligand\n",
    "    \n",
    "    Args:\n",
    "        pdb_code (str): 4-letter PDB code\n",
    "        ligand_residue_name (str): 3-letter residue name\n",
    "        \n",
    "    Returns:\n",
    "        mdt.trajectory: the receptor (protein atoms only)\n",
    "        mdt.trajectory: the ligand\n",
    "    '''\n",
    "    pdb_file = pdb_code + '.pdb'\n",
    "    path = urlretrieve('http://files.rcsb.org/download/' + pdb_file, pdb_file)\n",
    "    hydrated_complex = mdt.load(pdb_file)\n",
    "    receptor_atoms = hydrated_complex.topology.select('protein and chainid 0')\n",
    "    found = False\n",
    "    for chain in hydrated_complex.topology.chains:\n",
    "        for r in chain.residues:\n",
    "            if r.name == ligand_residue_name and not found:\n",
    "                cid = chain.index\n",
    "                found = True\n",
    "\n",
    "    ligand_atoms = hydrated_complex.topology.select('resname MAU and chainid {}'.format(cid))\n",
    "    receptor = mdt.load(pdb_file, atom_indices=receptor_atoms)\n",
    "    ligand = mdt.load(pdb_file, atom_indices=ligand_atoms)\n",
    "    return receptor, ligand\n",
    "# Now make a FunctionKernel for it:\n",
    "download_and_split = kernels.FunctionKernel(_download_and_split)\n",
    "download_and_split.set_inputs(['pdb_code', 'ligand_residue_name'])\n",
    "download_and_split.set_outputs(['receptor', 'ligand'])"
   ]
  },
  {
   "cell_type": "code",
   "execution_count": null,
   "metadata": {},
   "outputs": [],
   "source": [
    "\n",
    "def _pdbqt2pdb(infile):\n",
    "    '''\n",
    "    A Function to convert pdbqt files back to pdb ones\n",
    "    \n",
    "    Args:\n",
    "        infile (str): name of the input file, .pdbqt format\n",
    "    \n",
    "    Returns:\n",
    "        str: name of the .pdb file (always 'tmp.pdb')\n",
    "    '''\n",
    "    outfile = 'tmp.pdb'\n",
    "    fout = open(outfile, 'w')\n",
    "    with open(infile, 'r') as fin:\n",
    "        for line in fin:\n",
    "            if line[1:6] in 'ATOM  MODEL ENDMDL':\n",
    "                fout.write(line)       \n",
    "    fout.close()\n",
    "    return 'tmp.pdb'\n",
    "\n",
    "# Now make a FunctionKernel for this:\n",
    "pdbqt2pdb = kernels.FunctionKernel(_pdbqt2pdb)\n",
    "pdbqt2pdb.set_inputs(['infile'])\n",
    "pdbqt2pdb.set_outputs(['outfile'])"
   ]
  },
  {
   "cell_type": "code",
   "execution_count": 8,
   "metadata": {},
   "outputs": [],
   "source": [
    "def _get_dimensions(pockets):\n",
    "    '''\n",
    "    A Function to find the centre and extents of the largest pocket found by fpocket\n",
    "    \n",
    "    Args:\n",
    "        pockets (str): Name of the pdb format file produced by fpocket\n",
    "        \n",
    "    Returns:\n",
    "        (float,) * 6: the pocket centre and extents in x/y/z - in Angstroms\n",
    "    '''\n",
    "    buffer = 2.0\n",
    "    t = mdt.load(pockets)\n",
    "    site = t.topology.select('resname STP and residue 1') # This should be the largest pocket\n",
    "    # In the next two lines, the factor of 10 is a conversion from nanometres to Angstroms:\n",
    "    xc, yc, zc = tuple(10 * (t.xyz[0][site].min(axis=0) + t.xyz[0][site].max(axis=0)) / 2)\n",
    "    sx, sy, sz = tuple(10 * (t.xyz[0][site].max(axis=0) - t.xyz[0][site].min(axis=0)) + buffer)\n",
    "    return xc, yc, zc, sx, sy, sz\n",
    "\n",
    "# Now make a FunctionKernel for this:\n",
    "get_dimensions = kernels.FunctionKernel(_get_dimensions)\n",
    "get_dimensions.set_inputs(['pockets'])\n",
    "get_dimensions.set_outputs(['xc', 'yc', 'zc', 'sx', 'sy', 'sz'])"
   ]
  },
  {
   "cell_type": "markdown",
   "metadata": {},
   "source": [
    "Now we construct the workflow. For convenience it's split up here into sections."
   ]
  },
  {
   "cell_type": "code",
   "execution_count": 80,
   "metadata": {},
   "outputs": [],
   "source": [
    "#pdb_code = '1qy1'\n",
    "#ligand_residue_name = 'PRZ'\n",
    "pdb_code = '1ha3'\n",
    "ligand_residue_name = 'MAU'"
   ]
  },
  {
   "cell_type": "code",
   "execution_count": 81,
   "metadata": {},
   "outputs": [
    {
     "name": "stdout",
     "output_type": "stream",
     "text": [
      "<mdtraj.Trajectory with 1 frames, 58 atoms, 1 residues, and unitcells>\n"
     ]
    }
   ],
   "source": [
    "receptor, ligand = client.submit(download_and_split, pdb_code, ligand_residue_name)\n",
    "print(ligand.result())"
   ]
  },
  {
   "cell_type": "code",
   "execution_count": 82,
   "metadata": {},
   "outputs": [],
   "source": [
    "# Run fpocket:\n",
    "pockets = client.submit(fpocket, receptor)"
   ]
  },
  {
   "cell_type": "code",
   "execution_count": 83,
   "metadata": {},
   "outputs": [],
   "source": [
    "# Find the dimensions of the biggest pocket\n",
    "xc, yc, zc, sx, sy, sz = client.submit(get_dims, pockets)"
   ]
  },
  {
   "cell_type": "code",
   "execution_count": 84,
   "metadata": {},
   "outputs": [],
   "source": [
    "# Prepare receptor and ligand for docking:\n",
    "receptor_qt = client.submit(prep_receptor, receptor)\n",
    "ligand_qt = client.submit(prep_ligand, ligand)"
   ]
  },
  {
   "cell_type": "code",
   "execution_count": 85,
   "metadata": {},
   "outputs": [],
   "source": [
    "# Run vina:\n",
    "docks, logfile = client.submit(vina, receptor_qt, ligand_qt, xc, yc, zc, sx, sy, sz)"
   ]
  },
  {
   "cell_type": "code",
   "execution_count": 86,
   "metadata": {},
   "outputs": [
    {
     "name": "stdout",
     "output_type": "stream",
     "text": [
      "#################################################################\n",
      "# If you used AutoDock Vina in your work, please cite:          #\n",
      "#                                                               #\n",
      "# O. Trott, A. J. Olson,                                        #\n",
      "# AutoDock Vina: improving the speed and accuracy of docking    #\n",
      "# with a new scoring function, efficient optimization and       #\n",
      "# multithreading, Journal of Computational Chemistry 31 (2010)  #\n",
      "# 455-461                                                       #\n",
      "#                                                               #\n",
      "# DOI 10.1002/jcc.21334                                         #\n",
      "#                                                               #\n",
      "# Please see http://vina.scripps.edu for more information.      #\n",
      "#################################################################\n",
      "\n",
      "Detected 4 CPUs\n",
      "Reading input ... done.\n",
      "Setting up the scoring function ... done.\n",
      "Analyzing the binding site ... done.\n",
      "Using random seed: -1682926859\n",
      "Performing search ... done.\n",
      "Refining results ... done.\n",
      "\n",
      "mode |   affinity | dist from best mode\n",
      "     | (kcal/mol) | rmsd l.b.| rmsd u.b.\n",
      "-----+------------+----------+----------\n",
      "   1         -8.8      0.000      0.000\n",
      "   2         -8.5      2.279      6.776\n",
      "   3         -8.5      1.776      2.782\n",
      "   4         -8.4      2.301     11.277\n",
      "   5         -8.1      2.286     10.051\n",
      "   6         -7.7      2.098      6.425\n",
      "   7         -7.5      2.444     11.757\n",
      "   8         -7.5      2.311     11.057\n",
      "   9         -7.4      2.347      6.804\n",
      "Writing output ... done.\n",
      "\n"
     ]
    }
   ],
   "source": [
    "# Check the log file:\n",
    "print(logfile.result().read_text())"
   ]
  },
  {
   "cell_type": "code",
   "execution_count": 87,
   "metadata": {},
   "outputs": [
    {
     "name": "stdout",
     "output_type": "stream",
     "text": [
      "Mode Fitted   Unfitted\n",
      "      rmsd      rmsd\n",
      "  1   6.887    27.437\n",
      "  2   7.676    27.961\n",
      "  3   7.216    27.924\n",
      "  4   7.710    28.600\n",
      "  5   6.692    30.023\n",
      "  6   6.843    28.025\n",
      "  7   7.461    28.657\n",
      "  8   7.682    28.948\n",
      "  9   6.881    28.493\n"
     ]
    }
   ],
   "source": [
    "# Convert the docked poses back to PDB format, and calculate unfitted and fitted rmsds using MDTraj:\n",
    "pdbout = client.submit(pdbqt_to_pdb, docks)\n",
    "docktraj = mdt.load(str(pdbout.result()))\n",
    "dxyz = docktraj.xyz - ligand.result().xyz\n",
    "dxyz = (dxyz * dxyz).sum(axis=2).mean(axis=1)\n",
    "rmsd = mdt.rmsd(docktraj, ligand.result()) * 10.0\n",
    "unfitted_rmsd = np.sqrt(dxyz) * 10.0\n",
    "print('Mode Fitted   Unfitted')\n",
    "print('      rmsd      rmsd')\n",
    "for mode in range(len(docktraj)):\n",
    "    print('{:3d}   {:5.3f}    {:6.3f}'.format(mode+1, rmsd[mode], unfitted_rmsd[mode]))"
   ]
  },
  {
   "cell_type": "markdown",
   "metadata": {},
   "source": [
    "Now let's run at scale. For this we will have a new output format that puts the results for each protein on a single line:"
   ]
  },
  {
   "cell_type": "code",
   "execution_count": 89,
   "metadata": {},
   "outputs": [
    {
     "name": "stdout",
     "output_type": "stream",
     "text": [
      "1ha3 MAU  27.437 27.961 27.924 28.600 30.023 28.025 28.657 28.948 28.493\n"
     ]
    }
   ],
   "source": [
    "def report(pdb_code, ligand_residue_name, pdbout, reference):\n",
    "    docktraj = mdt.load(str(pdbout.result()))\n",
    "    dxyz = docktraj.xyz - reference.result().xyz\n",
    "    dxyz = (dxyz * dxyz).sum(axis=2).mean(axis=1)\n",
    "    unfitted_rmsd = np.sqrt(dxyz) * 10.0\n",
    "    fmt = '{} {} ' + '{:7.3f}' * len(docktraj)\n",
    "    print(fmt.format(pdb_code, ligand_residue_name, *unfitted_rmsd))\n",
    "report(pdb_code, ligand_residue_name, pdbout, ligand)"
   ]
  },
  {
   "cell_type": "code",
   "execution_count": 48,
   "metadata": {},
   "outputs": [],
   "source": [
    "pdb_code = '1ha3'\n",
    "pdb_file = pdb_code + '.pdb'\n",
    "path = urlretrieve('http://files.rcsb.org/download/' + pdb_file, pdb_file)"
   ]
  },
  {
   "cell_type": "code",
   "execution_count": 49,
   "metadata": {},
   "outputs": [
    {
     "name": "stdout",
     "output_type": "stream",
     "text": [
      "[   0    1    2 ... 3033 3034 3035]\n",
      "[]\n"
     ]
    }
   ],
   "source": [
    "hydrated_complex = mdt.load(pdb_file)\n",
    "receptor_atoms = hydrated_complex.topology.select('protein and chainid 0')\n",
    "ligand_atoms = hydrated_complex.topology.select('resname {} and chainid 0'.format(ligand_residue_name))\n",
    "print(receptor_atoms)\n",
    "print(ligand_atoms)"
   ]
  },
  {
   "cell_type": "code",
   "execution_count": 68,
   "metadata": {},
   "outputs": [
    {
     "name": "stdout",
     "output_type": "stream",
     "text": [
      "[6096 6097 6098 6099 6100 6101 6102 6103 6104 6105 6106 6107 6108 6109\n",
      " 6110 6111 6112 6113 6114 6115 6116 6117 6118 6119 6120 6121 6122 6123\n",
      " 6124 6125 6126 6127 6128 6129 6130 6131 6132 6133 6134 6135 6136 6137\n",
      " 6138 6139 6140 6141 6142 6143 6144 6145 6146 6147 6148 6149 6150 6151\n",
      " 6152 6153]\n"
     ]
    }
   ],
   "source": [
    "for chain in hydrated_complex.topology.chains:\n",
    "    for r in chain.residues:\n",
    "        if r.name == 'MAU':\n",
    "            cid = chain.index\n",
    "\n",
    "ligand_atoms = hydrated_complex.topology.select('resname MAU and chainid {}'.format(cid))\n",
    "print(ligand_atoms)\n",
    "        "
   ]
  },
  {
   "cell_type": "code",
   "execution_count": null,
   "metadata": {},
   "outputs": [],
   "source": []
  }
 ],
 "metadata": {
  "kernelspec": {
   "display_name": "Python 3",
   "language": "python",
   "name": "python3"
  },
  "language_info": {
   "codemirror_mode": {
    "name": "ipython",
    "version": 3
   },
   "file_extension": ".py",
   "mimetype": "text/x-python",
   "name": "python",
   "nbconvert_exporter": "python",
   "pygments_lexer": "ipython3",
   "version": "3.7.6"
  }
 },
 "nbformat": 4,
 "nbformat_minor": 2
}
