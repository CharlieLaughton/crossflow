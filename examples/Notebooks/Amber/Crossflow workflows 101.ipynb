{
 "cells": [
  {
   "cell_type": "markdown",
   "metadata": {},
   "source": [
    "## An introduction to Crossflow workflows\n",
    "\n",
    "In this notebook you will see how a simple MD simulation job can be converted from its normal command-line form into a Python function using tools in *Crossflow*.\n",
    "\n",
    "Then you will see how it's easy to chain jobs together to create a workflow.\n",
    "\n",
    "Requirements:\n",
    "\n",
    "1. *Amber* or *Ambertools* installed.\n",
    "2. Python packages *MDTraj* and *crossflow* installed.\n",
    "\n",
    "\n",
    "The notebook assumes you have a basic knowledge of *Amber*; some knowledge of *MDTraj* may also help, but is not obligatory.\n",
    "\n",
    "----\n",
    "\n",
    "### Part 1: running jobs the conventional way\n",
    "Have a look at the contents of this directory:"
   ]
  },
  {
   "cell_type": "code",
   "execution_count": null,
   "metadata": {},
   "outputs": [],
   "source": [
    "!ls"
   ]
  },
  {
   "cell_type": "markdown",
   "metadata": {},
   "source": [
    "You should see:\n",
    "\n",
    "    Xbowflow workflows 101.ipynb : This notebook\n",
    "    dhfr.crd                     : Coordinates for DHFR in Amber .crd format\n",
    "    dhfr.prmtop                  : Amber topology file for DHFR\n",
    "    step1.mdin                   : An input file for sander/pmemd defining a restrained energy minimisation job\n",
    "    step2.mdin                   : An input file for sander/pmemd defining an unrestrained energy minimisation job\n",
    "    step1.mdin                   : An input file for sander/pmemd defining a short MD job\n",
    "    \n",
    "Let's begin by running the restrained energy minimisation job interactively in the conventional way. "
   ]
  },
  {
   "cell_type": "code",
   "execution_count": null,
   "metadata": {},
   "outputs": [],
   "source": [
    "!sander.MPI -O -i step1.mdin -c dhfr.crd -ref dhfr.crd -p dhfr.prmtop -o step1.mdout -r dhfr.step1.rst7"
   ]
  },
  {
   "cell_type": "markdown",
   "metadata": {},
   "source": [
    "Assuming the job completed without errors, you should see the output files in the current directory:"
   ]
  },
  {
   "cell_type": "code",
   "execution_count": null,
   "metadata": {},
   "outputs": [],
   "source": [
    "!ls"
   ]
  },
  {
   "cell_type": "markdown",
   "metadata": {},
   "source": [
    "Have a look at the log file:"
   ]
  },
  {
   "cell_type": "code",
   "execution_count": null,
   "metadata": {},
   "outputs": [],
   "source": [
    "!cat step1.mdout"
   ]
  },
  {
   "cell_type": "markdown",
   "metadata": {},
   "source": [
    "### Part 2: Turning this into Python\n",
    "\n",
    "OK. Now you will see how you can turn the energy minimisation job from something you run on the command line (in this situation, within a Jupyter notebook, by using the \"!\" special command) into a pure Python function.\n",
    "\n",
    "The function will take a .crd file, a .prmtop file and a .mdin file as the input, and return the .mdout and .rst files when the job completes.\n",
    "\n",
    "So your aim is something like this:\n",
    "\n",
    "    restart, logfile = md(mdin, startcrds, prmtop)\n",
    "    \n",
    "---\n",
    "\n",
    "Begin by importing key elements of the *crossflow* module:"
   ]
  },
  {
   "cell_type": "code",
   "execution_count": 1,
   "metadata": {},
   "outputs": [],
   "source": [
    "from crossflow import filehandling, kernels, clients"
   ]
  },
  {
   "cell_type": "markdown",
   "metadata": {},
   "source": [
    "Now you create the function, which in crossflow is called a **Kernel**:"
   ]
  },
  {
   "cell_type": "code",
   "execution_count": 20,
   "metadata": {},
   "outputs": [],
   "source": [
    "md = kernels.SubprocessKernel('pmemd.cuda -O -i x.mdin -c x.rst7 -ref x.rst7 -p x.prmtop -o x.mdout -r out.rst7')"
   ]
  },
  {
   "cell_type": "markdown",
   "metadata": {},
   "source": [
    "The string used to create the kernel is a template for the command you want to run. The names of input and output files are arbitrary, but make sure they have the right extensions.\n",
    "\n",
    "---\n",
    "\n",
    "Now you have to tell the kernel what files are inputs, and what are outputs. To do this you pass *lists* of strings that correspond to the filenames in the template above. \n",
    "\n",
    "**NB:** the order of the strings in the inputs list defines the order that input variables will be passed to the kernel, and the order of the strings in the output list defines the order that the outputs from the function will appear in:"
   ]
  },
  {
   "cell_type": "code",
   "execution_count": 21,
   "metadata": {},
   "outputs": [],
   "source": [
    "# Give the kernel the signature: restart, logfile = md.run(mdin, startcrds, prmtop)\n",
    "md.set_inputs(['x.mdin', 'x.rst7', 'x.prmtop'])\n",
    "md.set_outputs(['out.rst7', 'x.mdout'])"
   ]
  },
  {
   "cell_type": "markdown",
   "metadata": {},
   "source": [
    "And that's about it - your new function is ready for use.\n",
    "\n",
    "However, your data is not quite ready. Crossflow is designed to distribute work across multiple workers that do not neccessarily share a file system. So before you can use the function, you need to get the input files into suitable globally-accessible variables:"
   ]
  },
  {
   "cell_type": "code",
   "execution_count": 12,
   "metadata": {},
   "outputs": [],
   "source": [
    "fh = filehandling.FileHandler()\n",
    "startcrds = fh.load('dhfr.crd')\n",
    "prmtop = fh.load('dhfr.prmtop')\n",
    "em_protocol_1 = fh.load('step1.mdin')"
   ]
  },
  {
   "cell_type": "markdown",
   "metadata": {},
   "source": [
    "Althoughg it's possible to run crossflow kernels interactively, most normally they are run via a crossflow `Client`, so we create one of these, running locally on this machine:"
   ]
  },
  {
   "cell_type": "code",
   "execution_count": 9,
   "metadata": {},
   "outputs": [],
   "source": [
    "client = clients.Client(local=True)\n",
    "real_client = clients.DaskClient(address='ec2-34-255-195-25.eu-west-1.compute.amazonaws.com:80')\n",
    "client.client = real_client"
   ]
  },
  {
   "cell_type": "markdown",
   "metadata": {},
   "source": [
    "Now you can submit the function, with its input arguments, to the client:"
   ]
  },
  {
   "cell_type": "code",
   "execution_count": 22,
   "metadata": {},
   "outputs": [],
   "source": [
    "restart, logfile = client.submit(md, em_protocol_1, startcrds, prmtop)"
   ]
  },
  {
   "cell_type": "markdown",
   "metadata": {},
   "source": [
    "The submit call returns immediately, becaue the job has indeed been submitted to the client; however it may not have finished yet. The output arguments, `restart` and `logfile` are `Futures`. You get at the real data, maybe with some wait, by calling the `Future`'s `.result()` method:"
   ]
  },
  {
   "cell_type": "code",
   "execution_count": 23,
   "metadata": {},
   "outputs": [
    {
     "ename": "CalledProcessError",
     "evalue": "Error: command \"pmemd.cuda -O -i x.mdin -c x.rst7 -ref x.rst7 -p x.prmtop -o x.mdout -r out.rst7\" failed with return code 255; STDOUT=\"b'cudaMemcpyToSymbol: SetSim copy to cSim failed an illegal memory access was encountered\\n'\"; STDERR=\"b''\"",
     "output_type": "error",
     "traceback": [
      "\u001b[0;31m---------------------------------------------------------------------------\u001b[0m",
      "\u001b[0;31mCalledProcessError\u001b[0m                        Traceback (most recent call last)",
      "\u001b[0;32m<ipython-input-23-40d6f9f1df00>\u001b[0m in \u001b[0;36m<module>\u001b[0;34m\u001b[0m\n\u001b[0;32m----> 1\u001b[0;31m \u001b[0mlogfile\u001b[0m\u001b[0;34m.\u001b[0m\u001b[0mresult\u001b[0m\u001b[0;34m(\u001b[0m\u001b[0;34m)\u001b[0m\u001b[0;34m.\u001b[0m\u001b[0msave\u001b[0m\u001b[0;34m(\u001b[0m\u001b[0;34m'test.mdout'\u001b[0m\u001b[0;34m)\u001b[0m\u001b[0;34m\u001b[0m\u001b[0;34m\u001b[0m\u001b[0m\n\u001b[0m\u001b[1;32m      2\u001b[0m \u001b[0mrestart\u001b[0m\u001b[0;34m.\u001b[0m\u001b[0mresult\u001b[0m\u001b[0;34m(\u001b[0m\u001b[0;34m)\u001b[0m\u001b[0;34m.\u001b[0m\u001b[0msave\u001b[0m\u001b[0;34m(\u001b[0m\u001b[0;34m'test.rst7'\u001b[0m\u001b[0;34m)\u001b[0m\u001b[0;34m\u001b[0m\u001b[0;34m\u001b[0m\u001b[0m\n",
      "\u001b[0;32m~/miniconda3/envs/py37/lib/python3.7/site-packages/distributed/client.py\u001b[0m in \u001b[0;36mresult\u001b[0;34m(self, timeout)\u001b[0m\n\u001b[1;32m    220\u001b[0m         \u001b[0;32mif\u001b[0m \u001b[0mself\u001b[0m\u001b[0;34m.\u001b[0m\u001b[0mstatus\u001b[0m \u001b[0;34m==\u001b[0m \u001b[0;34m\"error\"\u001b[0m\u001b[0;34m:\u001b[0m\u001b[0;34m\u001b[0m\u001b[0;34m\u001b[0m\u001b[0m\n\u001b[1;32m    221\u001b[0m             \u001b[0mtyp\u001b[0m\u001b[0;34m,\u001b[0m \u001b[0mexc\u001b[0m\u001b[0;34m,\u001b[0m \u001b[0mtb\u001b[0m \u001b[0;34m=\u001b[0m \u001b[0mresult\u001b[0m\u001b[0;34m\u001b[0m\u001b[0;34m\u001b[0m\u001b[0m\n\u001b[0;32m--> 222\u001b[0;31m             \u001b[0;32mraise\u001b[0m \u001b[0mexc\u001b[0m\u001b[0;34m.\u001b[0m\u001b[0mwith_traceback\u001b[0m\u001b[0;34m(\u001b[0m\u001b[0mtb\u001b[0m\u001b[0;34m)\u001b[0m\u001b[0;34m\u001b[0m\u001b[0;34m\u001b[0m\u001b[0m\n\u001b[0m\u001b[1;32m    223\u001b[0m         \u001b[0;32melif\u001b[0m \u001b[0mself\u001b[0m\u001b[0;34m.\u001b[0m\u001b[0mstatus\u001b[0m \u001b[0;34m==\u001b[0m \u001b[0;34m\"cancelled\"\u001b[0m\u001b[0;34m:\u001b[0m\u001b[0;34m\u001b[0m\u001b[0;34m\u001b[0m\u001b[0m\n\u001b[1;32m    224\u001b[0m             \u001b[0;32mraise\u001b[0m \u001b[0mresult\u001b[0m\u001b[0;34m\u001b[0m\u001b[0;34m\u001b[0m\u001b[0m\n",
      "\u001b[0;32m/usr/local/lib/python3.6/dist-packages/crossflow/kernels.py\u001b[0m in \u001b[0;36mrun\u001b[0;34m()\u001b[0m\n",
      "\u001b[0;31mCalledProcessError\u001b[0m: Error: command \"pmemd.cuda -O -i x.mdin -c x.rst7 -ref x.rst7 -p x.prmtop -o x.mdout -r out.rst7\" failed with return code 255; STDOUT=\"b'cudaMemcpyToSymbol: SetSim copy to cSim failed an illegal memory access was encountered\\n'\"; STDERR=\"b''\""
     ]
    }
   ],
   "source": [
    "logfile.result().save('test.mdout')\n",
    "restart.result().save('test.rst7')"
   ]
  },
  {
   "cell_type": "markdown",
   "metadata": {},
   "source": [
    "Check they are there:"
   ]
  },
  {
   "cell_type": "code",
   "execution_count": 19,
   "metadata": {},
   "outputs": [
    {
     "name": "stdout",
     "output_type": "stream",
     "text": [
      "\r\n",
      "          -------------------------------------------------------\r\n",
      "          Amber 18 PMEMD                              2018\r\n",
      "          -------------------------------------------------------\r\n",
      "\r\n",
      "| PMEMD implementation of SANDER, Release 18\r\n",
      "\r\n",
      "| Run on 02/27/2020 at 22:31:11\r\n",
      "\r\n",
      "|   Executable path: pmemd.MPI\r\n",
      "| Working directory: /wd\r\n",
      "|          Hostname: 8028d7a66da2\r\n",
      "\r\n",
      "  [-O]verwriting output\r\n",
      "\r\n",
      "File Assignments:\r\n",
      "|   MDIN: x.mdin                                                                \r\n",
      "|  MDOUT: x.mdout                                                               \r\n",
      "| INPCRD: x.rst7                                                                \r\n",
      "|   PARM: x.prmtop                                                              \r\n",
      "| RESTRT: out.rst7                                                              \r\n",
      "|   REFC: x.rst7                                                                \r\n",
      "|  MDVEL: mdvel                                                                 \r\n",
      "|   MDEN: mden                                                                  \r\n",
      "|  MDCRD: mdcrd                                                                 \r\n",
      "| MDINFO: mdinfo                                                                \r\n",
      "|LOGFILE: logfile                                                               \r\n",
      "|  MDFRC: mdfrc                                                                 \r\n",
      "\r\n",
      "\r\n",
      " Here is the input file:\r\n",
      "\r\n",
      "Energy minimisation with protein C-alphas restrained                           \r\n",
      "&cntrl                                                                         \r\n",
      "  imin=1, maxcyc=500,                                                          \r\n",
      "  ntpr=50,                                                                     \r\n",
      "  ntr=1,                                                                       \r\n",
      "  ntb=2, ntp=1,                                                                \r\n",
      "/                                                                              \r\n",
      "Atoms to be restrained                                                         \r\n",
      "0.1                                                                            \r\n",
      "FIND                                                                           \r\n",
      "CA * * *                                                                       \r\n",
      "SEARCH                                                                         \r\n",
      "RES 1 999                                                                      \r\n",
      "END                                                                            \r\n",
      "END                                                                            \r\n",
      "\r\n",
      "\r\n",
      "Note: ig = -1. Setting random seed to   714888 based on wallclock time in\r\n",
      "      microseconds and disabling the synchronization of random numbers \r\n",
      "      between tasks to improve performance.\r\n",
      "| irandom = 1, using AMBER's internal random number generator (default).\r\n",
      " \r\n",
      " \r\n",
      "| Conditional Compilation Defines Used:\r\n",
      "| MPI\r\n",
      "| PUBFFT\r\n",
      "| BINTRAJ\r\n",
      "| EMIL\r\n",
      "\r\n",
      "| Largest sphere to fit in unit cell has radius =    27.261\r\n",
      "\r\n",
      "| New format PARM file being parsed.\r\n",
      "| Version =    1.000 Date = 08/14/18 Time = 15:18:21\r\n",
      "\r\n",
      "| Note: 1-4 EEL scale factors were NOT found in the topology file.\r\n",
      "|       Using default value of 1.2.\r\n",
      "\r\n",
      "| Note: 1-4 VDW scale factors were NOT found in the topology file.\r\n",
      "|       Using default value of 2.0.\r\n",
      "| Duplicated    0 dihedrals\r\n",
      "\r\n",
      "| Duplicated    0 dihedrals\r\n",
      "\r\n",
      "--------------------------------------------------------------------------------\r\n",
      "   1.  RESOURCE   USE: \r\n",
      "--------------------------------------------------------------------------------\r\n",
      "\r\n",
      " getting new box info from bottom of inpcrd\r\n",
      " NATOM  =   22930 NTYPES =      17 NBONH =   21651 MBONA  =    1302\r\n",
      " NTHETH =    2789 MTHETA =    1772 NPHIH =    5026 MPHIA  =    3140\r\n",
      " NHPARM =       0 NPARM  =       0 NNB   =   41018 NRES   =    6980\r\n",
      " NBONA  =    1302 NTHETA =    1772 NPHIA =    3140 NUMBND =      45\r\n",
      " NUMANG =      91 NPTRA  =      33 NATYP =      32 NPHB   =       1\r\n",
      " IFBOX  =       1 NMXRS  =      25 IFCAP =       0 NEXTRA =       0\r\n",
      " NCOPY  =       0\r\n",
      "\r\n",
      "| Coordinate Index Table dimensions:    14   12   10\r\n",
      "| Direct force subcell size =     5.0045    5.0452    5.4523\r\n",
      "\r\n",
      "     BOX TYPE: RECTILINEAR\r\n",
      "\r\n",
      "--------------------------------------------------------------------------------\r\n",
      "   2.  CONTROL  DATA  FOR  THE  RUN\r\n",
      "--------------------------------------------------------------------------------\r\n",
      "\r\n",
      "| Converted old-style topology                                                  \r\n",
      "\r\n",
      "General flags:\r\n",
      "     imin    =       1, nmropt  =       0\r\n",
      "\r\n",
      "Nature and format of input:\r\n",
      "     ntx     =       1, irest   =       0, ntrx    =       1\r\n",
      "\r\n",
      "Nature and format of output:\r\n",
      "     ntxo    =       2, ntpr    =      50, ntrx    =       1, ntwr    =       1\r\n",
      "     iwrap   =       0, ntwx    =       0, ntwv    =       0, ntwe    =       0\r\n",
      "     ioutfm  =       1, ntwprt  =       0, idecomp =       0, rbornstat=      0\r\n",
      "\r\n",
      "Potential function:\r\n",
      "     ntf     =       1, ntb     =       2, igb     =       0, nsnb    =      25\r\n",
      "     ipol    =       0, gbsa    =       0, iesp    =       0\r\n",
      "     dielc   =   1.00000, cut     =   8.00000, intdiel =   1.00000\r\n",
      "\r\n",
      "Frozen or restrained atoms:\r\n",
      "     ibelly  =       0, ntr     =       1\r\n",
      "     restraint_wt =   0.00000\r\n",
      "\r\n",
      "Energy minimization:\r\n",
      "     maxcyc  =     500, ncyc    =      10, ntmin   =       1\r\n",
      "     dx0     =   0.01000, drms    =   0.00010\r\n",
      "\r\n",
      "| Intermolecular bonds treatment:\r\n",
      "|     no_intermolecular_bonds =       1\r\n",
      "\r\n",
      "| Energy averages sample interval:\r\n",
      "|     ene_avg_sampling =       1\r\n",
      "\r\n",
      "Ewald parameters:\r\n",
      "     verbose =       0, ew_type =       0, nbflag  =       1, use_pme =       1\r\n",
      "     vdwmeth =       1, eedmeth =       1, netfrc  =       0\r\n",
      "     Box X =   70.063   Box Y =   60.543   Box Z =   54.523\r\n",
      "     Alpha =   90.000   Beta  =   90.000   Gamma =   90.000\r\n",
      "     NFFT1 =   72       NFFT2 =   64       NFFT3 =   60\r\n",
      "     Cutoff=    8.000   Tol   =0.100E-04\r\n",
      "     Ewald Coefficient =  0.34864\r\n",
      "     Interpolation order =    4\r\n",
      "\r\n",
      "| PMEMD ewald parallel performance parameters:\r\n",
      "|     block_fft =    0\r\n",
      "|     fft_blk_y_divisor =    2\r\n",
      "|     excl_recip =    0\r\n",
      "|     excl_master =    0\r\n",
      "|     atm_redist_freq =  320\r\n",
      "\r\n",
      "    LOADING THE CONSTRAINED ATOMS AS GROUPS\r\n",
      "\r\n",
      "\r\n",
      "   5.  REFERENCE ATOM COORDINATES\r\n",
      "\r\n",
      "                                                                                  \r\n",
      "    ----- READING GROUP     1; TITLE:\r\n",
      " Atoms to be restrained                                                      \r\n",
      "\r\n",
      "     GROUP    1 HAS HARMONIC CONSTRAINTS     0.10000\r\n",
      "      ALL ATOMS THAT MEET 1 OF THE FOLLOWING SPECIFICATIONS WILL BE INCLUDED IN GROUP BELOW\r\n",
      "\r\n",
      "      GRAPH NAME  = CA    SYMBOL  = *     TREE SYMBOL  = *     RESIDUE TYPE  = *   \r\n",
      "\r\n",
      " GRP    1 RES    1 TO   999\r\n",
      "      Number of atoms in this group  =   159\r\n",
      "    ----- END OF GROUP READ -----\r\n",
      "\r\n",
      "--------------------------------------------------------------------------------\r\n",
      "   3.  ATOMIC COORDINATES AND VELOCITIES\r\n",
      "--------------------------------------------------------------------------------\r\n",
      "\r\n",
      "                                                                                \r\n",
      " begin time read from input coords =   510.050 ps\r\n",
      "\r\n",
      " \r\n",
      " Number of triangulated 3-point waters found:     6810\r\n",
      "\r\n",
      "     Sum of charges from parm topology file =  -0.00000006\r\n",
      "     Forcing neutrality...\r\n",
      "\r\n",
      "| Dynamic Memory, Types Used:\r\n",
      "| Reals              995277\r\n",
      "| Integers          1025629\r\n",
      "\r\n",
      "| Nonbonded Pairs Initial Allocation:     1307010\r\n",
      "\r\n",
      "| Running AMBER/MPI version on    4 MPI task\r\n",
      "\r\n",
      " \r\n",
      "--------------------------------------------------------------------------------\r\n",
      "   4.  RESULTS\r\n",
      "--------------------------------------------------------------------------------\r\n",
      "\r\n",
      " ---------------------------------------------------\r\n",
      " APPROXIMATING switch and d/dx switch using CUBIC SPLINE INTERPOLATION\r\n",
      " using   5000.0 points per unit in tabled values\r\n",
      " TESTING RELATIVE ERROR over r ranging from 0.0 to cutoff\r\n",
      "| CHECK switch(x): max rel err =   0.2738E-14   at   2.422500\r\n",
      "| CHECK d/dx switch(x): max rel err =   0.8332E-11   at   2.782960\r\n",
      " ---------------------------------------------------\r\n",
      "|---------------------------------------------------\r\n",
      "| APPROXIMATING direct energy using CUBIC SPLINE INTERPOLATION\r\n",
      "|  with   50.0 points per unit in tabled values\r\n",
      "| Relative Error Limit not exceeded for r .gt.   2.47\r\n",
      "| APPROXIMATING direct force using CUBIC SPLINE INTERPOLATION\r\n",
      "|  with   50.0 points per unit in tabled values\r\n",
      "| Relative Error Limit not exceeded for r .gt.   2.89\r\n",
      "|---------------------------------------------------\r\n",
      "\r\n",
      "\r\n",
      "   NSTEP       ENERGY          RMS            GMAX         NAME    NUMBER\r\n",
      "      1      -7.1862E+04     1.4364E+01     1.0607E+02     C        1855\r\n",
      "\r\n",
      " BOND    =      452.1690  ANGLE   =     1277.0334  DIHED      =      968.3542\r\n",
      " VDWAALS =     8109.3892  EEL     =   -89881.6242  HBOND      =        0.0000\r\n",
      " 1-4 VDW =      545.9440  1-4 EEL =     6666.3920  RESTRAINT  =        0.0000\r\n",
      "\r\n",
      "\r\n",
      "   NSTEP       ENERGY          RMS            GMAX         NAME    NUMBER\r\n",
      "     50      -8.7712E+04     2.7668E+00     3.3852E+01     CG       1091\r\n",
      "\r\n",
      " BOND    =     6225.6765  ANGLE   =      474.2499  DIHED      =      781.3159\r\n",
      " VDWAALS =     7874.5417  EEL     =  -110214.4702  HBOND      =        0.0000\r\n",
      " 1-4 VDW =      476.3374  1-4 EEL =     6669.8755  RESTRAINT  =        0.1082\r\n",
      " EAMBER  =   -87712.4731\r\n",
      "\r\n",
      "\r\n",
      "   NSTEP       ENERGY          RMS            GMAX         NAME    NUMBER\r\n",
      "    100      -9.0107E+04     1.7547E+00     9.6186E+01     CG        406\r\n",
      "\r\n",
      " BOND    =     5800.0151  ANGLE   =      404.2350  DIHED      =      753.8639\r\n",
      " VDWAALS =     9208.7237  EEL     =  -113417.7613  HBOND      =        0.0000\r\n",
      " 1-4 VDW =      470.0148  1-4 EEL =     6673.8748  RESTRAINT  =        0.1574\r\n",
      " EAMBER  =   -90107.0340\r\n",
      "\r\n",
      "\r\n",
      "   NSTEP       ENERGY          RMS            GMAX         NAME    NUMBER\r\n",
      "    150      -9.1216E+04     1.4360E+00     8.7771E+01     CG        406\r\n",
      "\r\n",
      " BOND    =     5962.2671  ANGLE   =      390.8150  DIHED      =      742.8803\r\n",
      " VDWAALS =    10043.9288  EEL     =  -115496.4501  HBOND      =        0.0000\r\n",
      " 1-4 VDW =      467.1563  1-4 EEL =     6673.0691  RESTRAINT  =        0.2094\r\n",
      " EAMBER  =   -91216.3336\r\n",
      "\r\n",
      "\r\n",
      "   NSTEP       ENERGY          RMS            GMAX         NAME    NUMBER\r\n",
      "    200      -9.1941E+04     1.2752E+00     8.4786E+01     CD       2092\r\n",
      "\r\n",
      " BOND    =     6098.2074  ANGLE   =      383.9854  DIHED      =      736.8125\r\n",
      " VDWAALS =    10667.5249  EEL     =  -116964.1603  HBOND      =        0.0000\r\n",
      " 1-4 VDW =      465.3594  1-4 EEL =     6671.4216  RESTRAINT  =        0.2587\r\n",
      " EAMBER  =   -91940.8490\r\n",
      "\r\n",
      "\r\n",
      "   NSTEP       ENERGY          RMS            GMAX         NAME    NUMBER\r\n",
      "    250      -9.2470E+04     1.1631E+00     9.5844E+01     CD       2092\r\n",
      "\r\n",
      " BOND    =     6204.2608  ANGLE   =      380.1811  DIHED      =      733.0178\r\n",
      " VDWAALS =    11149.3004  EEL     =  -118070.8984  HBOND      =        0.0000\r\n",
      " 1-4 VDW =      464.1816  1-4 EEL =     6669.7664  RESTRAINT  =        0.3049\r\n",
      " EAMBER  =   -92470.1903\r\n",
      "\r\n",
      "\r\n",
      "   NSTEP       ENERGY          RMS            GMAX         NAME    NUMBER\r\n",
      "    300      -9.2880E+04     1.0754E+00     1.0299E+02     CD       2092\r\n",
      "\r\n",
      " BOND    =     6288.5494  ANGLE   =      377.7295  DIHED      =      730.4481\r\n",
      " VDWAALS =    11532.2705  EEL     =  -118940.7054  HBOND      =        0.0000\r\n",
      " 1-4 VDW =      463.3943  1-4 EEL =     6668.4276  RESTRAINT  =        0.3477\r\n",
      " EAMBER  =   -92879.8859\r\n",
      "\r\n",
      "\r\n",
      "   NSTEP       ENERGY          RMS            GMAX         NAME    NUMBER\r\n",
      "    350      -9.3209E+04     1.0395E+00     1.1692E+02     CD       2092\r\n",
      "\r\n",
      " BOND    =     6358.2980  ANGLE   =      375.8127  DIHED      =      728.5869\r\n",
      " VDWAALS =    11851.4974  EEL     =  -119653.6455  HBOND      =        0.0000\r\n",
      " 1-4 VDW =      462.8896  1-4 EEL =     6667.5790  RESTRAINT  =        0.3877\r\n",
      " EAMBER  =   -93208.9819\r\n",
      "\r\n",
      "\r\n",
      "   NSTEP       ENERGY          RMS            GMAX         NAME    NUMBER\r\n",
      "    400      -9.3481E+04     9.9090E-01     1.1096E+02     CD       2092\r\n",
      "\r\n",
      " BOND    =     6421.8702  ANGLE   =      374.3929  DIHED      =      727.2636\r\n",
      " VDWAALS =    12122.3099  EEL     =  -120256.6173  HBOND      =        0.0000\r\n",
      " 1-4 VDW =      462.5686  1-4 EEL =     6667.0713  RESTRAINT  =        0.4255\r\n",
      " EAMBER  =   -93481.1409\r\n",
      "\r\n",
      "\r\n",
      "   NSTEP       ENERGY          RMS            GMAX         NAME    NUMBER\r\n",
      "    450      -9.3708E+04     9.4368E-01     1.0547E+02     CD       2092\r\n",
      "\r\n",
      " BOND    =     6483.7218  ANGLE   =      372.7627  DIHED      =      726.2793\r\n",
      " VDWAALS =    12357.0900  EEL     =  -120777.3957  HBOND      =        0.0000\r\n",
      " 1-4 VDW =      462.4725  1-4 EEL =     6666.6442  RESTRAINT  =        0.4614\r\n",
      " EAMBER  =   -93708.4253\r\n",
      "\r\n",
      "\r\n",
      "   NSTEP       ENERGY          RMS            GMAX         NAME    NUMBER\r\n",
      "    500      -9.3902E+04     9.6538E-01     1.1393E+02     CD       2092\r\n",
      "\r\n",
      " BOND    =     6536.8970  ANGLE   =      371.8777  DIHED      =      725.4716\r\n",
      " VDWAALS =    12564.3412  EEL     =  -121229.7145  HBOND      =        0.0000\r\n",
      " 1-4 VDW =      462.4321  1-4 EEL =     6666.4659  RESTRAINT  =        0.4963\r\n",
      " EAMBER  =   -93902.2290\r\n",
      "\r\n",
      "\r\n",
      "  Maximum number of minimization cycles reached.\r\n",
      "\r\n",
      "\r\n",
      "                    FINAL RESULTS\r\n",
      "\r\n",
      "\r\n",
      "\r\n",
      "   NSTEP       ENERGY          RMS            GMAX         NAME    NUMBER\r\n",
      "    500      -9.3902E+04     9.6538E-01     1.1393E+02     CD       2092\r\n",
      "\r\n",
      " BOND    =     6536.8970  ANGLE   =      371.8777  DIHED      =      725.4716\r\n",
      " VDWAALS =    12564.3412  EEL     =  -121229.7145  HBOND      =        0.0000\r\n",
      " 1-4 VDW =      462.4321  1-4 EEL =     6666.4659  RESTRAINT  =        0.4963\r\n",
      " EAMBER  =   -93902.2290\r\n",
      "--------------------------------------------------------------------------------\r\n",
      "   5.  TIMINGS\r\n",
      "--------------------------------------------------------------------------------\r\n",
      "\r\n",
      "|  NonSetup CPU Time in Major Routines, Average for All Tasks:\r\n",
      "|\r\n",
      "|     Routine           Sec        %\r\n",
      "|     ------------------------------\r\n",
      "|     DataDistrib       4.75   15.41\r\n",
      "|     Nonbond          25.44   82.53\r\n",
      "|     Bond              0.10    0.31\r\n",
      "|     Angle             0.08    0.25\r\n",
      "|     Dihedral          0.36    1.16\r\n",
      "|     Shake             0.00    0.00\r\n",
      "|     Other             0.11    0.35\r\n",
      "|     ------------------------------\r\n",
      "|     Total            30.83\r\n",
      "\r\n",
      "|  PME Nonbond Pairlist CPU Time, Average for All Tasks:\r\n",
      "|\r\n",
      "|     Routine              Sec        %\r\n",
      "|     ---------------------------------\r\n",
      "|     Set Up Cit           0.03    0.08\r\n",
      "|     Build List           0.82    2.66\r\n",
      "|     ---------------------------------\r\n",
      "|     Total                0.84    2.74\r\n",
      "\r\n",
      "|  PME Direct Force CPU Time, Average for All Tasks:\r\n",
      "|\r\n",
      "|     Routine              Sec        %\r\n",
      "|     ---------------------------------\r\n",
      "|     NonBonded Calc      18.12   58.76\r\n",
      "|     Exclude Masked       0.30    0.98\r\n",
      "|     Other                0.37    1.21\r\n",
      "|     ---------------------------------\r\n",
      "|     Total               18.79   60.96\r\n",
      "\r\n",
      "|  PME Reciprocal Force CPU Time, Average for All Tasks:\r\n",
      "|\r\n",
      "|     Routine              Sec        %\r\n",
      "|     ---------------------------------\r\n",
      "|     1D bspline           0.45    1.47\r\n",
      "|     Grid Charges         0.70    2.27\r\n",
      "|     Scalar Sum           0.53    1.71\r\n",
      "|     Gradient Sum         0.82    2.65\r\n",
      "|     FFT                  3.23   10.49\r\n",
      "|     ---------------------------------\r\n",
      "|     Total                5.73   18.60\r\n",
      "\r\n",
      "|  PME Load Balancing CPU Time, Average for All Tasks:\r\n",
      "|\r\n",
      "|     Routine                 Sec        %\r\n",
      "|     ------------------------------------\r\n",
      "|     Atom Reassign           0.00    0.00\r\n",
      "|     Image Reassign          0.00    0.00\r\n",
      "|     FFT Reassign            0.00    0.00\r\n",
      "|     ------------------------------------\r\n",
      "|     Total                   0.00    0.00\r\n",
      "\r\n",
      "|  Master Setup CPU time:            0.39 seconds\r\n",
      "|  Master NonSetup CPU time:        28.63 seconds\r\n",
      "|  Master Total CPU time:           29.02 seconds     0.01 hours\r\n",
      "\r\n",
      "|  Master Setup wall time:           0    seconds\r\n",
      "|  Master NonSetup wall time:       34    seconds\r\n",
      "|  Master Total wall time:          34    seconds     0.01 hours\r\n"
     ]
    }
   ],
   "source": [
    "!cat test.mdout"
   ]
  },
  {
   "cell_type": "markdown",
   "metadata": {},
   "source": [
    "### Part 3: A workflow\n",
    "\n",
    "Let's make a workflow that:\n",
    "1. Runs a restrained energy mininisation.\n",
    "2. Runs an unrestrained energy minimisation on the final coordinates from step 1.\n",
    "3. Runs a short MD simulation on the final coordinates from step 2.\n",
    "\n",
    "The md input files for steps 2 and 3 are already prepared, and just need to be loaded:"
   ]
  },
  {
   "cell_type": "code",
   "execution_count": null,
   "metadata": {},
   "outputs": [],
   "source": [
    "# Create variables from the required input files:\n",
    "em_protocol_2 = fh.load('step2.mdin')\n",
    "md_protocol = fh.load('step3.mdin')"
   ]
  },
  {
   "cell_type": "code",
   "execution_count": null,
   "metadata": {},
   "outputs": [],
   "source": [
    "# Run the jobs. For clarity, we begin at the beginning again:\n",
    "restart1, logfile1 = client.submit(md, em_protocol_1, startcrds, prmtop)\n",
    "print('first stage submitted...')\n",
    "restart2, logfile2 = client.submit(md, em_protocol_2, restart1, prmtop)\n",
    "print('second stage submitted...')\n",
    "restart3, logfile3 = client.submit(md, md_protocol, restart2, prmtop)\n",
    "print('third stage submitted.')\n",
    "# Now we wait for logfile3 to appear:\n",
    "logfile3.result().save('stage3.mdout')"
   ]
  },
  {
   "cell_type": "code",
   "execution_count": null,
   "metadata": {},
   "outputs": [],
   "source": [
    "!cat stage3.mdout"
   ]
  },
  {
   "cell_type": "markdown",
   "metadata": {},
   "source": [
    "Assuming all went OK, a couple things to note:\n",
    "1. You were able to re-use the same kernel for all three simulation stages.\n",
    "2. Because you did this, you haven't captured the trajectory file that the third stage will have produced.\n",
    "3. All three kernels use the same prmtop file as an argument - in effect it's a constant.\n",
    "    \n",
    "Let's fix issue 2 first.\n",
    "\n",
    "Make a new kernel that also returns a trajectory file:"
   ]
  },
  {
   "cell_type": "code",
   "execution_count": null,
   "metadata": {},
   "outputs": [],
   "source": [
    "md_with_traj = kernels.SubprocessKernel('sander.MPI -O -i x.mdin -c x.rst7 -p x.prmtop -o x.mdout -r out.rst7 -x x.nc')\n",
    "md_with_traj.set_inputs(['x.mdin', 'x.rst7', 'x.prmtop'])\n",
    "md_with_traj.set_outputs(['x.nc', 'out.rst7', 'x.mdout'])"
   ]
  },
  {
   "cell_type": "markdown",
   "metadata": {},
   "source": [
    "Now let's make the prmtop file a constant in both kernels. This means it does not have to appear in the kernel argument list any more (but has the disadvantage that these kernels are now 'hard wired' to only work for DHFR):"
   ]
  },
  {
   "cell_type": "code",
   "execution_count": null,
   "metadata": {},
   "outputs": [],
   "source": [
    "md2 = md.copy() # Take a copy of the previous version of the kernel\n",
    "md2.set_constant('x.prmtop', prmtop)\n",
    "md_with_traj.set_constant('x.prmtop', prmtop)"
   ]
  },
  {
   "cell_type": "markdown",
   "metadata": {},
   "source": [
    "### Part 4: A better workflow\n",
    "\n",
    "Here's the workflow re-written to use these improved kernels"
   ]
  },
  {
   "cell_type": "code",
   "execution_count": null,
   "metadata": {},
   "outputs": [],
   "source": [
    "# A workflow that runs a two-stage energy minimisation and then an MD simulation\n",
    "restart1, logfile1 = client.submit(md2, em_protocol_1, startcrds)\n",
    "print('first stage submitted...')\n",
    "restart2, logfile2 = client.submit(md2, em_protocol_2, restart1)\n",
    "print('second stage submitted...')\n",
    "trajectory, restart3, logfile3 = client.submit(md_with_traj, md_protocol, restart2)\n",
    "print('final stage submitted, waiting for trajectory file to appear:')\n",
    "t = trajectory.result()\n",
    "print('All done.')"
   ]
  },
  {
   "cell_type": "markdown",
   "metadata": {},
   "source": [
    "### Part 5: interfacing with more Python\n",
    "\n",
    "At this stage you may be thinking \"OK - but nothing here I couldn't do with a bash script\". The power of the workflow comes when you interface your new pythonized-MD functions with other Python tools.\n",
    "\n",
    "Let's make use of the *MDTraj* package for analysis of MD trajectory data. You will use it to calculate the RMSD of the trajectory frames from the starting structure.\n",
    "\n",
    "The MDTraj load() method expects *filenames* as arguments; crossflow `FileHandles` subclass `os.PathLike` so can often be used in Python anywhere a *path* is expected, e.g.:    "
   ]
  },
  {
   "cell_type": "code",
   "execution_count": null,
   "metadata": {},
   "outputs": [],
   "source": [
    "with open(logfile3.result()) as f:\n",
    "    for line in f.readlines():\n",
    "        print(line)"
   ]
  },
  {
   "cell_type": "markdown",
   "metadata": {},
   "source": [
    "However if your Python module is less tolerant (as mdtraj is), you just need to pass the `str()` representation of the object to the function:"
   ]
  },
  {
   "cell_type": "code",
   "execution_count": null,
   "metadata": {},
   "outputs": [],
   "source": [
    "import mdtraj as mdt\n",
    "traj = mdt.load(str(t), top=str(prmtop))\n",
    "print(traj)\n",
    "# Print the rmsd of each frame from the first:\n",
    "print(mdt.rmsd(traj, traj[0], atom_indices=traj.topology.select('protein')))"
   ]
  },
  {
   "cell_type": "markdown",
   "metadata": {},
   "source": [
    "Let's make your workflow identify which snapshot from your trajectory has the highest RMSD from the starting structure, and then energy minimise that:"
   ]
  },
  {
   "cell_type": "code",
   "execution_count": null,
   "metadata": {},
   "outputs": [],
   "source": [
    "import numpy as np\n",
    "rmsdlist = mdt.rmsd(traj, traj[0], atom_indices=traj.topology.select('protein'))\n",
    "i = np.argmax(rmsdlist)\n",
    "chosen_snapshot = traj[i]\n",
    "print('Energy minimising snapshot {}'.format(i))\n",
    "max_rmsd_minimised, logfile = md.run(em_protocol_2, chosen_snapshot)\n",
    "max_rmsd_minimised.save('max_rmsd.rst7')"
   ]
  },
  {
   "cell_type": "markdown",
   "metadata": {},
   "source": [
    "### Part 6: Putting everything together\n",
    "\n",
    "Here's the complete workflow:"
   ]
  },
  {
   "cell_type": "code",
   "execution_count": null,
   "metadata": {},
   "outputs": [],
   "source": [
    "def my_workflow(crd_filename, top_filename, em_step1_filename, em_step2_filename, md_step_filename):\n",
    "    # Over to you!\n",
    "    # Load data:\n",
    "    fh = filehandling.FileHandler()\n",
    "    startcrds =fh.load(crd_filename)\n",
    "    topfile = fh.load(top_filename)\n",
    "    protocol_step_1 = fh.load(em_step1_filename)\n",
    "    protocol_step_2 = fh.load(em_step2_filename)\n",
    "    protocol_step_3 = fh.load(md_step_filename)\n",
    "    \n",
    "    # Create kernels:\n",
    "    \n",
    "    md = kernels.SubprocessKernel('sander.MPI -O -i x.mdin -c x.rst7 -ref x.rst7 -p x.prmtop -o x.mdout -r out.rst7')\n",
    "    md.set_inputs(['x.mdin', 'x.rst7'])\n",
    "    md.set_outputs(['out.rst7'])\n",
    "    md.set_constant('x.prmtop', topfile)\n",
    "    \n",
    "    md_with_traj = kernels.SubprocessKernel('sander.MPI -O -i x.mdin -c x.rst7 -p x.prmtop -o x.mdout -r out.rst7 -x x.nc')\n",
    "    md_with_traj.set_inputs(['x.mdin', 'x.rst7'])\n",
    "    md_with_traj.set_outputs(['x.nc'])\n",
    "    md_with_traj.set_constant('x.prmtop', topfile)\n",
    "    \n",
    "    # Run workflow:\n",
    "    restart1 = client.submit(md, protocol_step_1, startcrds)\n",
    "    restart2 = client.submit(md, protocol_step_2, restart1)\n",
    "    print('running MD steps')\n",
    "    trajectory = client.submit(md_with_traj, protocol_step_3, restart2).result()\n",
    "    traj = mdt.load(str(trajectory), top=str(prmtop))\n",
    "    rmsdlist = mdt.rmsd(traj, traj[0], atom_indices=traj.topology.select('protein'))\n",
    "    i = np.argmax(rmsdlist)\n",
    "    print('Energy minimising snapshot {}'.format(i))\n",
    "    final_crds = md.run(protocol_step_2, traj[i])\n",
    "    \n",
    "    # Return final structure:\n",
    "    return final_crds\n",
    "\n",
    "# Test the workflow:\n",
    "final_crds = my_workflow('dhfr.crd', 'dhfr.prmtop', 'step1.mdin', 'step2.mdin', 'step3.mdin')\n",
    "final_crds.save('final_coordinates.rst7')"
   ]
  }
 ],
 "metadata": {
  "kernelspec": {
   "display_name": "Python 3",
   "language": "python",
   "name": "python3"
  },
  "language_info": {
   "codemirror_mode": {
    "name": "ipython",
    "version": 3
   },
   "file_extension": ".py",
   "mimetype": "text/x-python",
   "name": "python",
   "nbconvert_exporter": "python",
   "pygments_lexer": "ipython3",
   "version": "3.7.6"
  }
 },
 "nbformat": 4,
 "nbformat_minor": 2
}
