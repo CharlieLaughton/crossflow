{
 "cells": [
  {
   "cell_type": "code",
   "execution_count": 1,
   "id": "cd3a30e6",
   "metadata": {},
   "outputs": [],
   "source": [
    "import mdtraj as mdt\n",
    "from crossflow.tasks import SubprocessTask\n",
    "from crossflow.clients import Client\n",
    "from distributed import LocalCluster"
   ]
  },
  {
   "cell_type": "code",
   "execution_count": 82,
   "id": "ebe0a1ae",
   "metadata": {},
   "outputs": [],
   "source": [
    "crdfile = '1qy1.ncrst'\n",
    "topfile = '1qy1.prmtop'"
   ]
  },
  {
   "cell_type": "code",
   "execution_count": 2,
   "id": "4f3de2bb",
   "metadata": {},
   "outputs": [],
   "source": [
    "cluster = LocalCluster()"
   ]
  },
  {
   "cell_type": "code",
   "execution_count": 3,
   "id": "f0cf73c1",
   "metadata": {},
   "outputs": [
    {
     "name": "stdout",
     "output_type": "stream",
     "text": [
      "LocalCluster(c529a204, 'tcp://127.0.0.1:50304', workers=5, threads=10, memory=16.00 GiB)\n"
     ]
    }
   ],
   "source": [
    "print(cluster)"
   ]
  },
  {
   "cell_type": "code",
   "execution_count": 5,
   "id": "336ff24e",
   "metadata": {},
   "outputs": [
    {
     "name": "stdout",
     "output_type": "stream",
     "text": [
      "{'type': 'Scheduler', 'id': 'Scheduler-ebee1797-1244-48a5-a820-7e0cb3a18d02', 'address': 'tcp://127.0.0.1:50304', 'services': {'dashboard': 8787}, 'started': 1662738143.531083, 'workers': {'tcp://127.0.0.1:50317': {'type': 'Worker', 'id': 4, 'host': '127.0.0.1', 'resources': {}, 'local_directory': '/Users/pazcal/Dropbox/Pazcal/crossflow/sandbox/dask-worker-space/worker-r5miz0f5', 'name': 4, 'nthreads': 2, 'memory_limit': 3435973836, 'last_seen': 1662738195.118521, 'services': {'dashboard': 50318}, 'metrics': {'executing': 0, 'in_memory': 0, 'ready': 0, 'in_flight': 0, 'bandwidth': {'total': 100000000, 'workers': {}, 'types': {}}, 'spilled_nbytes': {'memory': 0, 'disk': 0}, 'cpu': 0.1, 'memory': 99663872, 'time': 1662738195.1022232, 'read_bytes': 6142.904492244673, 'write_bytes': 6142.904492244673, 'read_bytes_disk': 0.0, 'write_bytes_disk': 0.0, 'num_fds': 29}, 'nanny': 'tcp://127.0.0.1:50308'}, 'tcp://127.0.0.1:50320': {'type': 'Worker', 'id': 2, 'host': '127.0.0.1', 'resources': {}, 'local_directory': '/Users/pazcal/Dropbox/Pazcal/crossflow/sandbox/dask-worker-space/worker-qegb3i68', 'name': 2, 'nthreads': 2, 'memory_limit': 3435973836, 'last_seen': 1662738195.1194382, 'services': {'dashboard': 50324}, 'metrics': {'executing': 0, 'in_memory': 0, 'ready': 0, 'in_flight': 0, 'bandwidth': {'total': 100000000, 'workers': {}, 'types': {}}, 'spilled_nbytes': {'memory': 0, 'disk': 0}, 'cpu': 0.1, 'memory': 99385344, 'time': 1662738195.1129, 'read_bytes': 4094.149274105143, 'write_bytes': 4094.149274105143, 'read_bytes_disk': 0.0, 'write_bytes_disk': 0.0, 'num_fds': 29}, 'nanny': 'tcp://127.0.0.1:50307'}, 'tcp://127.0.0.1:50321': {'type': 'Worker', 'id': 1, 'host': '127.0.0.1', 'resources': {}, 'local_directory': '/Users/pazcal/Dropbox/Pazcal/crossflow/sandbox/dask-worker-space/worker-abd0injc', 'name': 1, 'nthreads': 2, 'memory_limit': 3435973836, 'last_seen': 1662738195.11885, 'services': {'dashboard': 50325}, 'metrics': {'executing': 0, 'in_memory': 0, 'ready': 0, 'in_flight': 0, 'bandwidth': {'total': 100000000, 'workers': {}, 'types': {}}, 'spilled_nbytes': {'memory': 0, 'disk': 0}, 'cpu': 0.1, 'memory': 98254848, 'time': 1662738195.105288, 'read_bytes': 6141.516629170639, 'write_bytes': 6141.516629170639, 'read_bytes_disk': 0.0, 'write_bytes_disk': 0.0, 'num_fds': 29}, 'nanny': 'tcp://127.0.0.1:50309'}, 'tcp://127.0.0.1:50322': {'type': 'Worker', 'id': 3, 'host': '127.0.0.1', 'resources': {}, 'local_directory': '/Users/pazcal/Dropbox/Pazcal/crossflow/sandbox/dask-worker-space/worker-55bttcjs', 'name': 3, 'nthreads': 2, 'memory_limit': 3435973836, 'last_seen': 1662738195.1196532, 'services': {'dashboard': 50328}, 'metrics': {'executing': 0, 'in_memory': 0, 'ready': 0, 'in_flight': 0, 'bandwidth': {'total': 100000000, 'workers': {}, 'types': {}}, 'spilled_nbytes': {'memory': 0, 'disk': 0}, 'cpu': 0.1, 'memory': 99696640, 'time': 1662738195.1070678, 'read_bytes': 6129.672162561, 'write_bytes': 6129.672162561, 'read_bytes_disk': 0.0, 'write_bytes_disk': 0.0, 'num_fds': 29}, 'nanny': 'tcp://127.0.0.1:50311'}, 'tcp://127.0.0.1:50323': {'type': 'Worker', 'id': 0, 'host': '127.0.0.1', 'resources': {}, 'local_directory': '/Users/pazcal/Dropbox/Pazcal/crossflow/sandbox/dask-worker-space/worker-ycnq1f8i', 'name': 0, 'nthreads': 2, 'memory_limit': 3435973836, 'last_seen': 1662738195.1191812, 'services': {'dashboard': 50330}, 'metrics': {'executing': 0, 'in_memory': 0, 'ready': 0, 'in_flight': 0, 'bandwidth': {'total': 100000000, 'workers': {}, 'types': {}}, 'spilled_nbytes': {'memory': 0, 'disk': 0}, 'cpu': 0.1, 'memory': 98680832, 'time': 1662738195.11115, 'read_bytes': 4090.0788843665423, 'write_bytes': 4090.0788843665423, 'read_bytes_disk': 0.0, 'write_bytes_disk': 0.0, 'num_fds': 29}, 'nanny': 'tcp://127.0.0.1:50310'}}}\n"
     ]
    }
   ],
   "source": [
    "client = Client(cluster)\n",
    "print(client.scheduler_info())"
   ]
  },
  {
   "cell_type": "code",
   "execution_count": 83,
   "id": "1ca0b71d",
   "metadata": {},
   "outputs": [],
   "source": [
    "md = SubprocessTask('python /users/pazcal/.local/bin/fakemd -c x.ncrst -t x.prmtop -r y.ncrst -x x.nc -o x.log -n 100')\n",
    "md.set_inputs(['x.ncrst', 'x.prmtop'])\n",
    "md.set_outputs(['x.log', 'y.ncrst', 'x.nc'])"
   ]
  },
  {
   "cell_type": "code",
   "execution_count": 84,
   "id": "593a607b",
   "metadata": {},
   "outputs": [],
   "source": [
    "log, restart, traj = client.submit(md, crdfile, topfile)"
   ]
  },
  {
   "cell_type": "code",
   "execution_count": 85,
   "id": "45f44195",
   "metadata": {},
   "outputs": [],
   "source": [
    "t = mdt.load(traj.result(), top=topfile)"
   ]
  },
  {
   "cell_type": "code",
   "execution_count": 86,
   "id": "4246d3b1",
   "metadata": {},
   "outputs": [
    {
     "name": "stdout",
     "output_type": "stream",
     "text": [
      "<mdtraj.Trajectory with 100 frames, 1513 atoms, 387 residues, without unitcells>\n"
     ]
    }
   ],
   "source": [
    "print(t)"
   ]
  },
  {
   "cell_type": "code",
   "execution_count": 87,
   "id": "4464f6cf",
   "metadata": {},
   "outputs": [],
   "source": [
    "log2, restart2, traj2 = client.submit(md, restart, topfile)"
   ]
  },
  {
   "cell_type": "code",
   "execution_count": 89,
   "id": "62d0d44d",
   "metadata": {},
   "outputs": [
    {
     "name": "stdout",
     "output_type": "stream",
     "text": [
      "<mdtraj.Trajectory with 100 frames, 1513 atoms, 387 residues, without unitcells>\n"
     ]
    }
   ],
   "source": [
    "t2 = mdt.load(traj2.result(), top=topfile)\n",
    "print(t2)"
   ]
  },
  {
   "cell_type": "code",
   "execution_count": 90,
   "id": "241291f3",
   "metadata": {},
   "outputs": [
    {
     "name": "stdout",
     "output_type": "stream",
     "text": [
      "[0.4994866  0.50185    0.50540894 0.50739187 0.5097401  0.512653\n",
      " 0.51434046 0.5171204  0.51926684 0.52151304 0.52392244 0.5265314\n",
      " 0.52945673 0.53232384 0.5350179  0.5369747  0.5394395  0.541622\n",
      " 0.5435144  0.5465481  0.547528   0.549905   0.5530044  0.55623204\n",
      " 0.55806303 0.55957323 0.56215966 0.56555915 0.5681317  0.56882113\n",
      " 0.57067394 0.57388633 0.576492   0.5787879  0.58157027 0.58362126\n",
      " 0.5858898  0.5865279  0.58844835 0.5916371  0.592785   0.59464616\n",
      " 0.59557754 0.5984795  0.59999174 0.60085016 0.6032433  0.605566\n",
      " 0.60726154 0.60938865 0.61238825 0.61521167 0.6167431  0.6191984\n",
      " 0.62062144 0.622892   0.624968   0.6274559  0.62949604 0.63206464\n",
      " 0.63398284 0.6353819  0.63650215 0.6390065  0.6420693  0.6444541\n",
      " 0.6448696  0.6466705  0.64873725 0.65021133 0.6515565  0.6535436\n",
      " 0.6551596  0.6568487  0.65857464 0.66053385 0.66195995 0.66398835\n",
      " 0.66542935 0.66807383 0.66930234 0.67161375 0.6723445  0.6739515\n",
      " 0.6757766  0.67843306 0.6785253  0.6796452  0.6820652  0.68346006\n",
      " 0.6852822  0.6869832  0.68907475 0.69062555 0.69230574 0.6946066\n",
      " 0.69498354 0.6973163  0.69949156 0.70122534]\n"
     ]
    }
   ],
   "source": [
    "print(mdt.rmsd(t2, t[0]))"
   ]
  },
  {
   "cell_type": "code",
   "execution_count": 92,
   "id": "c066295d",
   "metadata": {},
   "outputs": [
    {
     "name": "stdout",
     "output_type": "stream",
     "text": [
      "[1278]\n",
      "[976]\n"
     ]
    }
   ],
   "source": [
    "print(t.topology.select('resname PRZ and name N1'))\n",
    "print(t.topology.select('resid 119 and name OH'))"
   ]
  },
  {
   "cell_type": "code",
   "execution_count": 93,
   "id": "35f56f83",
   "metadata": {},
   "outputs": [],
   "source": [
    "d = mdt.compute_distances(t2[-1], [[976, 1278]])"
   ]
  },
  {
   "cell_type": "code",
   "execution_count": 94,
   "id": "d3a3d6f0",
   "metadata": {},
   "outputs": [
    {
     "name": "stdout",
     "output_type": "stream",
     "text": [
      "[[0.6181121]]\n"
     ]
    }
   ],
   "source": [
    "print(d)"
   ]
  },
  {
   "cell_type": "code",
   "execution_count": 97,
   "id": "682dac94",
   "metadata": {},
   "outputs": [],
   "source": [
    "def get_distance(crdfile, topfile):\n",
    "    t = mdt.load(crdfile, top=topfile)\n",
    "    d = mdt.compute_distances(t[-1], [[976, 1278]])\n",
    "    return d[0][0]"
   ]
  },
  {
   "cell_type": "code",
   "execution_count": 98,
   "id": "8a19f5a4",
   "metadata": {},
   "outputs": [
    {
     "name": "stdout",
     "output_type": "stream",
     "text": [
      "0.254477\n"
     ]
    }
   ],
   "source": [
    "print(get_distance(crdfile, topfile))"
   ]
  },
  {
   "cell_type": "code",
   "execution_count": 99,
   "id": "265b3477",
   "metadata": {},
   "outputs": [],
   "source": [
    "logs, restarts, trajs = client.map(md, [restart2] * 5, topfile)"
   ]
  },
  {
   "cell_type": "code",
   "execution_count": 101,
   "id": "5f7a5844",
   "metadata": {},
   "outputs": [
    {
     "name": "stdout",
     "output_type": "stream",
     "text": [
      "1.0961728\n",
      "0.3932048\n",
      "1.2195426\n",
      "0.41828528\n",
      "1.3939843\n"
     ]
    }
   ],
   "source": [
    "for r in restarts:\n",
    "    print(get_distance(r.result(), topfile))"
   ]
  },
  {
   "cell_type": "code",
   "execution_count": 103,
   "id": "10381f18",
   "metadata": {},
   "outputs": [],
   "source": [
    "distances = [get_distance(r.result(), topfile) for r in restarts]"
   ]
  },
  {
   "cell_type": "code",
   "execution_count": 104,
   "id": "dd0e1578",
   "metadata": {},
   "outputs": [],
   "source": [
    "furthest = distances.index(max(distances))"
   ]
  },
  {
   "cell_type": "code",
   "execution_count": 105,
   "id": "485fdc6e",
   "metadata": {},
   "outputs": [],
   "source": [
    "logs, restarts, trajs = client.map(md, [restarts[furthest]] * 5, topfile)"
   ]
  },
  {
   "cell_type": "code",
   "execution_count": 108,
   "id": "1d313c2a",
   "metadata": {},
   "outputs": [
    {
     "name": "stdout",
     "output_type": "stream",
     "text": [
      "1.7472494\n",
      "1.8796166\n",
      "1.2622313\n",
      "1.4575677\n",
      "1.6736182\n"
     ]
    }
   ],
   "source": [
    "for r in restarts:\n",
    "    print(get_distance(r.result(), topfile))"
   ]
  },
  {
   "cell_type": "code",
   "execution_count": 109,
   "id": "317dd700",
   "metadata": {},
   "outputs": [
    {
     "name": "stdout",
     "output_type": "stream",
     "text": [
      "1.7522186\n",
      "2.2407331\n",
      "2.5816925\n",
      "3.3326123\n",
      "4.0655303\n",
      "4.624699\n",
      "4.951242\n",
      "5.2860804\n",
      "5.6091743\n",
      "5.896824\n"
     ]
    }
   ],
   "source": [
    "for cycle in range(10):\n",
    "    logs, restarts, trajs = client.map(md, [restarts[furthest]] * 5, topfile)\n",
    "    distances = [get_distance(r.result(), topfile) for r in restarts]\n",
    "    furthest = distances.index(max(distances))\n",
    "    print(distances[furthest])\n",
    "    "
   ]
  },
  {
   "cell_type": "code",
   "execution_count": null,
   "id": "3aa04c0f",
   "metadata": {},
   "outputs": [],
   "source": []
  }
 ],
 "metadata": {
  "kernelspec": {
   "display_name": "Python 3 (ipykernel)",
   "language": "python",
   "name": "python3"
  },
  "language_info": {
   "codemirror_mode": {
    "name": "ipython",
    "version": 3
   },
   "file_extension": ".py",
   "mimetype": "text/x-python",
   "name": "python",
   "nbconvert_exporter": "python",
   "pygments_lexer": "ipython3",
   "version": "3.9.10"
  }
 },
 "nbformat": 4,
 "nbformat_minor": 5
}
